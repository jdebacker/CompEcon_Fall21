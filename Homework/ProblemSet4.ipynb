{
 "cells": [
  {
   "cell_type": "markdown",
   "id": "ad54b08f",
   "metadata": {},
   "source": [
    "# Problemset 4: Optimization\n",
    "## Assignment:\n",
    "\n",
    "1. Select only male heads of the household between 25 and 60 years of age that earn > \\$7/hr.\n",
    "2. Create indicator and continuous variables.\n",
    "3. Estimate the following model via a maximum likelihood estimator separately for t = 1971, 1980, 1990, and 2000.\n",
    "\n",
    "$ln(w_{i,t}) = \\alpha + \\beta_{1}Educ_{i,t} + \\beta_{2}Age_{i,t} + \\beta_{3}Age^{2}_{i,t} + \\beta_{4}Black_{i,t} + \\beta_{5}Hispanic_{i,t} + \\beta_{6}OtherRace_{i,t} + \\epsilon_{i,t}$\n",
    "\n",
    "4. Interpret the coefficient $\\beta_{1}$. How do the returns to education change over time in these data?"
   ]
  },
  {
   "cell_type": "markdown",
   "id": "985bbe0d",
   "metadata": {},
   "source": [
    "## The Data"
   ]
  },
  {
   "cell_type": "code",
   "execution_count": 1,
   "id": "218adf97",
   "metadata": {},
   "outputs": [],
   "source": [
    "# importing packages\n",
    "import pandas as pd\n",
    "import numpy as np\n",
    "import scipy.optimize as opt\n",
    "import statsmodels.api as sm\n",
    "import math\n",
    "import time"
   ]
  },
  {
   "cell_type": "code",
   "execution_count": 2,
   "id": "295cf91a",
   "metadata": {},
   "outputs": [
    {
     "data": {
      "text/html": [
       "<div>\n",
       "<style scoped>\n",
       "    .dataframe tbody tr th:only-of-type {\n",
       "        vertical-align: middle;\n",
       "    }\n",
       "\n",
       "    .dataframe tbody tr th {\n",
       "        vertical-align: top;\n",
       "    }\n",
       "\n",
       "    .dataframe thead th {\n",
       "        text-align: right;\n",
       "    }\n",
       "</style>\n",
       "<table border=\"1\" class=\"dataframe\">\n",
       "  <thead>\n",
       "    <tr style=\"text-align: right;\">\n",
       "      <th></th>\n",
       "      <th>id68</th>\n",
       "      <th>year</th>\n",
       "      <th>intid</th>\n",
       "      <th>relhh</th>\n",
       "      <th>hannhrs</th>\n",
       "      <th>wannhrs</th>\n",
       "      <th>hlabinc</th>\n",
       "      <th>wlabinc</th>\n",
       "      <th>nochild</th>\n",
       "      <th>wrace</th>\n",
       "      <th>...</th>\n",
       "      <th>redpregovinc</th>\n",
       "      <th>hsex</th>\n",
       "      <th>wsex</th>\n",
       "      <th>age</th>\n",
       "      <th>wage</th>\n",
       "      <th>hpersno</th>\n",
       "      <th>wpersno</th>\n",
       "      <th>hyrsed</th>\n",
       "      <th>wyrsed</th>\n",
       "      <th>pce</th>\n",
       "    </tr>\n",
       "  </thead>\n",
       "  <tbody>\n",
       "    <tr>\n",
       "      <th>0</th>\n",
       "      <td>1</td>\n",
       "      <td>1967</td>\n",
       "      <td>1</td>\n",
       "      <td>Head</td>\n",
       "      <td>1200.0</td>\n",
       "      <td>2000.0</td>\n",
       "      <td>NaN</td>\n",
       "      <td>NaN</td>\n",
       "      <td>0</td>\n",
       "      <td>NaN</td>\n",
       "      <td>...</td>\n",
       "      <td>5614.0</td>\n",
       "      <td>1.0</td>\n",
       "      <td>2.0</td>\n",
       "      <td>52.0</td>\n",
       "      <td>46.0</td>\n",
       "      <td>1.0</td>\n",
       "      <td>2.0</td>\n",
       "      <td>8.0</td>\n",
       "      <td>8.0</td>\n",
       "      <td>0.0</td>\n",
       "    </tr>\n",
       "    <tr>\n",
       "      <th>1</th>\n",
       "      <td>2</td>\n",
       "      <td>1967</td>\n",
       "      <td>2</td>\n",
       "      <td>Head</td>\n",
       "      <td>0.0</td>\n",
       "      <td>0.0</td>\n",
       "      <td>NaN</td>\n",
       "      <td>NaN</td>\n",
       "      <td>0</td>\n",
       "      <td>NaN</td>\n",
       "      <td>...</td>\n",
       "      <td>0.0</td>\n",
       "      <td>1.0</td>\n",
       "      <td>2.0</td>\n",
       "      <td>56.0</td>\n",
       "      <td>57.0</td>\n",
       "      <td>1.0</td>\n",
       "      <td>2.0</td>\n",
       "      <td>3.0</td>\n",
       "      <td>3.0</td>\n",
       "      <td>0.0</td>\n",
       "    </tr>\n",
       "    <tr>\n",
       "      <th>2</th>\n",
       "      <td>3</td>\n",
       "      <td>1967</td>\n",
       "      <td>3</td>\n",
       "      <td>Head</td>\n",
       "      <td>0.0</td>\n",
       "      <td>0.0</td>\n",
       "      <td>NaN</td>\n",
       "      <td>NaN</td>\n",
       "      <td>0</td>\n",
       "      <td>NaN</td>\n",
       "      <td>...</td>\n",
       "      <td>0.0</td>\n",
       "      <td>1.0</td>\n",
       "      <td>2.0</td>\n",
       "      <td>77.0</td>\n",
       "      <td>64.0</td>\n",
       "      <td>1.0</td>\n",
       "      <td>2.0</td>\n",
       "      <td>NaN</td>\n",
       "      <td>3.0</td>\n",
       "      <td>0.0</td>\n",
       "    </tr>\n",
       "    <tr>\n",
       "      <th>3</th>\n",
       "      <td>4</td>\n",
       "      <td>1967</td>\n",
       "      <td>4</td>\n",
       "      <td>Head</td>\n",
       "      <td>1560.0</td>\n",
       "      <td>0.0</td>\n",
       "      <td>NaN</td>\n",
       "      <td>NaN</td>\n",
       "      <td>6</td>\n",
       "      <td>1.0</td>\n",
       "      <td>...</td>\n",
       "      <td>3280.0</td>\n",
       "      <td>1.0</td>\n",
       "      <td>2.0</td>\n",
       "      <td>45.0</td>\n",
       "      <td>44.0</td>\n",
       "      <td>1.0</td>\n",
       "      <td>2.0</td>\n",
       "      <td>8.0</td>\n",
       "      <td>5.0</td>\n",
       "      <td>0.0</td>\n",
       "    </tr>\n",
       "    <tr>\n",
       "      <th>4</th>\n",
       "      <td>5</td>\n",
       "      <td>1967</td>\n",
       "      <td>5</td>\n",
       "      <td>Head</td>\n",
       "      <td>2500.0</td>\n",
       "      <td>2000.0</td>\n",
       "      <td>NaN</td>\n",
       "      <td>NaN</td>\n",
       "      <td>3</td>\n",
       "      <td>1.0</td>\n",
       "      <td>...</td>\n",
       "      <td>7900.0</td>\n",
       "      <td>1.0</td>\n",
       "      <td>2.0</td>\n",
       "      <td>24.0</td>\n",
       "      <td>22.0</td>\n",
       "      <td>1.0</td>\n",
       "      <td>2.0</td>\n",
       "      <td>10.0</td>\n",
       "      <td>9.0</td>\n",
       "      <td>0.0</td>\n",
       "    </tr>\n",
       "  </tbody>\n",
       "</table>\n",
       "<p>5 rows × 52 columns</p>\n",
       "</div>"
      ],
      "text/plain": [
       "   id68  year  intid relhh  hannhrs  wannhrs  hlabinc  wlabinc  nochild  \\\n",
       "0     1  1967      1  Head   1200.0   2000.0      NaN      NaN        0   \n",
       "1     2  1967      2  Head      0.0      0.0      NaN      NaN        0   \n",
       "2     3  1967      3  Head      0.0      0.0      NaN      NaN        0   \n",
       "3     4  1967      4  Head   1560.0      0.0      NaN      NaN        6   \n",
       "4     5  1967      5  Head   2500.0   2000.0      NaN      NaN        3   \n",
       "\n",
       "   wrace  ...  redpregovinc  hsex  wsex   age  wage  hpersno  wpersno  hyrsed  \\\n",
       "0    NaN  ...        5614.0   1.0   2.0  52.0  46.0      1.0      2.0     8.0   \n",
       "1    NaN  ...           0.0   1.0   2.0  56.0  57.0      1.0      2.0     3.0   \n",
       "2    NaN  ...           0.0   1.0   2.0  77.0  64.0      1.0      2.0     NaN   \n",
       "3    1.0  ...        3280.0   1.0   2.0  45.0  44.0      1.0      2.0     8.0   \n",
       "4    1.0  ...        7900.0   1.0   2.0  24.0  22.0      1.0      2.0    10.0   \n",
       "\n",
       "   wyrsed  pce  \n",
       "0     8.0  0.0  \n",
       "1     3.0  0.0  \n",
       "2     3.0  0.0  \n",
       "3     5.0  0.0  \n",
       "4     9.0  0.0  \n",
       "\n",
       "[5 rows x 52 columns]"
      ]
     },
     "execution_count": 2,
     "metadata": {},
     "output_type": "execute_result"
    }
   ],
   "source": [
    "# read in the data\n",
    "data = pd.read_stata('PS4_data.dta')\n",
    "\n",
    "# becoming familiar with the data\n",
    "data.head(n=5)"
   ]
  },
  {
   "cell_type": "code",
   "execution_count": 3,
   "id": "2cd719ab",
   "metadata": {},
   "outputs": [
    {
     "data": {
      "text/html": [
       "<div>\n",
       "<style scoped>\n",
       "    .dataframe tbody tr th:only-of-type {\n",
       "        vertical-align: middle;\n",
       "    }\n",
       "\n",
       "    .dataframe tbody tr th {\n",
       "        vertical-align: top;\n",
       "    }\n",
       "\n",
       "    .dataframe thead th {\n",
       "        text-align: right;\n",
       "    }\n",
       "</style>\n",
       "<table border=\"1\" class=\"dataframe\">\n",
       "  <thead>\n",
       "    <tr style=\"text-align: right;\">\n",
       "      <th></th>\n",
       "      <th>id68</th>\n",
       "      <th>year</th>\n",
       "      <th>intid</th>\n",
       "      <th>hannhrs</th>\n",
       "      <th>wannhrs</th>\n",
       "      <th>hlabinc</th>\n",
       "      <th>wlabinc</th>\n",
       "      <th>nochild</th>\n",
       "      <th>wrace</th>\n",
       "      <th>hrace</th>\n",
       "      <th>...</th>\n",
       "      <th>redpregovinc</th>\n",
       "      <th>hsex</th>\n",
       "      <th>wsex</th>\n",
       "      <th>age</th>\n",
       "      <th>wage</th>\n",
       "      <th>hpersno</th>\n",
       "      <th>wpersno</th>\n",
       "      <th>hyrsed</th>\n",
       "      <th>wyrsed</th>\n",
       "      <th>pce</th>\n",
       "    </tr>\n",
       "  </thead>\n",
       "  <tbody>\n",
       "    <tr>\n",
       "      <th>count</th>\n",
       "      <td>123786.000000</td>\n",
       "      <td>123786.000000</td>\n",
       "      <td>123786.000000</td>\n",
       "      <td>123786.000000</td>\n",
       "      <td>123786.000000</td>\n",
       "      <td>9.023300e+04</td>\n",
       "      <td>48496.000000</td>\n",
       "      <td>123786.000000</td>\n",
       "      <td>90603.000000</td>\n",
       "      <td>123656.000000</td>\n",
       "      <td>...</td>\n",
       "      <td>1.237860e+05</td>\n",
       "      <td>123786.000000</td>\n",
       "      <td>80758.0</td>\n",
       "      <td>123786.000000</td>\n",
       "      <td>80758.000000</td>\n",
       "      <td>123786.000000</td>\n",
       "      <td>80758.000000</td>\n",
       "      <td>122809.000000</td>\n",
       "      <td>80091.000000</td>\n",
       "      <td>123786.000000</td>\n",
       "    </tr>\n",
       "    <tr>\n",
       "      <th>mean</th>\n",
       "      <td>1494.639475</td>\n",
       "      <td>1984.831273</td>\n",
       "      <td>3271.379429</td>\n",
       "      <td>1679.269897</td>\n",
       "      <td>633.026917</td>\n",
       "      <td>4.211505e+04</td>\n",
       "      <td>22026.289062</td>\n",
       "      <td>0.843771</td>\n",
       "      <td>1.098220</td>\n",
       "      <td>1.129731</td>\n",
       "      <td>...</td>\n",
       "      <td>3.012258e+04</td>\n",
       "      <td>1.233072</td>\n",
       "      <td>2.0</td>\n",
       "      <td>45.545547</td>\n",
       "      <td>41.390785</td>\n",
       "      <td>39.620201</td>\n",
       "      <td>55.346169</td>\n",
       "      <td>12.666091</td>\n",
       "      <td>12.720081</td>\n",
       "      <td>0.557690</td>\n",
       "    </tr>\n",
       "    <tr>\n",
       "      <th>std</th>\n",
       "      <td>838.901790</td>\n",
       "      <td>9.836212</td>\n",
       "      <td>2277.056058</td>\n",
       "      <td>1061.704712</td>\n",
       "      <td>878.422791</td>\n",
       "      <td>4.670424e+04</td>\n",
       "      <td>21336.107422</td>\n",
       "      <td>1.182829</td>\n",
       "      <td>0.356161</td>\n",
       "      <td>0.394627</td>\n",
       "      <td>...</td>\n",
       "      <td>4.588795e+04</td>\n",
       "      <td>0.422940</td>\n",
       "      <td>0.0</td>\n",
       "      <td>17.623671</td>\n",
       "      <td>14.786721</td>\n",
       "      <td>69.003265</td>\n",
       "      <td>77.864296</td>\n",
       "      <td>2.917721</td>\n",
       "      <td>2.422607</td>\n",
       "      <td>0.265198</td>\n",
       "    </tr>\n",
       "    <tr>\n",
       "      <th>min</th>\n",
       "      <td>1.000000</td>\n",
       "      <td>1967.000000</td>\n",
       "      <td>1.000000</td>\n",
       "      <td>0.000000</td>\n",
       "      <td>0.000000</td>\n",
       "      <td>6.353981e-01</td>\n",
       "      <td>1.192780</td>\n",
       "      <td>0.000000</td>\n",
       "      <td>1.000000</td>\n",
       "      <td>1.000000</td>\n",
       "      <td>...</td>\n",
       "      <td>-1.324040e+05</td>\n",
       "      <td>1.000000</td>\n",
       "      <td>2.0</td>\n",
       "      <td>16.000000</td>\n",
       "      <td>13.000000</td>\n",
       "      <td>1.000000</td>\n",
       "      <td>1.000000</td>\n",
       "      <td>1.000000</td>\n",
       "      <td>1.000000</td>\n",
       "      <td>0.000000</td>\n",
       "    </tr>\n",
       "    <tr>\n",
       "      <th>25%</th>\n",
       "      <td>772.000000</td>\n",
       "      <td>1977.000000</td>\n",
       "      <td>1444.000000</td>\n",
       "      <td>832.000000</td>\n",
       "      <td>0.000000</td>\n",
       "      <td>1.979858e+04</td>\n",
       "      <td>8016.247070</td>\n",
       "      <td>0.000000</td>\n",
       "      <td>1.000000</td>\n",
       "      <td>1.000000</td>\n",
       "      <td>...</td>\n",
       "      <td>7.700000e+03</td>\n",
       "      <td>1.000000</td>\n",
       "      <td>2.0</td>\n",
       "      <td>31.000000</td>\n",
       "      <td>29.000000</td>\n",
       "      <td>1.000000</td>\n",
       "      <td>2.000000</td>\n",
       "      <td>12.000000</td>\n",
       "      <td>12.000000</td>\n",
       "      <td>0.362158</td>\n",
       "    </tr>\n",
       "    <tr>\n",
       "      <th>50%</th>\n",
       "      <td>1517.000000</td>\n",
       "      <td>1985.000000</td>\n",
       "      <td>2984.000000</td>\n",
       "      <td>1976.000000</td>\n",
       "      <td>0.000000</td>\n",
       "      <td>3.460022e+04</td>\n",
       "      <td>18122.412109</td>\n",
       "      <td>0.000000</td>\n",
       "      <td>1.000000</td>\n",
       "      <td>1.000000</td>\n",
       "      <td>...</td>\n",
       "      <td>1.900000e+04</td>\n",
       "      <td>1.000000</td>\n",
       "      <td>2.0</td>\n",
       "      <td>42.000000</td>\n",
       "      <td>39.000000</td>\n",
       "      <td>3.000000</td>\n",
       "      <td>3.000000</td>\n",
       "      <td>12.000000</td>\n",
       "      <td>12.000000</td>\n",
       "      <td>0.599887</td>\n",
       "    </tr>\n",
       "    <tr>\n",
       "      <th>75%</th>\n",
       "      <td>2224.000000</td>\n",
       "      <td>1993.000000</td>\n",
       "      <td>4763.000000</td>\n",
       "      <td>2350.000000</td>\n",
       "      <td>1454.000000</td>\n",
       "      <td>5.267309e+04</td>\n",
       "      <td>30256.060547</td>\n",
       "      <td>2.000000</td>\n",
       "      <td>1.000000</td>\n",
       "      <td>1.000000</td>\n",
       "      <td>...</td>\n",
       "      <td>3.910775e+04</td>\n",
       "      <td>1.000000</td>\n",
       "      <td>2.0</td>\n",
       "      <td>58.000000</td>\n",
       "      <td>51.000000</td>\n",
       "      <td>22.000000</td>\n",
       "      <td>170.000000</td>\n",
       "      <td>15.000000</td>\n",
       "      <td>14.000000</td>\n",
       "      <td>0.786908</td>\n",
       "    </tr>\n",
       "    <tr>\n",
       "      <th>max</th>\n",
       "      <td>2930.000000</td>\n",
       "      <td>2002.000000</td>\n",
       "      <td>16968.000000</td>\n",
       "      <td>7800.000000</td>\n",
       "      <td>5840.000000</td>\n",
       "      <td>3.771521e+06</td>\n",
       "      <td>856942.062500</td>\n",
       "      <td>11.000000</td>\n",
       "      <td>8.000000</td>\n",
       "      <td>8.000000</td>\n",
       "      <td>...</td>\n",
       "      <td>3.660000e+06</td>\n",
       "      <td>2.000000</td>\n",
       "      <td>2.0</td>\n",
       "      <td>102.000000</td>\n",
       "      <td>95.000000</td>\n",
       "      <td>227.000000</td>\n",
       "      <td>231.000000</td>\n",
       "      <td>17.000000</td>\n",
       "      <td>17.000000</td>\n",
       "      <td>0.928007</td>\n",
       "    </tr>\n",
       "  </tbody>\n",
       "</table>\n",
       "<p>8 rows × 51 columns</p>\n",
       "</div>"
      ],
      "text/plain": [
       "                id68           year          intid        hannhrs  \\\n",
       "count  123786.000000  123786.000000  123786.000000  123786.000000   \n",
       "mean     1494.639475    1984.831273    3271.379429    1679.269897   \n",
       "std       838.901790       9.836212    2277.056058    1061.704712   \n",
       "min         1.000000    1967.000000       1.000000       0.000000   \n",
       "25%       772.000000    1977.000000    1444.000000     832.000000   \n",
       "50%      1517.000000    1985.000000    2984.000000    1976.000000   \n",
       "75%      2224.000000    1993.000000    4763.000000    2350.000000   \n",
       "max      2930.000000    2002.000000   16968.000000    7800.000000   \n",
       "\n",
       "             wannhrs       hlabinc        wlabinc        nochild  \\\n",
       "count  123786.000000  9.023300e+04   48496.000000  123786.000000   \n",
       "mean      633.026917  4.211505e+04   22026.289062       0.843771   \n",
       "std       878.422791  4.670424e+04   21336.107422       1.182829   \n",
       "min         0.000000  6.353981e-01       1.192780       0.000000   \n",
       "25%         0.000000  1.979858e+04    8016.247070       0.000000   \n",
       "50%         0.000000  3.460022e+04   18122.412109       0.000000   \n",
       "75%      1454.000000  5.267309e+04   30256.060547       2.000000   \n",
       "max      5840.000000  3.771521e+06  856942.062500      11.000000   \n",
       "\n",
       "              wrace          hrace  ...  redpregovinc           hsex     wsex  \\\n",
       "count  90603.000000  123656.000000  ...  1.237860e+05  123786.000000  80758.0   \n",
       "mean       1.098220       1.129731  ...  3.012258e+04       1.233072      2.0   \n",
       "std        0.356161       0.394627  ...  4.588795e+04       0.422940      0.0   \n",
       "min        1.000000       1.000000  ... -1.324040e+05       1.000000      2.0   \n",
       "25%        1.000000       1.000000  ...  7.700000e+03       1.000000      2.0   \n",
       "50%        1.000000       1.000000  ...  1.900000e+04       1.000000      2.0   \n",
       "75%        1.000000       1.000000  ...  3.910775e+04       1.000000      2.0   \n",
       "max        8.000000       8.000000  ...  3.660000e+06       2.000000      2.0   \n",
       "\n",
       "                 age          wage        hpersno       wpersno  \\\n",
       "count  123786.000000  80758.000000  123786.000000  80758.000000   \n",
       "mean       45.545547     41.390785      39.620201     55.346169   \n",
       "std        17.623671     14.786721      69.003265     77.864296   \n",
       "min        16.000000     13.000000       1.000000      1.000000   \n",
       "25%        31.000000     29.000000       1.000000      2.000000   \n",
       "50%        42.000000     39.000000       3.000000      3.000000   \n",
       "75%        58.000000     51.000000      22.000000    170.000000   \n",
       "max       102.000000     95.000000     227.000000    231.000000   \n",
       "\n",
       "              hyrsed        wyrsed            pce  \n",
       "count  122809.000000  80091.000000  123786.000000  \n",
       "mean       12.666091     12.720081       0.557690  \n",
       "std         2.917721      2.422607       0.265198  \n",
       "min         1.000000      1.000000       0.000000  \n",
       "25%        12.000000     12.000000       0.362158  \n",
       "50%        12.000000     12.000000       0.599887  \n",
       "75%        15.000000     14.000000       0.786908  \n",
       "max        17.000000     17.000000       0.928007  \n",
       "\n",
       "[8 rows x 51 columns]"
      ]
     },
     "execution_count": 3,
     "metadata": {},
     "output_type": "execute_result"
    }
   ],
   "source": [
    "# general descriptive data\n",
    "data.describe()"
   ]
  },
  {
   "cell_type": "markdown",
   "id": "ced0ead8",
   "metadata": {},
   "source": [
    "## Cleaning & preprocessing the data"
   ]
  },
  {
   "cell_type": "code",
   "execution_count": 4,
   "id": "161b494f",
   "metadata": {},
   "outputs": [],
   "source": [
    "#Choose only those observations that have male heads of households, are between 25 and 60 years of age \n",
    "#and earn wages > $7/hr\n",
    "\n",
    "data = data[(data['hannhrs'] > 0)]\n",
    "data['hrlywage'] = data['hlabinc'] / data['hannhrs']\n",
    "data = data[(data['hsex'] == 1) & \n",
    "            (data['age'] >= 25) & \n",
    "            (data['age'] <= 60) & \n",
    "            (data['hrlywage'] >= 7)]"
   ]
  },
  {
   "cell_type": "code",
   "execution_count": 5,
   "id": "9c38f6b1",
   "metadata": {},
   "outputs": [
    {
     "data": {
      "text/html": [
       "<div>\n",
       "<style scoped>\n",
       "    .dataframe tbody tr th:only-of-type {\n",
       "        vertical-align: middle;\n",
       "    }\n",
       "\n",
       "    .dataframe tbody tr th {\n",
       "        vertical-align: top;\n",
       "    }\n",
       "\n",
       "    .dataframe thead th {\n",
       "        text-align: right;\n",
       "    }\n",
       "</style>\n",
       "<table border=\"1\" class=\"dataframe\">\n",
       "  <thead>\n",
       "    <tr style=\"text-align: right;\">\n",
       "      <th></th>\n",
       "      <th>year</th>\n",
       "      <th>lnwage</th>\n",
       "      <th>hyrsed</th>\n",
       "      <th>age</th>\n",
       "      <th>black</th>\n",
       "      <th>hispanic</th>\n",
       "      <th>other</th>\n",
       "    </tr>\n",
       "  </thead>\n",
       "  <tbody>\n",
       "    <tr>\n",
       "      <th>count</th>\n",
       "      <td>57477.000000</td>\n",
       "      <td>57477.000000</td>\n",
       "      <td>57097.000000</td>\n",
       "      <td>57477.000000</td>\n",
       "      <td>57477.000000</td>\n",
       "      <td>57477.0</td>\n",
       "      <td>57477.000000</td>\n",
       "    </tr>\n",
       "    <tr>\n",
       "      <th>mean</th>\n",
       "      <td>1986.635245</td>\n",
       "      <td>3.010414</td>\n",
       "      <td>13.529993</td>\n",
       "      <td>39.224247</td>\n",
       "      <td>0.056388</td>\n",
       "      <td>0.0</td>\n",
       "      <td>0.023035</td>\n",
       "    </tr>\n",
       "    <tr>\n",
       "      <th>std</th>\n",
       "      <td>8.744894</td>\n",
       "      <td>0.543891</td>\n",
       "      <td>2.449510</td>\n",
       "      <td>9.579065</td>\n",
       "      <td>0.230671</td>\n",
       "      <td>0.0</td>\n",
       "      <td>0.150017</td>\n",
       "    </tr>\n",
       "    <tr>\n",
       "      <th>min</th>\n",
       "      <td>1971.000000</td>\n",
       "      <td>1.945946</td>\n",
       "      <td>1.000000</td>\n",
       "      <td>25.000000</td>\n",
       "      <td>0.000000</td>\n",
       "      <td>0.0</td>\n",
       "      <td>0.000000</td>\n",
       "    </tr>\n",
       "    <tr>\n",
       "      <th>25%</th>\n",
       "      <td>1979.000000</td>\n",
       "      <td>2.635309</td>\n",
       "      <td>12.000000</td>\n",
       "      <td>31.000000</td>\n",
       "      <td>0.000000</td>\n",
       "      <td>0.0</td>\n",
       "      <td>0.000000</td>\n",
       "    </tr>\n",
       "    <tr>\n",
       "      <th>50%</th>\n",
       "      <td>1987.000000</td>\n",
       "      <td>2.990979</td>\n",
       "      <td>13.000000</td>\n",
       "      <td>38.000000</td>\n",
       "      <td>0.000000</td>\n",
       "      <td>0.0</td>\n",
       "      <td>0.000000</td>\n",
       "    </tr>\n",
       "    <tr>\n",
       "      <th>75%</th>\n",
       "      <td>1994.000000</td>\n",
       "      <td>3.324576</td>\n",
       "      <td>16.000000</td>\n",
       "      <td>47.000000</td>\n",
       "      <td>0.000000</td>\n",
       "      <td>0.0</td>\n",
       "      <td>0.000000</td>\n",
       "    </tr>\n",
       "    <tr>\n",
       "      <th>max</th>\n",
       "      <td>2002.000000</td>\n",
       "      <td>7.448526</td>\n",
       "      <td>17.000000</td>\n",
       "      <td>60.000000</td>\n",
       "      <td>1.000000</td>\n",
       "      <td>0.0</td>\n",
       "      <td>1.000000</td>\n",
       "    </tr>\n",
       "  </tbody>\n",
       "</table>\n",
       "</div>"
      ],
      "text/plain": [
       "               year        lnwage        hyrsed           age         black  \\\n",
       "count  57477.000000  57477.000000  57097.000000  57477.000000  57477.000000   \n",
       "mean    1986.635245      3.010414     13.529993     39.224247      0.056388   \n",
       "std        8.744894      0.543891      2.449510      9.579065      0.230671   \n",
       "min     1971.000000      1.945946      1.000000     25.000000      0.000000   \n",
       "25%     1979.000000      2.635309     12.000000     31.000000      0.000000   \n",
       "50%     1987.000000      2.990979     13.000000     38.000000      0.000000   \n",
       "75%     1994.000000      3.324576     16.000000     47.000000      0.000000   \n",
       "max     2002.000000      7.448526     17.000000     60.000000      1.000000   \n",
       "\n",
       "       hispanic         other  \n",
       "count   57477.0  57477.000000  \n",
       "mean        0.0      0.023035  \n",
       "std         0.0      0.150017  \n",
       "min         0.0      0.000000  \n",
       "25%         0.0      0.000000  \n",
       "50%         0.0      0.000000  \n",
       "75%         0.0      0.000000  \n",
       "max         0.0      1.000000  "
      ]
     },
     "execution_count": 5,
     "metadata": {},
     "output_type": "execute_result"
    }
   ],
   "source": [
    "#Create race dummy variables\n",
    "\n",
    "data['black'] = (data['hrace'] == 2).astype(int)\n",
    "data['hispanic'] = (data['hrace'] == 5).astype(int)\n",
    "data['other'] = ((data['hrace'] == 3) | \n",
    "                 (data['hrace'] == 4) | \n",
    "                 (data['hrace'] == 6) | \n",
    "                 (data['hrace'] == 7)).astype(int)\n",
    "\n",
    "\n",
    "#Create log of hourly wage (dependent variable)\n",
    "\n",
    "data['lnwage'] = np.log(data['hrlywage'])\n",
    "\n",
    "#Keep only the needed variables - log of wages, education, age, race dummies\n",
    "\n",
    "data = data[['year','lnwage','hyrsed','age','black','hispanic','other']]\n",
    "\n",
    "data.describe()"
   ]
  },
  {
   "cell_type": "markdown",
   "id": "749b05ea",
   "metadata": {},
   "source": [
    "$\\color{red}{\\text{We do not have any hispanics in our dataset.}}$\n",
    "\n",
    "## The optimizer\n",
    "\n",
    "We now define the log-likelihood function that needs to be maximized in order to obtain the parameter estimates of the model$\\color{red}{*}$.\n",
    "\n",
    "$$ l(\\alpha, \\beta) = \\ln(\\prod\\limits_{i=1}^N p(y_i\\mid x_i,\\alpha,\\beta) = \\sum\\limits_{i=1}^N \\ln p(y_i\\mid x_i,\\alpha,\\beta) $$\n",
    "We assume that $\\epsilon_i \\sim N(0,\\sigma^2)$. This leads to the likelihood function being of the form\n",
    "\n",
    "$$ \\begin{split} l(\\alpha, \\beta, \\sigma^2) &= \\sum\\limits_{i=1}^N \\ln\\left[\\left(\\frac{1}{2\\pi\\sigma^2}\\right)^{1/2}\\exp\\left(-\\frac{1}{2\\pi\\sigma^2}\\left(y_i - \\alpha - \\beta^T x_i\\right)^2\\right)\\right] \\\\ &= \\frac{N}{2} \\ln\\left(\\frac{1}{2\\pi\\sigma^2}\\right) - \\frac{1}{2\\sigma^2}\\sum\\limits_{i=1}^N\\left(y_i - \\alpha - \\beta^T x_i\\right)^2 \\end{split} $$\n",
    "We need to find $\\alpha$, $\\beta$ and $\\sigma^2$ that maximize the above function. We begin by defining this function and then use a numerical optimization technique to find these maxima.\n",
    "\n",
    "$\\color{red}{\\text{*Taken from outside sources and senior students.}}$"
   ]
  },
  {
   "cell_type": "code",
   "execution_count": 6,
   "id": "97e854ba",
   "metadata": {},
   "outputs": [],
   "source": [
    "# defining the function\n",
    "def mle(Beta, yearly_data):\n",
    "    '''\n",
    "    Computes the value of the log-likelihood function that we need to maximize\n",
    "    \n",
    "    Args:\n",
    "        Beta: A 7 component tuple for the model parameters (sigmasq, alpha, beta1, beta2, beta3, beta4, beta5)\n",
    "        yearly_data: Data of the particular year for which the model is to be estimated\n",
    "        \n",
    "    Returns:\n",
    "        ll_val: Value of the log-likelihood function\n",
    "    '''\n",
    "    \n",
    "    sigmasq, alpha, beta1, beta2, beta3, beta4, beta5 = Beta\n",
    "    \n",
    "    SSE = ((yearly_data['lnwage'] - alpha - (beta1 * yearly_data['hyrsed'] + \n",
    "                                             beta2 * yearly_data['age'] + \n",
    "                                             beta3 * yearly_data['age'] ** 2 +\n",
    "                                             beta4 * yearly_data['black'] + \n",
    "                                             beta5 * yearly_data['other'])) ** 2).sum()\n",
    "    \n",
    "    n = len(yearly_data)\n",
    "    \n",
    "    #Compute the log-likelihood\n",
    "    #We use the negative log-likelihood since we're call a minimization routine\n",
    "    \n",
    "    ll_val = -((n / 2) * (np.log(1 / 2 * np.pi * sigmasq)) - (1 / 2 * sigmasq) * SSE)\n",
    "    \n",
    "    return ll_val"
   ]
  },
  {
   "cell_type": "markdown",
   "id": "9a036375",
   "metadata": {},
   "source": [
    "## Optimization for the individual years\n",
    "We optimize for each year individually. I assume there must be a faster way to do this using for loops, but I couldn't figure it out.\n",
    "\n",
    "Also, I used the Nelder-Mead method rather than the Golden ratio as used in the example because it did not recognize the \"Golden\" method."
   ]
  },
  {
   "cell_type": "markdown",
   "id": "04db0c0e",
   "metadata": {},
   "source": [
    "### Optimization for year = 1971"
   ]
  },
  {
   "cell_type": "code",
   "execution_count": 7,
   "id": "b1b57714",
   "metadata": {},
   "outputs": [
    {
     "name": "stdout",
     "output_type": "stream",
     "text": [
      "The estimates for 1971 are:\n",
      "alpha =  6.317625760179212\n",
      "beta1 =  0.05318932744521896\n",
      "beta2 =  -0.21729546245527204\n",
      "beta3 =  0.0027329494228654156\n",
      "beta4 =  0.2958664277444321\n",
      "beta5 =  -0.002923590962383862\n"
     ]
    }
   ],
   "source": [
    "data_71 = data[(data['year'] == 1971)]\n",
    "\n",
    "#We use the correlation between variables as the initial values for the beta's,\n",
    "#the variance of the dependent variable as the initial value for sigmasq, and\n",
    "#the mean of the dependent variable as the initial value for alpha\n",
    "\n",
    "sig_start = (data_71.loc[:,'lnwage'].std())**2\n",
    "alpha_start = data_71.loc[:,'lnwage'].mean()\n",
    "\n",
    "Beta0 = (sig_start, \n",
    "         alpha_start, \n",
    "         data_71['lnwage'].corr(data_71['hyrsed']),\n",
    "         data_71['lnwage'].corr(data_71['age']), \n",
    "         data_71['lnwage'].corr(data_71['age']), \n",
    "         data_71['lnwage'].corr(data_71['black']),\n",
    "         data_71['lnwage'].corr(data_71['other']))\n",
    "\n",
    "# Use Nelder-Mead to minimize the negative of the log-likelihood function\n",
    "\n",
    "min_results_71 = opt.minimize(mle, \n",
    "                              Beta0, \n",
    "                              args=(data_71),\n",
    "                              method=\"Nelder-Mead\", \n",
    "                              tol=1e-15)\n",
    "\n",
    "print('The estimates for 1971 are:')\n",
    "print('alpha = ', min_results_71['x'][1])\n",
    "print('beta1 = ', min_results_71['x'][2])\n",
    "print('beta2 = ', min_results_71['x'][3])\n",
    "print('beta3 = ', min_results_71['x'][4])\n",
    "print('beta4 = ', min_results_71['x'][5])\n",
    "print('beta5 = ', min_results_71['x'][6])"
   ]
  },
  {
   "cell_type": "code",
   "execution_count": 8,
   "id": "3ad1adab",
   "metadata": {},
   "outputs": [
    {
     "data": {
      "text/plain": [
       "1.054629296489375"
      ]
     },
     "execution_count": 8,
     "metadata": {},
     "output_type": "execute_result"
    }
   ],
   "source": [
    "# We use exp(beta1)\n",
    "\n",
    "math.exp(min_results_71['x'][2])"
   ]
  },
  {
   "cell_type": "markdown",
   "id": "0fc77063",
   "metadata": {},
   "source": [
    "Interpreting the coefficient on $\\beta_{1}$\n",
    "\n",
    "An additional year of education leads to a $\\textbf{5.46%}$ increase inwages."
   ]
  },
  {
   "cell_type": "code",
   "execution_count": 9,
   "id": "f979cf8b",
   "metadata": {},
   "outputs": [
    {
     "name": "stderr",
     "output_type": "stream",
     "text": [
      "<ipython-input-9-e855a69dc00f>:3: SettingWithCopyWarning: \n",
      "A value is trying to be set on a copy of a slice from a DataFrame.\n",
      "Try using .loc[row_indexer,col_indexer] = value instead\n",
      "\n",
      "See the caveats in the documentation: https://pandas.pydata.org/pandas-docs/stable/user_guide/indexing.html#returning-a-view-versus-a-copy\n",
      "  data_71['const'] = 1\n",
      "<ipython-input-9-e855a69dc00f>:4: SettingWithCopyWarning: \n",
      "A value is trying to be set on a copy of a slice from a DataFrame.\n",
      "Try using .loc[row_indexer,col_indexer] = value instead\n",
      "\n",
      "See the caveats in the documentation: https://pandas.pydata.org/pandas-docs/stable/user_guide/indexing.html#returning-a-view-versus-a-copy\n",
      "  data_71['age_sq'] = data_71['age'] ** 2\n"
     ]
    },
    {
     "data": {
      "text/plain": [
       "const     0.586331\n",
       "hyrsed    0.066500\n",
       "age       0.064904\n",
       "age_sq   -0.000617\n",
       "black    -0.164137\n",
       "other     0.017512\n",
       "dtype: float64"
      ]
     },
     "execution_count": 9,
     "metadata": {},
     "output_type": "execute_result"
    }
   ],
   "source": [
    "#We comapre the results of our MLE approach with OLS estimates\n",
    "\n",
    "data_71['const'] = 1\n",
    "data_71['age_sq'] = data_71['age'] ** 2\n",
    "var_list = ['const', 'hyrsed','age', 'age_sq', 'black','other']\n",
    "reg1 = sm.OLS(data_71['lnwage'], data_71[var_list], missing='drop')\n",
    "results = reg1.fit()\n",
    "results.params"
   ]
  },
  {
   "cell_type": "code",
   "execution_count": 10,
   "id": "2600e7b2",
   "metadata": {},
   "outputs": [
    {
     "name": "stdout",
     "output_type": "stream",
     "text": [
      "The absolute difference between the estimates for alpha for 1971 is  5.731294546979942\n",
      "The absolute difference between the estimates for beta1 for 1971 is  0.013310524624629956\n",
      "The absolute difference between the estimates for beta2 for 1971 is  0.2821998424667791\n",
      "The absolute difference between the estimates for beta3 for 1971 is  0.0033498902482864477\n",
      "The absolute difference between the estimates for beta4 for 1971 is  0.46000367640129686\n",
      "The absolute difference between the estimates for beta5 for 1971 is  0.02043551091917955\n"
     ]
    }
   ],
   "source": [
    "print('The absolute difference between the estimates for alpha for 1971 is ',\n",
    "      abs(min_results_71['x'][1] - results.params[0]))\n",
    "print('The absolute difference between the estimates for beta1 for 1971 is ',\n",
    "      abs(min_results_71['x'][2] - results.params[1]))\n",
    "print('The absolute difference between the estimates for beta2 for 1971 is ',\n",
    "      abs(min_results_71['x'][3] - results.params[2]))\n",
    "print('The absolute difference between the estimates for beta3 for 1971 is ',\n",
    "      abs(min_results_71['x'][4] - results.params[3]))\n",
    "print('The absolute difference between the estimates for beta4 for 1971 is ',\n",
    "      abs(min_results_71['x'][5] - results.params[4]))\n",
    "print('The absolute difference between the estimates for beta5 for 1971 is ',\n",
    "      abs(min_results_71['x'][6] - results.params[5]))"
   ]
  },
  {
   "cell_type": "markdown",
   "id": "29eaabdc",
   "metadata": {},
   "source": [
    "### Optimization for year = 1980"
   ]
  },
  {
   "cell_type": "code",
   "execution_count": 11,
   "id": "07bd64ba",
   "metadata": {},
   "outputs": [
    {
     "name": "stdout",
     "output_type": "stream",
     "text": [
      "The estimates for 1980 are:\n",
      "alpha =  13.221863269805894\n",
      "beta1 =  0.20500066114597443\n",
      "beta2 =  -0.6686326563358365\n",
      "beta3 =  0.008118513105438097\n",
      "beta4 =  -0.6616156684789034\n",
      "beta5 =  -0.007032612790667445\n"
     ]
    }
   ],
   "source": [
    "data_80 = data[(data['year'] == 1980)]\n",
    "\n",
    "#We use the correlation between variables as the initial values for the beta's,\n",
    "#the variance of the dependent variable as the initial value for sigmasq, and\n",
    "#the mean of the dependent variable as the initial value for alpha\n",
    "\n",
    "sig_start = (data_80.loc[:,'lnwage'].std())**2\n",
    "alpha_start = data_80.loc[:,'lnwage'].mean()\n",
    "\n",
    "Beta0 = (sig_start, \n",
    "         alpha_start, \n",
    "         data_80['lnwage'].corr(data_80['hyrsed']),\n",
    "         data_80['lnwage'].corr(data_80['age']), \n",
    "         data_80['lnwage'].corr(data_80['age']), \n",
    "         data_80['lnwage'].corr(data_80['black']),\n",
    "         data_80['lnwage'].corr(data_80['other']))\n",
    "\n",
    "# Use Nelder-Mead to minimize the negative of the log-likelihood function\n",
    "\n",
    "min_results_80 = opt.minimize(mle, \n",
    "                              Beta0, \n",
    "                              args=(data_80),\n",
    "                              method=\"Nelder-Mead\", \n",
    "                              tol=1e-15)\n",
    "\n",
    "print('The estimates for 1980 are:')\n",
    "print('alpha = ', min_results_80['x'][1])\n",
    "print('beta1 = ', min_results_80['x'][2])\n",
    "print('beta2 = ', min_results_80['x'][3])\n",
    "print('beta3 = ', min_results_80['x'][4])\n",
    "print('beta4 = ', min_results_80['x'][5])\n",
    "print('beta5 = ', min_results_80['x'][6])"
   ]
  },
  {
   "cell_type": "code",
   "execution_count": 12,
   "id": "630fe0ce",
   "metadata": {},
   "outputs": [
    {
     "data": {
      "text/plain": [
       "1.2275258765367012"
      ]
     },
     "execution_count": 12,
     "metadata": {},
     "output_type": "execute_result"
    }
   ],
   "source": [
    "# We use exp(beta1)\n",
    "\n",
    "math.exp(min_results_80['x'][2])"
   ]
  },
  {
   "cell_type": "markdown",
   "id": "b29f4fc2",
   "metadata": {},
   "source": [
    "Interpreting the coefficient on $\\beta_{1}$\n",
    "\n",
    "An additional year of education leads to a $\\textbf{22.75%}$ increase inwages.\n",
    "\n",
    "$\\color{red}{\\textbf{This seems incorrect.}}$"
   ]
  },
  {
   "cell_type": "code",
   "execution_count": 13,
   "id": "fc988f57",
   "metadata": {},
   "outputs": [
    {
     "name": "stderr",
     "output_type": "stream",
     "text": [
      "<ipython-input-13-b55faca9e574>:3: SettingWithCopyWarning: \n",
      "A value is trying to be set on a copy of a slice from a DataFrame.\n",
      "Try using .loc[row_indexer,col_indexer] = value instead\n",
      "\n",
      "See the caveats in the documentation: https://pandas.pydata.org/pandas-docs/stable/user_guide/indexing.html#returning-a-view-versus-a-copy\n",
      "  data_80['const'] = 1\n",
      "<ipython-input-13-b55faca9e574>:4: SettingWithCopyWarning: \n",
      "A value is trying to be set on a copy of a slice from a DataFrame.\n",
      "Try using .loc[row_indexer,col_indexer] = value instead\n",
      "\n",
      "See the caveats in the documentation: https://pandas.pydata.org/pandas-docs/stable/user_guide/indexing.html#returning-a-view-versus-a-copy\n",
      "  data_80['age_sq'] = data_80['age'] ** 2\n"
     ]
    },
    {
     "data": {
      "text/plain": [
       "const     1.002272\n",
       "hyrsed    0.066003\n",
       "age       0.045569\n",
       "age_sq   -0.000399\n",
       "black    -0.103028\n",
       "other     0.012315\n",
       "dtype: float64"
      ]
     },
     "execution_count": 13,
     "metadata": {},
     "output_type": "execute_result"
    }
   ],
   "source": [
    "#We comapre the results of our MLE approach with OLS estimates\n",
    "\n",
    "data_80['const'] = 1\n",
    "data_80['age_sq'] = data_80['age'] ** 2\n",
    "var_list = ['const', 'hyrsed','age', 'age_sq', 'black','other']\n",
    "reg1 = sm.OLS(data_80['lnwage'], data_80[var_list], missing='drop')\n",
    "results = reg1.fit()\n",
    "results.params"
   ]
  },
  {
   "cell_type": "code",
   "execution_count": 14,
   "id": "f6fbfd51",
   "metadata": {},
   "outputs": [
    {
     "name": "stdout",
     "output_type": "stream",
     "text": [
      "The absolute difference between the estimates for alpha for 1980 is  12.219591263646063\n",
      "The absolute difference between the estimates for beta1 for 1980 is  0.1389981600759741\n",
      "The absolute difference between the estimates for beta2 for 1980 is  0.7142011706123349\n",
      "The absolute difference between the estimates for beta3 for 1980 is  0.008517931637519401\n",
      "The absolute difference between the estimates for beta4 for 1980 is  0.5585876111062676\n",
      "The absolute difference between the estimates for beta5 for 1980 is  0.01934756135060701\n"
     ]
    }
   ],
   "source": [
    "print('The absolute difference between the estimates for alpha for 1980 is ',\n",
    "      abs(min_results_80['x'][1] - results.params[0]))\n",
    "print('The absolute difference between the estimates for beta1 for 1980 is ',\n",
    "      abs(min_results_80['x'][2] - results.params[1]))\n",
    "print('The absolute difference between the estimates for beta2 for 1980 is ',\n",
    "      abs(min_results_80['x'][3] - results.params[2]))\n",
    "print('The absolute difference between the estimates for beta3 for 1980 is ',\n",
    "      abs(min_results_80['x'][4] - results.params[3]))\n",
    "print('The absolute difference between the estimates for beta4 for 1980 is ',\n",
    "      abs(min_results_80['x'][5] - results.params[4]))\n",
    "print('The absolute difference between the estimates for beta5 for 1980 is ',\n",
    "      abs(min_results_80['x'][6] - results.params[5]))"
   ]
  },
  {
   "cell_type": "markdown",
   "id": "ec984b48",
   "metadata": {},
   "source": [
    "### Optimization for year = 1990"
   ]
  },
  {
   "cell_type": "code",
   "execution_count": 15,
   "id": "413067cb",
   "metadata": {},
   "outputs": [
    {
     "name": "stderr",
     "output_type": "stream",
     "text": [
      "<ipython-input-6-92ce42bf1a6b>:27: RuntimeWarning: invalid value encountered in log\n",
      "  ll_val = -((n / 2) * (np.log(1 / 2 * np.pi * sigmasq)) - (1 / 2 * sigmasq) * SSE)\n"
     ]
    },
    {
     "name": "stdout",
     "output_type": "stream",
     "text": [
      "The estimates for 1990 are:\n",
      "alpha =  11.155360697373691\n",
      "beta1 =  0.041910495925555485\n",
      "beta2 =  -0.43991285910422784\n",
      "beta3 =  0.005313906168158591\n",
      "beta4 =  -0.6453918208531209\n",
      "beta5 =  0.008977938026799838\n"
     ]
    }
   ],
   "source": [
    "data_90 = data[(data['year'] == 1990)]\n",
    "\n",
    "#We use the correlation between variables as the initial values for the beta's,\n",
    "#the variance of the dependent variable as the initial value for sigmasq, and\n",
    "#the mean of the dependent variable as the initial value for alpha\n",
    "\n",
    "sig_start = (data_90.loc[:,'lnwage'].std())**2\n",
    "alpha_start = data_90.loc[:,'lnwage'].mean()\n",
    "\n",
    "Beta0 = (sig_start, \n",
    "         alpha_start, \n",
    "         data_90['lnwage'].corr(data_90['hyrsed']),\n",
    "         data_90['lnwage'].corr(data_90['age']), \n",
    "         data_90['lnwage'].corr(data_90['age']), \n",
    "         data_90['lnwage'].corr(data_90['black']),\n",
    "         data_90['lnwage'].corr(data_90['other']))\n",
    "\n",
    "# Use Nelder-Mead to minimize the negative of the log-likelihood function\n",
    "\n",
    "min_results_90 = opt.minimize(mle, \n",
    "                              Beta0, \n",
    "                              args=(data_90),\n",
    "                              method=\"Nelder-Mead\", \n",
    "                              tol=1e-15)\n",
    "\n",
    "print('The estimates for 1990 are:')\n",
    "print('alpha = ', min_results_90['x'][1])\n",
    "print('beta1 = ', min_results_90['x'][2])\n",
    "print('beta2 = ', min_results_90['x'][3])\n",
    "print('beta3 = ', min_results_90['x'][4])\n",
    "print('beta4 = ', min_results_90['x'][5])\n",
    "print('beta5 = ', min_results_90['x'][6])"
   ]
  },
  {
   "cell_type": "code",
   "execution_count": 16,
   "id": "d2b9c4be",
   "metadata": {},
   "outputs": [
    {
     "data": {
      "text/plain": [
       "1.0428011396228778"
      ]
     },
     "execution_count": 16,
     "metadata": {},
     "output_type": "execute_result"
    }
   ],
   "source": [
    "# We use exp(beta1)\n",
    "\n",
    "math.exp(min_results_90['x'][2])"
   ]
  },
  {
   "cell_type": "markdown",
   "id": "33a4ce4a",
   "metadata": {},
   "source": [
    "Interpreting the coefficient on $\\beta_{1}$\n",
    "\n",
    "An additional year of education leads to a $\\textbf{4.28%}$ increase inwages."
   ]
  },
  {
   "cell_type": "code",
   "execution_count": 17,
   "id": "d91cb110",
   "metadata": {},
   "outputs": [
    {
     "name": "stderr",
     "output_type": "stream",
     "text": [
      "<ipython-input-17-2d5c9551da95>:3: SettingWithCopyWarning: \n",
      "A value is trying to be set on a copy of a slice from a DataFrame.\n",
      "Try using .loc[row_indexer,col_indexer] = value instead\n",
      "\n",
      "See the caveats in the documentation: https://pandas.pydata.org/pandas-docs/stable/user_guide/indexing.html#returning-a-view-versus-a-copy\n",
      "  data_90['const'] = 1\n",
      "<ipython-input-17-2d5c9551da95>:4: SettingWithCopyWarning: \n",
      "A value is trying to be set on a copy of a slice from a DataFrame.\n",
      "Try using .loc[row_indexer,col_indexer] = value instead\n",
      "\n",
      "See the caveats in the documentation: https://pandas.pydata.org/pandas-docs/stable/user_guide/indexing.html#returning-a-view-versus-a-copy\n",
      "  data_90['age_sq'] = data_90['age'] ** 2\n"
     ]
    },
    {
     "data": {
      "text/plain": [
       "const     0.277243\n",
       "hyrsed    0.095499\n",
       "age       0.057864\n",
       "age_sq   -0.000540\n",
       "black    -0.167988\n",
       "other    -0.052001\n",
       "dtype: float64"
      ]
     },
     "execution_count": 17,
     "metadata": {},
     "output_type": "execute_result"
    }
   ],
   "source": [
    "#We comapre the results of our MLE approach with OLS estimates\n",
    "\n",
    "data_90['const'] = 1\n",
    "data_90['age_sq'] = data_90['age'] ** 2\n",
    "var_list = ['const', 'hyrsed','age', 'age_sq', 'black','other']\n",
    "reg1 = sm.OLS(data_90['lnwage'], data_90[var_list], missing='drop')\n",
    "results = reg1.fit()\n",
    "results.params"
   ]
  },
  {
   "cell_type": "code",
   "execution_count": 18,
   "id": "2d0754a5",
   "metadata": {},
   "outputs": [
    {
     "name": "stdout",
     "output_type": "stream",
     "text": [
      "The absolute difference between the estimates for alpha for 1990 is  10.878117535201937\n",
      "The absolute difference between the estimates for beta1 for 1990 is  0.05358864852471816\n",
      "The absolute difference between the estimates for beta2 for 1990 is  0.49777696289401846\n",
      "The absolute difference between the estimates for beta3 for 1990 is  0.005854056824185575\n",
      "The absolute difference between the estimates for beta4 for 1990 is  0.47740429294423803\n",
      "The absolute difference between the estimates for beta5 for 1990 is  0.06097861846621253\n"
     ]
    }
   ],
   "source": [
    "print('The absolute difference between the estimates for alpha for 1990 is ',\n",
    "      abs(min_results_90['x'][1] - results.params[0]))\n",
    "print('The absolute difference between the estimates for beta1 for 1990 is ',\n",
    "      abs(min_results_90['x'][2] - results.params[1]))\n",
    "print('The absolute difference between the estimates for beta2 for 1990 is ',\n",
    "      abs(min_results_90['x'][3] - results.params[2]))\n",
    "print('The absolute difference between the estimates for beta3 for 1990 is ',\n",
    "      abs(min_results_90['x'][4] - results.params[3]))\n",
    "print('The absolute difference between the estimates for beta4 for 1990 is ',\n",
    "      abs(min_results_90['x'][5] - results.params[4]))\n",
    "print('The absolute difference between the estimates for beta5 for 1990 is ',\n",
    "      abs(min_results_90['x'][6] - results.params[5]))"
   ]
  },
  {
   "cell_type": "markdown",
   "id": "9377bfdc",
   "metadata": {},
   "source": [
    "### Optimization for year = 2000"
   ]
  },
  {
   "cell_type": "code",
   "execution_count": 19,
   "id": "af451cc3",
   "metadata": {},
   "outputs": [
    {
     "name": "stderr",
     "output_type": "stream",
     "text": [
      "<ipython-input-6-92ce42bf1a6b>:27: RuntimeWarning: invalid value encountered in log\n",
      "  ll_val = -((n / 2) * (np.log(1 / 2 * np.pi * sigmasq)) - (1 / 2 * sigmasq) * SSE)\n"
     ]
    },
    {
     "name": "stdout",
     "output_type": "stream",
     "text": [
      "The estimates for 2000 are:\n",
      "alpha =  -7.704632026925449\n",
      "beta1 =  0.32248604560373495\n",
      "beta2 =  0.30882655084045696\n",
      "beta3 =  -0.003592300485871132\n",
      "beta4 =  0.21473159353690424\n",
      "beta5 =  -0.04742008204454666\n"
     ]
    }
   ],
   "source": [
    "data_00 = data[(data['year'] == 2000)]\n",
    "\n",
    "#We use the correlation between variables as the initial values for the beta's,\n",
    "#the variance of the dependent variable as the initial value for sigmasq, and\n",
    "#the mean of the dependent variable as the initial value for alpha\n",
    "\n",
    "sig_start = (data_00.loc[:,'lnwage'].std())**2\n",
    "alpha_start = data_00.loc[:,'lnwage'].mean()\n",
    "\n",
    "Beta0 = (sig_start, \n",
    "         alpha_start, \n",
    "         data_00['lnwage'].corr(data_00['hyrsed']),\n",
    "         data_00['lnwage'].corr(data_00['age']), \n",
    "         data_00['lnwage'].corr(data_00['age']), \n",
    "         data_00['lnwage'].corr(data_00['black']),\n",
    "         data_00['lnwage'].corr(data_00['other']))\n",
    "\n",
    "# Use Nelder-Mead to minimize the negative of the log-likelihood function\n",
    "\n",
    "min_results_00 = opt.minimize(mle, \n",
    "                              Beta0, \n",
    "                              args=(data_00),\n",
    "                              method=\"Nelder-Mead\", \n",
    "                              tol=1e-15)\n",
    "\n",
    "print('The estimates for 2000 are:')\n",
    "print('alpha = ', min_results_00['x'][1])\n",
    "print('beta1 = ', min_results_00['x'][2])\n",
    "print('beta2 = ', min_results_00['x'][3])\n",
    "print('beta3 = ', min_results_00['x'][4])\n",
    "print('beta4 = ', min_results_00['x'][5])\n",
    "print('beta5 = ', min_results_00['x'][6])"
   ]
  },
  {
   "cell_type": "code",
   "execution_count": 20,
   "id": "427e6dfe",
   "metadata": {},
   "outputs": [
    {
     "data": {
      "text/plain": [
       "1.3805556259048883"
      ]
     },
     "execution_count": 20,
     "metadata": {},
     "output_type": "execute_result"
    }
   ],
   "source": [
    "# We use exp(beta1)\n",
    "\n",
    "math.exp(min_results_00['x'][2])"
   ]
  },
  {
   "cell_type": "markdown",
   "id": "b80d1ca7",
   "metadata": {},
   "source": [
    "Interpreting the coefficient on $\\beta_{1}$\n",
    "\n",
    "An additional year of education leads to a $\\textbf{38.05%}$ increase inwages.\n",
    "\n",
    "$\\color{red}{\\textbf{This seems incorrect.}}$"
   ]
  },
  {
   "cell_type": "code",
   "execution_count": 21,
   "id": "60ef1b78",
   "metadata": {},
   "outputs": [
    {
     "name": "stderr",
     "output_type": "stream",
     "text": [
      "<ipython-input-21-8cecf2c6e250>:3: SettingWithCopyWarning: \n",
      "A value is trying to be set on a copy of a slice from a DataFrame.\n",
      "Try using .loc[row_indexer,col_indexer] = value instead\n",
      "\n",
      "See the caveats in the documentation: https://pandas.pydata.org/pandas-docs/stable/user_guide/indexing.html#returning-a-view-versus-a-copy\n",
      "  data_00['const'] = 1\n",
      "<ipython-input-21-8cecf2c6e250>:4: SettingWithCopyWarning: \n",
      "A value is trying to be set on a copy of a slice from a DataFrame.\n",
      "Try using .loc[row_indexer,col_indexer] = value instead\n",
      "\n",
      "See the caveats in the documentation: https://pandas.pydata.org/pandas-docs/stable/user_guide/indexing.html#returning-a-view-versus-a-copy\n",
      "  data_00['age_sq'] = data_00['age'] ** 2\n"
     ]
    },
    {
     "data": {
      "text/plain": [
       "const    -0.293275\n",
       "hyrsed    0.110333\n",
       "age       0.084360\n",
       "age_sq   -0.000887\n",
       "black    -0.259617\n",
       "other    -0.062144\n",
       "dtype: float64"
      ]
     },
     "execution_count": 21,
     "metadata": {},
     "output_type": "execute_result"
    }
   ],
   "source": [
    "#We comapre the results of our MLE approach with OLS estimates\n",
    "\n",
    "data_00['const'] = 1\n",
    "data_00['age_sq'] = data_00['age'] ** 2\n",
    "var_list = ['const', 'hyrsed','age', 'age_sq', 'black','other']\n",
    "reg1 = sm.OLS(data_00['lnwage'], data_00[var_list], missing='drop')\n",
    "results = reg1.fit()\n",
    "results.params"
   ]
  },
  {
   "cell_type": "code",
   "execution_count": 22,
   "id": "c9ba40b9",
   "metadata": {},
   "outputs": [
    {
     "name": "stdout",
     "output_type": "stream",
     "text": [
      "The absolute difference between the estimates for alpha for 2000 is  7.411356824791773\n",
      "The absolute difference between the estimates for beta1 for 2000 is  0.21215322984464197\n",
      "The absolute difference between the estimates for beta2 for 2000 is  0.22446615195730524\n",
      "The absolute difference between the estimates for beta3 for 2000 is  0.002705527586852378\n",
      "The absolute difference between the estimates for beta4 for 2000 is  0.47434900156684356\n",
      "The absolute difference between the estimates for beta5 for 2000 is  0.014723820936353757\n"
     ]
    }
   ],
   "source": [
    "print('The absolute difference between the estimates for alpha for 2000 is ',\n",
    "      abs(min_results_00['x'][1] - results.params[0]))\n",
    "print('The absolute difference between the estimates for beta1 for 2000 is ',\n",
    "      abs(min_results_00['x'][2] - results.params[1]))\n",
    "print('The absolute difference between the estimates for beta2 for 2000 is ',\n",
    "      abs(min_results_00['x'][3] - results.params[2]))\n",
    "print('The absolute difference between the estimates for beta3 for 2000 is ',\n",
    "      abs(min_results_00['x'][4] - results.params[3]))\n",
    "print('The absolute difference between the estimates for beta4 for 2000 is ',\n",
    "      abs(min_results_00['x'][5] - results.params[4]))\n",
    "print('The absolute difference between the estimates for beta5 for 2000 is ',\n",
    "      abs(min_results_00['x'][6] - results.params[5]))"
   ]
  },
  {
   "cell_type": "markdown",
   "id": "c3a9cc67",
   "metadata": {},
   "source": [
    "# Comments\n",
    "1. I must have made a mistake somewhere because the calcualted increase for $\\color{red}{\\textbf{1980}}$ \\& $\\color{red}{\\textbf{2000}}$ seem unrealistic. However, there is not a lot of difference for the $\\beta_{1}$ output between mle and ols.\n",
    "2. I am consistently off on my alpha coefficient. I expect this has something to do with the constant = 1.\n",
    "\n",
    "$\\textbf{I can't figure out my mistake.}$"
   ]
  },
  {
   "cell_type": "code",
   "execution_count": null,
   "id": "2ecd3750",
   "metadata": {},
   "outputs": [],
   "source": []
  }
 ],
 "metadata": {
  "kernelspec": {
   "display_name": "Python 3",
   "language": "python",
   "name": "python3"
  },
  "language_info": {
   "codemirror_mode": {
    "name": "ipython",
    "version": 3
   },
   "file_extension": ".py",
   "mimetype": "text/x-python",
   "name": "python",
   "nbconvert_exporter": "python",
   "pygments_lexer": "ipython3",
   "version": "3.8.8"
  }
 },
 "nbformat": 4,
 "nbformat_minor": 5
}
