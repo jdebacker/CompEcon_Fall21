{
 "cells": [
  {
   "cell_type": "markdown",
   "id": "e3f98675",
   "metadata": {},
   "source": [
    "# Problemset 3"
   ]
  },
  {
   "cell_type": "code",
   "execution_count": 1,
   "id": "a12a1895",
   "metadata": {},
   "outputs": [],
   "source": [
    "# imports\n",
    "import numpy as np\n",
    "import pandas as pd\n",
    "import plotly.express as px\n",
    "import plotly.io as pio\n",
    "# pio.renderers.default = 'jupyterlab'\n",
    "pio.renderers.default = 'notebook' \n",
    "import matplotlib.pyplot as plt\n",
    "from datetime import datetime\n",
    "%matplotlib inline"
   ]
  },
  {
   "cell_type": "markdown",
   "id": "4f370383",
   "metadata": {},
   "source": [
    "## $1^{st}$ visual\n",
    "Below I provide 2 visuals regarding innovation as it is one of my research interests.\n",
    "The first visual is patent application by year for USA, Japan and South Korea, with an emphasis on the financial crisis 2007 - 2009.\n",
    "The second visual provides data on R&D expenditures / GDP per year for the same 2 countries."
   ]
  },
  {
   "cell_type": "code",
   "execution_count": 2,
   "id": "b750d86e",
   "metadata": {
    "scrolled": true
   },
   "outputs": [
    {
     "data": {
      "text/html": [
       "<div>\n",
       "<style scoped>\n",
       "    .dataframe tbody tr th:only-of-type {\n",
       "        vertical-align: middle;\n",
       "    }\n",
       "\n",
       "    .dataframe tbody tr th {\n",
       "        vertical-align: top;\n",
       "    }\n",
       "\n",
       "    .dataframe thead th {\n",
       "        text-align: right;\n",
       "    }\n",
       "</style>\n",
       "<table border=\"1\" class=\"dataframe\">\n",
       "  <thead>\n",
       "    <tr style=\"text-align: right;\">\n",
       "      <th>Country Name</th>\n",
       "      <th>Japan</th>\n",
       "      <th>Korea, Rep.</th>\n",
       "      <th>United States</th>\n",
       "    </tr>\n",
       "  </thead>\n",
       "  <tbody>\n",
       "    <tr>\n",
       "      <th>1980</th>\n",
       "      <td>165730.0</td>\n",
       "      <td>1241.0</td>\n",
       "      <td>62098.0</td>\n",
       "    </tr>\n",
       "    <tr>\n",
       "      <th>1981</th>\n",
       "      <td>NaN</td>\n",
       "      <td>1319.0</td>\n",
       "      <td>62404.0</td>\n",
       "    </tr>\n",
       "    <tr>\n",
       "      <th>1982</th>\n",
       "      <td>NaN</td>\n",
       "      <td>1556.0</td>\n",
       "      <td>63316.0</td>\n",
       "    </tr>\n",
       "    <tr>\n",
       "      <th>1983</th>\n",
       "      <td>227708.0</td>\n",
       "      <td>1599.0</td>\n",
       "      <td>59391.0</td>\n",
       "    </tr>\n",
       "    <tr>\n",
       "      <th>1984</th>\n",
       "      <td>256195.0</td>\n",
       "      <td>1997.0</td>\n",
       "      <td>61841.0</td>\n",
       "    </tr>\n",
       "    <tr>\n",
       "      <th>1985</th>\n",
       "      <td>274348.0</td>\n",
       "      <td>2702.0</td>\n",
       "      <td>63673.0</td>\n",
       "    </tr>\n",
       "    <tr>\n",
       "      <th>1986</th>\n",
       "      <td>290132.0</td>\n",
       "      <td>3640.0</td>\n",
       "      <td>65195.0</td>\n",
       "    </tr>\n",
       "    <tr>\n",
       "      <th>1987</th>\n",
       "      <td>310908.0</td>\n",
       "      <td>4871.0</td>\n",
       "      <td>68315.0</td>\n",
       "    </tr>\n",
       "    <tr>\n",
       "      <th>1988</th>\n",
       "      <td>308775.0</td>\n",
       "      <td>5696.0</td>\n",
       "      <td>75192.0</td>\n",
       "    </tr>\n",
       "    <tr>\n",
       "      <th>1989</th>\n",
       "      <td>317353.0</td>\n",
       "      <td>7020.0</td>\n",
       "      <td>82370.0</td>\n",
       "    </tr>\n",
       "  </tbody>\n",
       "</table>\n",
       "</div>"
      ],
      "text/plain": [
       "Country Name     Japan  Korea, Rep.  United States\n",
       "1980          165730.0       1241.0        62098.0\n",
       "1981               NaN       1319.0        62404.0\n",
       "1982               NaN       1556.0        63316.0\n",
       "1983          227708.0       1599.0        59391.0\n",
       "1984          256195.0       1997.0        61841.0\n",
       "1985          274348.0       2702.0        63673.0\n",
       "1986          290132.0       3640.0        65195.0\n",
       "1987          310908.0       4871.0        68315.0\n",
       "1988          308775.0       5696.0        75192.0\n",
       "1989          317353.0       7020.0        82370.0"
      ]
     },
     "execution_count": 2,
     "metadata": {},
     "output_type": "execute_result"
    }
   ],
   "source": [
    "patentapp = pd.read_csv('ps3patentapp.csv', \n",
    "                        header=0, index_col=0)\n",
    "patentapp = patentapp.T\n",
    "patentapp.head(n=10)"
   ]
  },
  {
   "cell_type": "code",
   "execution_count": 3,
   "id": "da9fecb1",
   "metadata": {},
   "outputs": [
    {
     "data": {
      "image/png": "[encoded data removed]",
      "text/plain": [
       "<Figure size 432x288 with 1 Axes>"
      ]
     },
     "metadata": {
      "needs_background": "light"
     },
     "output_type": "display_data"
    }
   ],
   "source": [
    "patentapp.plot(xlabel=\"Year\", ylabel=\"Patent Applications\")\n",
    "plt.axvspan(2007 - 1980, 2009 - 1980, color='red', alpha=0.2)\n",
    "\n",
    "plt.legend(loc=(1.04,0.5))\n",
    "\n",
    "plt.savefig('patentapp.png', bbox_inches='tight')"
   ]
  },
  {
   "cell_type": "markdown",
   "id": "78b2e2b8",
   "metadata": {},
   "source": [
    "## $2^{nd}$ visual"
   ]
  },
  {
   "cell_type": "code",
   "execution_count": 4,
   "id": "5cecb646",
   "metadata": {},
   "outputs": [
    {
     "data": {
      "text/html": [
       "<div>\n",
       "<style scoped>\n",
       "    .dataframe tbody tr th:only-of-type {\n",
       "        vertical-align: middle;\n",
       "    }\n",
       "\n",
       "    .dataframe tbody tr th {\n",
       "        vertical-align: top;\n",
       "    }\n",
       "\n",
       "    .dataframe thead th {\n",
       "        text-align: right;\n",
       "    }\n",
       "</style>\n",
       "<table border=\"1\" class=\"dataframe\">\n",
       "  <thead>\n",
       "    <tr style=\"text-align: right;\">\n",
       "      <th>Country Name</th>\n",
       "      <th>Japan</th>\n",
       "      <th>Korea, Rep.</th>\n",
       "      <th>United States</th>\n",
       "    </tr>\n",
       "  </thead>\n",
       "  <tbody>\n",
       "    <tr>\n",
       "      <th>1996</th>\n",
       "      <td>2.76501</td>\n",
       "      <td>2.24097</td>\n",
       "      <td>2.44182</td>\n",
       "    </tr>\n",
       "    <tr>\n",
       "      <th>1997</th>\n",
       "      <td>2.82762</td>\n",
       "      <td>2.28548</td>\n",
       "      <td>2.47091</td>\n",
       "    </tr>\n",
       "    <tr>\n",
       "      <th>1998</th>\n",
       "      <td>2.96020</td>\n",
       "      <td>2.14865</td>\n",
       "      <td>2.49675</td>\n",
       "    </tr>\n",
       "    <tr>\n",
       "      <th>1999</th>\n",
       "      <td>2.97734</td>\n",
       "      <td>2.06208</td>\n",
       "      <td>2.54174</td>\n",
       "    </tr>\n",
       "    <tr>\n",
       "      <th>2000</th>\n",
       "      <td>3.00169</td>\n",
       "      <td>2.18023</td>\n",
       "      <td>2.62050</td>\n",
       "    </tr>\n",
       "    <tr>\n",
       "      <th>2001</th>\n",
       "      <td>3.07448</td>\n",
       "      <td>2.34108</td>\n",
       "      <td>2.63833</td>\n",
       "    </tr>\n",
       "    <tr>\n",
       "      <th>2002</th>\n",
       "      <td>3.11562</td>\n",
       "      <td>2.27381</td>\n",
       "      <td>2.54968</td>\n",
       "    </tr>\n",
       "    <tr>\n",
       "      <th>2003</th>\n",
       "      <td>3.14388</td>\n",
       "      <td>2.35150</td>\n",
       "      <td>2.55286</td>\n",
       "    </tr>\n",
       "    <tr>\n",
       "      <th>2004</th>\n",
       "      <td>3.13321</td>\n",
       "      <td>2.53248</td>\n",
       "      <td>2.48996</td>\n",
       "    </tr>\n",
       "    <tr>\n",
       "      <th>2005</th>\n",
       "      <td>3.30870</td>\n",
       "      <td>2.62617</td>\n",
       "      <td>2.50600</td>\n",
       "    </tr>\n",
       "  </tbody>\n",
       "</table>\n",
       "</div>"
      ],
      "text/plain": [
       "Country Name    Japan  Korea, Rep.  United States\n",
       "1996          2.76501      2.24097        2.44182\n",
       "1997          2.82762      2.28548        2.47091\n",
       "1998          2.96020      2.14865        2.49675\n",
       "1999          2.97734      2.06208        2.54174\n",
       "2000          3.00169      2.18023        2.62050\n",
       "2001          3.07448      2.34108        2.63833\n",
       "2002          3.11562      2.27381        2.54968\n",
       "2003          3.14388      2.35150        2.55286\n",
       "2004          3.13321      2.53248        2.48996\n",
       "2005          3.30870      2.62617        2.50600"
      ]
     },
     "execution_count": 4,
     "metadata": {},
     "output_type": "execute_result"
    }
   ],
   "source": [
    "rdexpenditures = pd.read_csv('rdexpenditures.csv', \n",
    "                        header=0, index_col=0)\n",
    "rdexpenditures = rdexpenditures.T\n",
    "rdexpenditures.head(n=10)"
   ]
  },
  {
   "cell_type": "code",
   "execution_count": 5,
   "id": "634e073c",
   "metadata": {
    "scrolled": true
   },
   "outputs": [
    {
     "data": {
      "image/png": "[encoded data removed]",
      "text/plain": [
       "<Figure size 432x288 with 1 Axes>"
      ]
     },
     "metadata": {
      "needs_background": "light"
     },
     "output_type": "display_data"
    }
   ],
   "source": [
    "rdexpenditures.plot(xlabel=\"Year\", ylabel=\"R&D Expenditures\")\n",
    "plt.axvspan(2007-1996, 2009-1996, color='red', alpha=0.2)\n",
    "\n",
    "plt.legend(loc=(1.04,0.5))\n",
    "\n",
    "plt.savefig('rdexpenditures.png', bbox_inches='tight')"
   ]
  },
  {
   "cell_type": "markdown",
   "id": "ee1e9bfc",
   "metadata": {},
   "source": [
    "## $3^{rd}$ visual\n",
    "Using the $\\textit{yfinance}$ package to get data from Yahoo finance."
   ]
  },
  {
   "cell_type": "code",
   "execution_count": 6,
   "id": "fed1e0a7",
   "metadata": {},
   "outputs": [
    {
     "name": "stdout",
     "output_type": "stream",
     "text": [
      "[*********************100%***********************]  1 of 1 completed\n",
      "[*********************100%***********************]  1 of 1 completed\n",
      "[*********************100%***********************]  1 of 1 completed\n",
      "[*********************100%***********************]  1 of 1 completed\n",
      "[*********************100%***********************]  1 of 1 completed\n"
     ]
    },
    {
     "data": {
      "text/html": [
       "<div>\n",
       "<style scoped>\n",
       "    .dataframe tbody tr th:only-of-type {\n",
       "        vertical-align: middle;\n",
       "    }\n",
       "\n",
       "    .dataframe tbody tr th {\n",
       "        vertical-align: top;\n",
       "    }\n",
       "\n",
       "    .dataframe thead th {\n",
       "        text-align: right;\n",
       "    }\n",
       "</style>\n",
       "<table border=\"1\" class=\"dataframe\">\n",
       "  <thead>\n",
       "    <tr style=\"text-align: right;\">\n",
       "      <th></th>\n",
       "      <th>AAPL</th>\n",
       "      <th>IBM</th>\n",
       "      <th>MSFT</th>\n",
       "      <th>AMZN</th>\n",
       "      <th>GOOGL</th>\n",
       "    </tr>\n",
       "    <tr>\n",
       "      <th>Date</th>\n",
       "      <th></th>\n",
       "      <th></th>\n",
       "      <th></th>\n",
       "      <th></th>\n",
       "      <th></th>\n",
       "    </tr>\n",
       "  </thead>\n",
       "  <tbody>\n",
       "    <tr>\n",
       "      <th>1990-01-02</th>\n",
       "      <td>0.266812</td>\n",
       "      <td>11.835540</td>\n",
       "      <td>0.389807</td>\n",
       "      <td>NaN</td>\n",
       "      <td>NaN</td>\n",
       "    </tr>\n",
       "    <tr>\n",
       "      <th>1990-01-03</th>\n",
       "      <td>0.268603</td>\n",
       "      <td>11.941219</td>\n",
       "      <td>0.392004</td>\n",
       "      <td>NaN</td>\n",
       "      <td>NaN</td>\n",
       "    </tr>\n",
       "    <tr>\n",
       "      <th>1990-01-04</th>\n",
       "      <td>0.269499</td>\n",
       "      <td>12.077083</td>\n",
       "      <td>0.403533</td>\n",
       "      <td>NaN</td>\n",
       "      <td>NaN</td>\n",
       "    </tr>\n",
       "    <tr>\n",
       "      <th>1990-01-05</th>\n",
       "      <td>0.270394</td>\n",
       "      <td>12.046895</td>\n",
       "      <td>0.393651</td>\n",
       "      <td>NaN</td>\n",
       "      <td>NaN</td>\n",
       "    </tr>\n",
       "    <tr>\n",
       "      <th>1990-01-08</th>\n",
       "      <td>0.272185</td>\n",
       "      <td>12.122377</td>\n",
       "      <td>0.399690</td>\n",
       "      <td>NaN</td>\n",
       "      <td>NaN</td>\n",
       "    </tr>\n",
       "  </tbody>\n",
       "</table>\n",
       "</div>"
      ],
      "text/plain": [
       "                AAPL        IBM      MSFT  AMZN  GOOGL\n",
       "Date                                                  \n",
       "1990-01-02  0.266812  11.835540  0.389807   NaN    NaN\n",
       "1990-01-03  0.268603  11.941219  0.392004   NaN    NaN\n",
       "1990-01-04  0.269499  12.077083  0.403533   NaN    NaN\n",
       "1990-01-05  0.270394  12.046895  0.393651   NaN    NaN\n",
       "1990-01-08  0.272185  12.122377  0.399690   NaN    NaN"
      ]
     },
     "execution_count": 6,
     "metadata": {},
     "output_type": "execute_result"
    }
   ],
   "source": [
    "# Import packages\n",
    "import yfinance as yf\n",
    "import pandas as pd\n",
    "\n",
    "# Set the start and end date\n",
    "start_date = '1990-01-01'\n",
    "end_date = '2021-07-12'\n",
    "\n",
    "# Define the ticker list\n",
    "tickers_list = ['AAPL', 'IBM', 'MSFT', 'AMZN', 'GOOGL']\n",
    "\n",
    "# Create placeholder for data\n",
    "data = pd.DataFrame(columns=tickers_list)\n",
    "\n",
    "# Fetch the data\n",
    "for ticker in tickers_list:\n",
    "    data[ticker] = yf.download(ticker, \n",
    "                               start_date,\n",
    "                               end_date)['Adj Close']\n",
    "    \n",
    "# Print first 5 rows of the data\n",
    "data.head()"
   ]
  },
  {
   "cell_type": "code",
   "execution_count": 10,
   "id": "46bc4329",
   "metadata": {},
   "outputs": [
    {
     "data": {
      "image/png": "[encoded data removed]",
      "text/plain": [
       "<Figure size 720x504 with 1 Axes>"
      ]
     },
     "metadata": {
      "needs_background": "light"
     },
     "output_type": "display_data"
    },
    {
     "data": {
      "text/plain": [
       "<Figure size 432x288 with 0 Axes>"
      ]
     },
     "metadata": {},
     "output_type": "display_data"
    }
   ],
   "source": [
    "# Plot all the close prices\n",
    "data.plot(figsize=(10, 7))\n",
    "\n",
    "# Show the legend\n",
    "plt.legend()\n",
    "\n",
    "# Define the label for the title of the figure\n",
    "plt.title(\"Adjusted Close Price\", fontsize=16)\n",
    "\n",
    "# Define the labels for x-axis and y-axis\n",
    "plt.ylabel('Price', fontsize=14)\n",
    "plt.xlabel('Year', fontsize=14)\n",
    "\n",
    "plt.show()\n",
    "plt.savefig('techstocks.jpg', bbox_inches='tight')"
   ]
  },
  {
   "cell_type": "code",
   "execution_count": null,
   "id": "e61ec3e4",
   "metadata": {},
   "outputs": [],
   "source": []
  },
  {
   "cell_type": "code",
   "execution_count": 100,
   "id": "1e76009a",
   "metadata": {},
   "outputs": [],
   "source": []
  },
  {
   "cell_type": "code",
   "execution_count": null,
   "id": "6ce47787",
   "metadata": {},
   "outputs": [],
   "source": []
  },
  {
   "cell_type": "code",
   "execution_count": null,
   "id": "051924c0",
   "metadata": {},
   "outputs": [],
   "source": []
  }
 ],
 "metadata": {
  "kernelspec": {
   "display_name": "Python 3",
   "language": "python",
   "name": "python3"
  },
  "language_info": {
   "codemirror_mode": {
    "name": "ipython",
    "version": 3
   },
   "file_extension": ".py",
   "mimetype": "text/x-python",
   "name": "python",
   "nbconvert_exporter": "python",
   "pygments_lexer": "ipython3",
   "version": "3.8.8"
  }
 },
 "nbformat": 4,
 "nbformat_minor": 5
}
