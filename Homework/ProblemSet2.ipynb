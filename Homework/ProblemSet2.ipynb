{
 "cells": [
  {
   "cell_type": "markdown",
   "id": "b890a55c",
   "metadata": {},
   "source": [
    "# Problemset 2\n",
    "## Standard library\n",
    "Read through the Standard Library Chapter(located at/CompEcon_Fall21/Python/ACME_StandardLibary.pdf).\n",
    "Complete Problems 1-3."
   ]
  },
  {
   "cell_type": "markdown",
   "id": "7b9b3520",
   "metadata": {},
   "source": [
    "### Built-in functions"
   ]
  },
  {
   "cell_type": "markdown",
   "id": "1ce148b5",
   "metadata": {},
   "source": [
    "#### Problem 1"
   ]
  },
  {
   "cell_type": "code",
   "execution_count": 12,
   "id": "0dd3a659",
   "metadata": {},
   "outputs": [
    {
     "name": "stdout",
     "output_type": "stream",
     "text": [
      "1 4 2.5\n"
     ]
    }
   ],
   "source": [
    "L = [1, 2, 3, 4]\n",
    "print(min(L), max(L), (sum(L)/len(L)))"
   ]
  },
  {
   "cell_type": "markdown",
   "id": "2e54571c",
   "metadata": {},
   "source": [
    "### Namespaces"
   ]
  },
  {
   "cell_type": "code",
   "execution_count": 13,
   "id": "96fafda7",
   "metadata": {},
   "outputs": [],
   "source": [
    "number_of_students = 4\n",
    "beatles = [\"John\", \"Paul\", \"George\", \"Ringo\"]\n",
    "def add_numbers(a, b):\n",
    "    return a + b"
   ]
  },
  {
   "cell_type": "code",
   "execution_count": 14,
   "id": "dd81410a",
   "metadata": {},
   "outputs": [
    {
     "name": "stdout",
     "output_type": "stream",
     "text": [
      "['John', 'Paul', 'George', 'Ringo']\n"
     ]
    }
   ],
   "source": [
    "band_members = beatles\n",
    "print(band_members)"
   ]
  },
  {
   "cell_type": "code",
   "execution_count": 16,
   "id": "133969ad",
   "metadata": {},
   "outputs": [],
   "source": [
    "stem = [\"Science\", \"Technology\", \"Engineering\", \"Mathematics\"]"
   ]
  },
  {
   "cell_type": "code",
   "execution_count": 23,
   "id": "2830083f",
   "metadata": {},
   "outputs": [],
   "source": [
    "holy = {\"moly\": 1.99, \"hang_grenade\": 3, \"grail\": 1975.41}\n",
    "tax_prices = holy                               # Tax prices for the set holy, which has items and their value in it, making it a dictionary\n",
    "for item, price in tax_prices.items():          # Labels the items collectively as price in the original holy set\n",
    "    tax_prices[item] = round(1.07 * price, 2)   # For all the items in the holy/tax_prices set, do the following"
   ]
  },
  {
   "cell_type": "code",
   "execution_count": 24,
   "id": "7d2e51cf",
   "metadata": {},
   "outputs": [
    {
     "name": "stdout",
     "output_type": "stream",
     "text": [
      "{'moly': 2.13, 'hang_grenade': 3.21, 'grail': 2113.69}\n"
     ]
    }
   ],
   "source": [
    "print(tax_prices)"
   ]
  },
  {
   "cell_type": "code",
   "execution_count": 25,
   "id": "22c75410",
   "metadata": {},
   "outputs": [],
   "source": [
    "holy2 = {\"moly\": 1.99, \"hang_grenade\": 3, \"grail\": 1975.41}\n",
    "tax_prices2 = dict(holy2  )                      # Create a dictionary, this allows me to change the value without changing the original\n",
    "for item, price in tax_prices2.items():          # Labels the items collectively as price in the original holy set\n",
    "    tax_prices2[item] = round(1.07 * price, 2)   # For all the items in the holy/tax_prices set, do the following"
   ]
  },
  {
   "cell_type": "markdown",
   "id": "e189d111",
   "metadata": {},
   "source": [
    "#### Problem 2"
   ]
  },
  {
   "cell_type": "code",
   "execution_count": 30,
   "id": "45f6db49",
   "metadata": {},
   "outputs": [
    {
     "data": {
      "text/plain": [
       "False"
      ]
     },
     "execution_count": 30,
     "metadata": {},
     "output_type": "execute_result"
    }
   ],
   "source": [
    "# string\n",
    "str_1 = 'business'\n",
    "str_2 = str_1\n",
    "str_2 = str_2 * 2\n",
    "str_1 == str_2"
   ]
  },
  {
   "cell_type": "code",
   "execution_count": 36,
   "id": "fa50f9f4",
   "metadata": {},
   "outputs": [
    {
     "data": {
      "text/plain": [
       "True"
      ]
     },
     "execution_count": 36,
     "metadata": {},
     "output_type": "execute_result"
    }
   ],
   "source": [
    "ls_1 = ['1', '2', '3']\n",
    "ls_2 = ls_1\n",
    "ls_2[-1] = 'z'\n",
    "ls_1 == ls_2"
   ]
  },
  {
   "cell_type": "code",
   "execution_count": 38,
   "id": "b2e24107",
   "metadata": {},
   "outputs": [
    {
     "data": {
      "text/plain": [
       "False"
      ]
     },
     "execution_count": 38,
     "metadata": {},
     "output_type": "execute_result"
    }
   ],
   "source": [
    "tup_1 = (1, 2, 3, 'a', 'b', 'c')\n",
    "tup_2 = tup_1\n",
    "tup_2 += (1,)\n",
    "tup_1 == tup_2"
   ]
  },
  {
   "cell_type": "code",
   "execution_count": 42,
   "id": "d7f459c5",
   "metadata": {},
   "outputs": [
    {
     "data": {
      "text/plain": [
       "True"
      ]
     },
     "execution_count": 42,
     "metadata": {},
     "output_type": "execute_result"
    }
   ],
   "source": [
    "set_1 = {1, '*', 'o', 'b'}\n",
    "set_2 = set_1\n",
    "set_2.add('s')\n",
    "set_1 == set_2"
   ]
  },
  {
   "cell_type": "code",
   "execution_count": 43,
   "id": "f4946381",
   "metadata": {},
   "outputs": [
    {
     "name": "stdout",
     "output_type": "stream",
     "text": [
      "lists & sets are mutable\n"
     ]
    }
   ],
   "source": [
    "print('lists & sets are mutable')"
   ]
  },
  {
   "cell_type": "markdown",
   "id": "d2de6995",
   "metadata": {},
   "source": [
    "### Modules"
   ]
  },
  {
   "cell_type": "code",
   "execution_count": 44,
   "id": "20af176b",
   "metadata": {},
   "outputs": [],
   "source": [
    "import math\n",
    "import numpy as np\n",
    "from random import randint"
   ]
  },
  {
   "cell_type": "markdown",
   "id": "8f8bf088",
   "metadata": {},
   "source": [
    "#### Problem 3"
   ]
  },
  {
   "cell_type": "code",
   "execution_count": 53,
   "id": "547188e9",
   "metadata": {},
   "outputs": [],
   "source": [
    "from calculator import sum"
   ]
  },
  {
   "cell_type": "code",
   "execution_count": 54,
   "id": "e96f4471",
   "metadata": {},
   "outputs": [],
   "source": [
    "from calculator import product"
   ]
  },
  {
   "cell_type": "code",
   "execution_count": 58,
   "id": "3e1f698d",
   "metadata": {},
   "outputs": [],
   "source": [
    "import math"
   ]
  },
  {
   "cell_type": "code",
   "execution_count": 64,
   "id": "25a3339f",
   "metadata": {},
   "outputs": [],
   "source": [
    "def hypotenuse(c, d):\n",
    "    '''\n",
    "    args:\n",
    "        c: one side of a right triangle\n",
    "        d: other side of a right triangle\n",
    "    \n",
    "    returns:\n",
    "        h: the hypotenuse\n",
    "    '''\n",
    "    h = (sum(product(c, c), product(d, d)))**(1 / 2)\n",
    "    \n",
    "    return h"
   ]
  },
  {
   "cell_type": "code",
   "execution_count": 65,
   "id": "75670439",
   "metadata": {},
   "outputs": [
    {
     "data": {
      "text/plain": [
       "5.0"
      ]
     },
     "execution_count": 65,
     "metadata": {},
     "output_type": "execute_result"
    }
   ],
   "source": [
    "hypotenuse(3, 4)"
   ]
  },
  {
   "cell_type": "markdown",
   "id": "1f4e6f67",
   "metadata": {},
   "source": [
    "## Introduction to Numpy\n",
    "Problems 1, 2, and 5"
   ]
  },
  {
   "cell_type": "code",
   "execution_count": 1,
   "id": "eb3ca1a8",
   "metadata": {},
   "outputs": [],
   "source": [
    "import numpy as np"
   ]
  },
  {
   "cell_type": "markdown",
   "id": "f3a95f42",
   "metadata": {},
   "source": [
    "### Arrays"
   ]
  },
  {
   "cell_type": "markdown",
   "id": "cb053ea3",
   "metadata": {},
   "source": [
    "#### Problem 1"
   ]
  },
  {
   "cell_type": "code",
   "execution_count": 10,
   "id": "3e9967ed",
   "metadata": {},
   "outputs": [],
   "source": [
    "A = np.array([[3, -1, 4],[1, 5, -9]])\n",
    "B = np.array([[2, 6, -5, 3],[5, -8, 9, 7],[9, -3, -2, -3]])"
   ]
  },
  {
   "cell_type": "code",
   "execution_count": 11,
   "id": "fbf0901f",
   "metadata": {},
   "outputs": [
    {
     "data": {
      "text/plain": [
       "array([[ 37,  14, -32, -10],\n",
       "       [-54,  -7,  58,  65]])"
      ]
     },
     "execution_count": 11,
     "metadata": {},
     "output_type": "execute_result"
    }
   ],
   "source": [
    "np.dot(A, B)"
   ]
  },
  {
   "cell_type": "code",
   "execution_count": 8,
   "id": "6b061152",
   "metadata": {},
   "outputs": [
    {
     "data": {
      "text/plain": [
       "array([1, 2, 3])"
      ]
     },
     "execution_count": 8,
     "metadata": {},
     "output_type": "execute_result"
    }
   ],
   "source": [
    "A[0]"
   ]
  },
  {
   "cell_type": "markdown",
   "id": "246a72f5",
   "metadata": {},
   "source": [
    "### Bais Array Operations"
   ]
  },
  {
   "cell_type": "markdown",
   "id": "6ca25b0a",
   "metadata": {},
   "source": [
    "#### Problem 2"
   ]
  },
  {
   "cell_type": "code",
   "execution_count": 14,
   "id": "1333d6ab",
   "metadata": {},
   "outputs": [],
   "source": [
    "A = np.array([[3, 1, 4],[1, 5, 9],[-5, 3, 1]])"
   ]
  },
  {
   "cell_type": "code",
   "execution_count": 15,
   "id": "b2a85cb4",
   "metadata": {},
   "outputs": [
    {
     "data": {
      "text/plain": [
       "array([[ -9425,  10345,   9590],\n",
       "       [-22601,  24559,  22589],\n",
       "       [ -3751,   3869,   3409]])"
      ]
     },
     "execution_count": 15,
     "metadata": {},
     "output_type": "execute_result"
    }
   ],
   "source": [
    "(-1 * np.dot(A, A, A)) + (9 * np.dot(A, A)) - (15 * A)"
   ]
  },
  {
   "cell_type": "markdown",
   "id": "dde81000",
   "metadata": {},
   "source": [
    "### Array Manipulation\n",
    "#### Problem 5"
   ]
  },
  {
   "cell_type": "code",
   "execution_count": 38,
   "id": "de42d87b",
   "metadata": {},
   "outputs": [],
   "source": [
    "A = np.arange(6).reshape((3, 2)).T"
   ]
  },
  {
   "cell_type": "code",
   "execution_count": 39,
   "id": "f6b1ff2f",
   "metadata": {},
   "outputs": [
    {
     "name": "stdout",
     "output_type": "stream",
     "text": [
      "[[0 2 4]\n",
      " [1 3 5]]\n"
     ]
    }
   ],
   "source": [
    "print(A)"
   ]
  },
  {
   "cell_type": "code",
   "execution_count": 49,
   "id": "92b2d884",
   "metadata": {},
   "outputs": [],
   "source": [
    "B = np.full(3,3)\n",
    "np.tril(B)\n",
    "B = np.tril(B)"
   ]
  },
  {
   "cell_type": "code",
   "execution_count": 50,
   "id": "9705e587",
   "metadata": {},
   "outputs": [
    {
     "name": "stdout",
     "output_type": "stream",
     "text": [
      "[[3 0 0]\n",
      " [3 3 0]\n",
      " [3 3 3]]\n"
     ]
    }
   ],
   "source": [
    "print(B)"
   ]
  },
  {
   "cell_type": "code",
   "execution_count": 40,
   "id": "d8bdd9b6",
   "metadata": {},
   "outputs": [],
   "source": [
    "C = np.diag([-2, -2, -2])"
   ]
  },
  {
   "cell_type": "code",
   "execution_count": 41,
   "id": "236e373d",
   "metadata": {},
   "outputs": [
    {
     "name": "stdout",
     "output_type": "stream",
     "text": [
      "[[-2  0  0]\n",
      " [ 0 -2  0]\n",
      " [ 0  0 -2]]\n"
     ]
    }
   ],
   "source": [
    "print(C)"
   ]
  },
  {
   "cell_type": "code",
   "execution_count": 51,
   "id": "5734c6ea",
   "metadata": {},
   "outputs": [
    {
     "name": "stdout",
     "output_type": "stream",
     "text": [
      "[[1. 0. 0.]\n",
      " [0. 1. 0.]\n",
      " [0. 0. 1.]]\n"
     ]
    }
   ],
   "source": [
    "I = np.eye(3)\n",
    "print(I)"
   ]
  },
  {
   "cell_type": "code",
   "execution_count": 57,
   "id": "bf94df75",
   "metadata": {},
   "outputs": [
    {
     "name": "stdout",
     "output_type": "stream",
     "text": [
      "[[0. 0. 0.]\n",
      " [0. 0. 0.]\n",
      " [0. 0. 0.]]\n"
     ]
    }
   ],
   "source": [
    "Z1 = np.zeros_like(I)\n",
    "print(Z1)"
   ]
  },
  {
   "cell_type": "code",
   "execution_count": 58,
   "id": "02de750f",
   "metadata": {},
   "outputs": [
    {
     "name": "stdout",
     "output_type": "stream",
     "text": [
      "[[0 0 0]\n",
      " [0 0 0]]\n"
     ]
    }
   ],
   "source": [
    "Z2 = np.zeros_like(A)\n",
    "print(Z2)"
   ]
  },
  {
   "cell_type": "code",
   "execution_count": 59,
   "id": "cc77ded9",
   "metadata": {},
   "outputs": [],
   "source": [
    "BM1 = np.vstack((Z1, A, B))"
   ]
  },
  {
   "cell_type": "code",
   "execution_count": 60,
   "id": "528f77d0",
   "metadata": {},
   "outputs": [
    {
     "name": "stdout",
     "output_type": "stream",
     "text": [
      "[[0. 0. 0.]\n",
      " [0. 0. 0.]\n",
      " [0. 0. 0.]\n",
      " [0. 2. 4.]\n",
      " [1. 3. 5.]\n",
      " [3. 0. 0.]\n",
      " [3. 3. 0.]\n",
      " [3. 3. 3.]]\n"
     ]
    }
   ],
   "source": [
    "print(BM1)"
   ]
  },
  {
   "cell_type": "code",
   "execution_count": 67,
   "id": "afea55aa",
   "metadata": {},
   "outputs": [],
   "source": [
    "BM2 = np.vstack((A.T, np.zeros(4).reshape(2,2), Z2.T))"
   ]
  },
  {
   "cell_type": "code",
   "execution_count": 68,
   "id": "4ec01a82",
   "metadata": {},
   "outputs": [
    {
     "name": "stdout",
     "output_type": "stream",
     "text": [
      "[[0. 1.]\n",
      " [2. 3.]\n",
      " [4. 5.]\n",
      " [0. 0.]\n",
      " [0. 0.]\n",
      " [0. 0.]\n",
      " [0. 0.]\n",
      " [0. 0.]]\n"
     ]
    }
   ],
   "source": [
    "print(BM2)"
   ]
  },
  {
   "cell_type": "code",
   "execution_count": 75,
   "id": "19b642a9",
   "metadata": {},
   "outputs": [],
   "source": [
    "BM3 = np.vstack((I, np.zeros(6).reshape(2,-1), C))"
   ]
  },
  {
   "cell_type": "code",
   "execution_count": 76,
   "id": "bcbbb3cb",
   "metadata": {},
   "outputs": [
    {
     "name": "stdout",
     "output_type": "stream",
     "text": [
      "[[ 1.  0.  0.]\n",
      " [ 0.  1.  0.]\n",
      " [ 0.  0.  1.]\n",
      " [ 0.  0.  0.]\n",
      " [ 0.  0.  0.]\n",
      " [-2.  0.  0.]\n",
      " [ 0. -2.  0.]\n",
      " [ 0.  0. -2.]]\n"
     ]
    }
   ],
   "source": [
    "print(BM3)"
   ]
  },
  {
   "cell_type": "code",
   "execution_count": 77,
   "id": "8b8f91b2",
   "metadata": {},
   "outputs": [],
   "source": [
    "BLOCK = np.hstack((BM1, BM2, BM3))"
   ]
  },
  {
   "cell_type": "code",
   "execution_count": 78,
   "id": "c9430f76",
   "metadata": {},
   "outputs": [
    {
     "name": "stdout",
     "output_type": "stream",
     "text": [
      "[[ 0.  0.  0.  0.  1.  1.  0.  0.]\n",
      " [ 0.  0.  0.  2.  3.  0.  1.  0.]\n",
      " [ 0.  0.  0.  4.  5.  0.  0.  1.]\n",
      " [ 0.  2.  4.  0.  0.  0.  0.  0.]\n",
      " [ 1.  3.  5.  0.  0.  0.  0.  0.]\n",
      " [ 3.  0.  0.  0.  0. -2.  0.  0.]\n",
      " [ 3.  3.  0.  0.  0.  0. -2.  0.]\n",
      " [ 3.  3.  3.  0.  0.  0.  0. -2.]]\n"
     ]
    }
   ],
   "source": [
    "print(BLOCK)"
   ]
  },
  {
   "cell_type": "markdown",
   "id": "e6c7aa06",
   "metadata": {},
   "source": [
    "# Object Oriented Programming\n",
    "Problems 1 & 2"
   ]
  },
  {
   "cell_type": "markdown",
   "id": "9d7e5aef",
   "metadata": {},
   "source": [
    "### Instantiation\n",
    "#### Problem 1"
   ]
  },
  {
   "cell_type": "code",
   "execution_count": 335,
   "id": "a4c8a9b8",
   "metadata": {},
   "outputs": [],
   "source": [
    "class Backpack:\n",
    "    \"\"\"\n",
    "    A Backpack object class. Has a name and a list of contents.\n",
    "    \n",
    "    Attributes:\n",
    "        name(str): the name of the backpack's owner.\n",
    "        contents(list): the contents of the backpack.\n",
    "    \"\"\"\n",
    "    def __init__(self, name, color, max_size=5):  # The constructor\n",
    "        \"\"\"\n",
    "        Set the name and initialize an empty list of contents.\n",
    "        \n",
    "        Parameters:\n",
    "            name(str): the name of the backpack's owner.\n",
    "        \"\"\"\n",
    "        self.name = name # Initialize the attributes\n",
    "        self.color = color\n",
    "        self.max_size = max_size\n",
    "        self.contents = []\n",
    "    def put(self, item):\n",
    "        \"\"\"Add item to the backpack's list of contents \"\"\"\n",
    "        if len(self.contents)== self.max_size:\n",
    "            print(\"No Room!\")\n",
    "        else:\n",
    "            self.contents.append(item)\n",
    "    def take(self,item):\n",
    "        \"\"\"Remove item from the backpack's list of contents\"\"\"\n",
    "        self.contents.remove(item)\n",
    "    def dump(self):\n",
    "        if len(self.contents)== 0:\n",
    "            print(\"Nothing to dump\")\n",
    "        else: \n",
    "            self.contents = []\n",
    "            print(\"Dumping contents\")"
   ]
  },
  {
   "cell_type": "code",
   "execution_count": 336,
   "id": "c2bc98ec",
   "metadata": {},
   "outputs": [
    {
     "data": {
      "text/plain": [
       "5"
      ]
     },
     "execution_count": 336,
     "metadata": {},
     "output_type": "execute_result"
    }
   ],
   "source": [
    "my_backpack = Backpack(\"Gianni\",\"blue\")\n",
    "type(my_backpack)\n",
    "my_backpack.max_size"
   ]
  },
  {
   "cell_type": "code",
   "execution_count": 337,
   "id": "c990f4ea",
   "metadata": {},
   "outputs": [
    {
     "name": "stdout",
     "output_type": "stream",
     "text": [
      "Gianni blue 5 []\n"
     ]
    }
   ],
   "source": [
    "print(my_backpack.name, my_backpack.color, my_backpack.max_size, my_backpack.contents)"
   ]
  },
  {
   "cell_type": "code",
   "execution_count": 338,
   "id": "13b041fc",
   "metadata": {},
   "outputs": [
    {
     "name": "stdout",
     "output_type": "stream",
     "text": [
      "Gianni DB []\n"
     ]
    }
   ],
   "source": [
    "my_backpack.name = (\"Gianni DB\")\n",
    "print(my_backpack.name, my_backpack.contents)"
   ]
  },
  {
   "cell_type": "code",
   "execution_count": 339,
   "id": "7608dcc5",
   "metadata": {},
   "outputs": [
    {
     "data": {
      "text/plain": [
       "['notebook', 'pencils', 'A', 'B']"
      ]
     },
     "execution_count": 339,
     "metadata": {},
     "output_type": "execute_result"
    }
   ],
   "source": [
    "my_backpack.put(\"notebook\")\n",
    "my_backpack.put(\"pencils\")\n",
    "my_backpack.put(\"A\")\n",
    "my_backpack.put(\"B\")\n",
    "my_backpack.contents"
   ]
  },
  {
   "cell_type": "code",
   "execution_count": 340,
   "id": "9d5087d0",
   "metadata": {},
   "outputs": [
    {
     "name": "stdout",
     "output_type": "stream",
     "text": [
      "Dumping contents\n"
     ]
    },
    {
     "data": {
      "text/plain": [
       "[]"
      ]
     },
     "execution_count": 340,
     "metadata": {},
     "output_type": "execute_result"
    }
   ],
   "source": [
    "my_backpack.dump()\n",
    "my_backpack.contents"
   ]
  },
  {
   "cell_type": "markdown",
   "id": "4d39e14a",
   "metadata": {},
   "source": [
    "### Inheritance\n",
    "#### Problem 2"
   ]
  },
  {
   "cell_type": "code",
   "execution_count": 344,
   "id": "f05c7ca6",
   "metadata": {},
   "outputs": [],
   "source": [
    "class knapsack(Backpack):\n",
    "    \"\"\"\n",
    "    Attributes:\n",
    "        name(str): the name of the knapsack's owner.\n",
    "        color(str): the color of the knapsack.\n",
    "        max_size(int): the maximum number of items that can fir inside\n",
    "        Contents(list): the contents od the backpack.\n",
    "        Closed (bool): Whether or not the knapsack is tied shut.\"\"\"\n",
    "    def __init__(self, name, color, max_size=3):\n",
    "        \"\"\"Use the backpack constructor to initialize the name, color, \n",
    "        and max_size attributes. A knapsack only holds 3 items by default\n",
    "        \n",
    "        Parameters:\n",
    "            name(str): the name of the knapsack's owner.\n",
    "            color(str): the color of the knapsack.\n",
    "            max_size(int): the maximum number of items that can fir inside.\"\"\"\n",
    "        Backpack.__init__(self, name, color, max_size)\n",
    "        self.closed = True\n",
    "    def put(self, item): # Override the put() method.\n",
    "        \"\"\"If the knapsack is untied, use the Backpack.put() method.\"\"\"\n",
    "        if self.closed:\n",
    "            print(\"I'm closed!\")\n",
    "        else:\n",
    "            Backpack.put(self, item) # The original put method from the backpack command.\n",
    "    def take(self, item):\n",
    "        \"\"\"If the knapsack is untied, use the Backpack.take() method.\"\"\"\n",
    "        if self.closed:\n",
    "            print(\"I'm closed!\")\n",
    "        else:\n",
    "            Backpack.take(self, item)\n",
    "    def weight(self):  # Defining a new method, just for the knapsack, not present in Backpack.\n",
    "        \"\"\"Calculcate the weight of the knapsacks by counting the length of \n",
    "        the string representations of each item in the contents list.\"\"\"\n",
    "        return sum([len(str(item)) for item in self.contents])"
   ]
  },
  {
   "cell_type": "code",
   "execution_count": 345,
   "id": "014b1427",
   "metadata": {},
   "outputs": [],
   "source": [
    "my_knapsack = knapsack(\"Monika\",\"Grey\")"
   ]
  },
  {
   "cell_type": "code",
   "execution_count": 346,
   "id": "9624a6a7",
   "metadata": {},
   "outputs": [
    {
     "name": "stdout",
     "output_type": "stream",
     "text": [
      "I'm closed!\n"
     ]
    }
   ],
   "source": [
    "my_knapsack.put('compass')"
   ]
  },
  {
   "cell_type": "code",
   "execution_count": 347,
   "id": "640e6219",
   "metadata": {},
   "outputs": [
    {
     "data": {
      "text/plain": [
       "['compass', 'pocket knife']"
      ]
     },
     "execution_count": 347,
     "metadata": {},
     "output_type": "execute_result"
    }
   ],
   "source": [
    "my_knapsack.closed = False\n",
    "my_knapsack.put(\"compass\")\n",
    "my_knapsack.put(\"pocket knife\")\n",
    "my_knapsack.contents"
   ]
  },
  {
   "cell_type": "code",
   "execution_count": 349,
   "id": "5138296c",
   "metadata": {},
   "outputs": [
    {
     "name": "stdout",
     "output_type": "stream",
     "text": [
      "True False\n"
     ]
    }
   ],
   "source": [
    "print(hasattr(my_knapsack, \"weight\"), hasattr(my_backpack, \"weight\"))"
   ]
  },
  {
   "cell_type": "code",
   "execution_count": 351,
   "id": "60a3d21c",
   "metadata": {},
   "outputs": [
    {
     "name": "stdout",
     "output_type": "stream",
     "text": [
      "Dumping contents\n"
     ]
    },
    {
     "data": {
      "text/plain": [
       "[]"
      ]
     },
     "execution_count": 351,
     "metadata": {},
     "output_type": "execute_result"
    }
   ],
   "source": [
    "my_knapsack.dump()\n",
    "my_knapsack.contents"
   ]
  },
  {
   "cell_type": "code",
   "execution_count": 431,
   "id": "d49f506f",
   "metadata": {},
   "outputs": [],
   "source": [
    "class jetpack(Backpack):\n",
    "    def __init__(self, name, color, max_size=2, fuel=10):\n",
    "        self.fuel = 10\n",
    "        \n",
    "    def fly(self, item):\n",
    "        if self.fly() > self.fuel:\n",
    "            print(\"Not enough fuel!\")\n",
    "        else:\n",
    "            left = fuel - self.fly,\n",
    "            print(\"Flying!\")\n",
    "            \n",
    "    def dump(self):\n",
    "        if len(self.contents)== 0:\n",
    "            print(\"Nothing to dump\")\n",
    "        else: \n",
    "            self.contents = []\n",
    "            self.fuel = []\n",
    "            print(\"Dumping contents & fuel\")"
   ]
  },
  {
   "cell_type": "code",
   "execution_count": 432,
   "id": "7d6c5a05",
   "metadata": {},
   "outputs": [],
   "source": [
    "my_jetpack = jetpack(\"Monika\", \"yellow\")"
   ]
  },
  {
   "cell_type": "code",
   "execution_count": 433,
   "id": "13b5d506",
   "metadata": {},
   "outputs": [
    {
     "data": {
      "text/plain": [
       "10"
      ]
     },
     "execution_count": 433,
     "metadata": {},
     "output_type": "execute_result"
    }
   ],
   "source": [
    "my_jetpack.fuel"
   ]
  },
  {
   "cell_type": "code",
   "execution_count": 434,
   "id": "ee97943e",
   "metadata": {},
   "outputs": [
    {
     "ename": "TypeError",
     "evalue": "fly() missing 1 required positional argument: 'item'",
     "output_type": "error",
     "traceback": [
      "\u001b[0;31m---------------------------------------------------------------------------\u001b[0m",
      "\u001b[0;31mTypeError\u001b[0m                                 Traceback (most recent call last)",
      "\u001b[0;32m<ipython-input-434-74a8855d4189>\u001b[0m in \u001b[0;36m<module>\u001b[0;34m\u001b[0m\n\u001b[0;32m----> 1\u001b[0;31m \u001b[0mmy_jetpack\u001b[0m\u001b[0;34m.\u001b[0m\u001b[0mfly\u001b[0m\u001b[0;34m(\u001b[0m\u001b[0;36m1\u001b[0m\u001b[0;34m)\u001b[0m\u001b[0;34m\u001b[0m\u001b[0;34m\u001b[0m\u001b[0m\n\u001b[0m",
      "\u001b[0;32m<ipython-input-431-cd09e774f648>\u001b[0m in \u001b[0;36mfly\u001b[0;34m(self, item)\u001b[0m\n\u001b[1;32m      4\u001b[0m \u001b[0;34m\u001b[0m\u001b[0m\n\u001b[1;32m      5\u001b[0m     \u001b[0;32mdef\u001b[0m \u001b[0mfly\u001b[0m\u001b[0;34m(\u001b[0m\u001b[0mself\u001b[0m\u001b[0;34m,\u001b[0m \u001b[0mitem\u001b[0m\u001b[0;34m)\u001b[0m\u001b[0;34m:\u001b[0m\u001b[0;34m\u001b[0m\u001b[0;34m\u001b[0m\u001b[0m\n\u001b[0;32m----> 6\u001b[0;31m         \u001b[0;32mif\u001b[0m \u001b[0mself\u001b[0m\u001b[0;34m.\u001b[0m\u001b[0mfly\u001b[0m\u001b[0;34m(\u001b[0m\u001b[0;34m)\u001b[0m \u001b[0;34m>\u001b[0m \u001b[0mself\u001b[0m\u001b[0;34m.\u001b[0m\u001b[0mfuel\u001b[0m\u001b[0;34m:\u001b[0m\u001b[0;34m\u001b[0m\u001b[0;34m\u001b[0m\u001b[0m\n\u001b[0m\u001b[1;32m      7\u001b[0m             \u001b[0mprint\u001b[0m\u001b[0;34m(\u001b[0m\u001b[0;34m\"Not enough fuel!\"\u001b[0m\u001b[0;34m)\u001b[0m\u001b[0;34m\u001b[0m\u001b[0;34m\u001b[0m\u001b[0m\n\u001b[1;32m      8\u001b[0m         \u001b[0;32melse\u001b[0m\u001b[0;34m:\u001b[0m\u001b[0;34m\u001b[0m\u001b[0;34m\u001b[0m\u001b[0m\n",
      "\u001b[0;31mTypeError\u001b[0m: fly() missing 1 required positional argument: 'item'"
     ]
    }
   ],
   "source": [
    "my_jetpack.fly(1)"
   ]
  },
  {
   "cell_type": "markdown",
   "id": "15504c9b",
   "metadata": {},
   "source": [
    "### I failed to complete Problem 3.2\n",
    "I think I made some mistake in defining my methods, but I could not figure out how to do it."
   ]
  },
  {
   "cell_type": "code",
   "execution_count": null,
   "id": "2c9e07d1",
   "metadata": {},
   "outputs": [],
   "source": []
  }
 ],
 "metadata": {
  "kernelspec": {
   "display_name": "Python 3",
   "language": "python",
   "name": "python3"
  },
  "language_info": {
   "codemirror_mode": {
    "name": "ipython",
    "version": 3
   },
   "file_extension": ".py",
   "mimetype": "text/x-python",
   "name": "python",
   "nbconvert_exporter": "python",
   "pygments_lexer": "ipython3",
   "version": "3.8.8"
  }
 },
 "nbformat": 4,
 "nbformat_minor": 5
}
