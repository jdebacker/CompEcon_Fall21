{
 "cells": [
  {
   "cell_type": "markdown",
   "metadata": {},
   "source": [
    "# ProblemSet2"
   ]
  },
  {
   "cell_type": "markdown",
   "metadata": {},
   "source": [
    "## ACME_StandardLibary"
   ]
  },
  {
   "cell_type": "markdown",
   "metadata": {},
   "source": [
    "### Problem1\n",
    "Write a function that accepts a list L and returns the minimum, maximum, and average of the entries of L (in that order). Can you implement this function in a single line?"
   ]
  },
  {
   "cell_type": "code",
   "execution_count": null,
   "metadata": {},
   "outputs": [],
   "source": [
    "def max_min_avg(L):\n",
    "    '''\n",
    "    Arg:\n",
    "        L(list): a list of number\n",
    "        \n",
    "    Returns\n",
    "        a, b, c: a tuple that contains maximun, minimum, and average of the list\n",
    "    '''\n",
    "    a = max(L)\n",
    "    b = min(L)\n",
    "    c = sum(L)/len(L)\n",
    "    return a, b, c"
   ]
  },
  {
   "cell_type": "code",
   "execution_count": null,
   "metadata": {},
   "outputs": [],
   "source": [
    "L = range(1,10)\n",
    "res1 = max_min_avg(L)\n",
    "res1"
   ]
  },
  {
   "cell_type": "markdown",
   "metadata": {},
   "source": [
    "### Problem 2"
   ]
  },
  {
   "cell_type": "markdown",
   "metadata": {},
   "source": [
    "Determine which of Python’s object types are mutable and which are immutable by repeating the following experiment for an int, str, list, tuple, and set.\n",
    "    1. Create an object of the given type and assign a name to it.\n",
    "    2. Assign a new name to the first name.\n",
    "    3. Alter the object via only one of the names (for tuples, use my_tuple += (1,)).\n",
    "    4. Check to see if the two names are equal. If they are, then since changing one name changed the other, the names refer to the same object and the object type is mutable. Otherwise, the names refer to different objects—meaning a copy was made in step 2—and therefore the object type is immutable.\n",
    "    \n",
    "For example, the following experiment shows that dict is a mutable type.\n",
    "[![hccSVf.png](https://z3.ax1x.com/2021/09/04/hccSVf.png)](https://imgtu.com/i/hccSVf)\n",
    "\n",
    "Print a statement of your conclusions that clearly indicates which object types are mutable and which are immutable."
   ]
  },
  {
   "cell_type": "code",
   "execution_count": null,
   "metadata": {},
   "outputs": [],
   "source": [
    "'''\n",
    "Step 1: Create an int, str, list, tuple, and set\n",
    "'''\n",
    "int_1 = 9766 # create an int\n",
    "str_1 = \"Lucia\" # create a str\n",
    "list_1 = [1,2,3,4,5,6,7,7,6] # create a list\n",
    "tuple_1 = ('a','b',1,3) # create a tuple \n",
    "set_1 = {1,2,3,4,5} # create a set \n",
    "\n",
    "'''\n",
    "Step 2: Assign it a new name\n",
    "'''\n",
    "int_2 = int_1\n",
    "str_2 = str_1\n",
    "list_2 = list_1\n",
    "tuple_2 = tuple_1\n",
    "set_2 = set_1\n",
    "\n",
    "'''\n",
    "Step 3: Change the 'new' one\n",
    "'''\n",
    "int_2 = 6799\n",
    "str_2 = \"Lucy\"\n",
    "list_2[1] = 8\n",
    "tuple_2 += (1,)\n",
    "set_2 ^= {6,7}\n",
    "\n",
    "'''\n",
    "Step 4: Check to see if the two names are equal, and decide whether the object is mutable\n",
    "'''\n",
    "if int_1 == int_2: # check the int\n",
    "    print('int is mutable')\n",
    "else:\n",
    "    print('int is immutable')\n",
    "\n",
    "if str_1 == str_2: # check the str\n",
    "    print('str is mutable')\n",
    "else:\n",
    "    print('str is immutable')\n",
    "    \n",
    "if list_1 == list_2: # check the list\n",
    "    print('list is mutable')\n",
    "else:\n",
    "    print('list is immutable')\n",
    "\n",
    "if tuple_1 == tuple_2: # check the tuple\n",
    "    print('tuple is mutable')\n",
    "else:\n",
    "    print('tuple is immutable')\n",
    "\n",
    "if set_1 == set_2: # check the set\n",
    "    print('set is mutable')\n",
    "else:\n",
    "    print('set is immutable')"
   ]
  },
  {
   "cell_type": "markdown",
   "metadata": {},
   "source": [
    "### Problem 3"
   ]
  },
  {
   "cell_type": "markdown",
   "metadata": {},
   "source": [
    "Create a module called calculator.py. Write a function that returns the sum of two arguments and a function that returns the product of two arguments. Also use import to add the sqrt() function from the math module to the namespace. When this file is either run or imported, nothing should be executed.\\\n",
    "In your solutions file, import your new custom module. Write a function that accepts two numbers representing the lengths of the sides of a right triangle. Using only the functions from calculator.py, calculate and return the length of the hypotenuse of the triangle."
   ]
  },
  {
   "cell_type": "markdown",
   "metadata": {},
   "source": [
    "$$\n",
    "c = \\sqrt{a^2+b^2}\n",
    "$$"
   ]
  },
  {
   "cell_type": "markdown",
   "metadata": {},
   "source": [
    "```Python\n",
    "from math import sqrt\n",
    "\n",
    "def sum_two(a,b):\n",
    "    '''\n",
    "    Arg:\n",
    "        a,b: two int\n",
    "    \n",
    "    Returns:\n",
    "        c: int that equals to the sum of two arguments\n",
    "    '''\n",
    "    c = a + b\n",
    "    return c\n",
    "\n",
    "def pdt_two(e,f):\n",
    "    '''\n",
    "    Arg:\n",
    "        e,f: two int\n",
    "    \n",
    "    Returns:\n",
    "        g: int that equals to the sum of two arguments\n",
    "    '''\n",
    "    g = e * f\n",
    "    return g\n",
    "```"
   ]
  },
  {
   "cell_type": "code",
   "execution_count": 15,
   "metadata": {},
   "outputs": [],
   "source": [
    "import calculator as cal\n",
    "\n",
    "def hypotenuse_length(side1, side2): # calculate the hypotenuse length of a right triangle\n",
    "    '''\n",
    "    Arg:\n",
    "        side1(int), side2(int): represent the lengths of the sides of a right triangle\n",
    "    \n",
    "    Returns:\n",
    "        hypotenuse(int): hypotenuse length\n",
    "    '''\n",
    "    side1_2 = cal.pdt_two(side1,side1)\n",
    "    side2_2 = cal.pdt_two(side2,side2)\n",
    "    hypotenuse_2 = cal.sum_two(side1_2,side2_2)\n",
    "    hypotenuse = cal.sqrt(hypotenuse_2)\n",
    "    \n",
    "    return hypotenuse"
   ]
  },
  {
   "cell_type": "markdown",
   "metadata": {},
   "source": [
    "## ACME_NumpyIntro"
   ]
  },
  {
   "cell_type": "markdown",
   "metadata": {},
   "source": [
    "### Problem 1"
   ]
  },
  {
   "cell_type": "markdown",
   "metadata": {},
   "source": [
    "There are two main ways to perform matrix multiplication in NumPy: with NumPy’s dot() function (np.dot(A, B)), or with the @ operator (A @ B). Write a function that defines the following matrices as NumPy arrays.\n",
    "[![ItSEUG.md.png](https://s3.jpg.cm/2021/09/04/ItSEUG.md.png)](https://imagelol.com/image/ItSEUG)\n",
    "Return the matrix product AB."
   ]
  },
  {
   "cell_type": "code",
   "execution_count": 1,
   "metadata": {},
   "outputs": [
    {
     "data": {
      "text/plain": [
       "array([[ 37,  14, -32, -10],\n",
       "       [-54,  -7,  58,  65]])"
      ]
     },
     "execution_count": 1,
     "metadata": {},
     "output_type": "execute_result"
    }
   ],
   "source": [
    "import numpy as np\n",
    "def functionAB():\n",
    "    '''\n",
    "    Step 1: define matrix A and B\n",
    "    '''\n",
    "    A = np.array([[3, -1, 4], \n",
    "                  [1, 5, -9]])\n",
    "    B = np.array([[2, 6, -5, 3], \n",
    "                  [5, -8, 9, 7], \n",
    "                  [9, -3, -2, -3]])\n",
    "    \n",
    "    '''\n",
    "    Step2: get the matrix product of A and B, and name it AB\n",
    "    '''\n",
    "    AB = np.dot(A,B)\n",
    "    \n",
    "    '''\n",
    "    Step3: return AB\n",
    "    '''\n",
    "    return AB\n",
    "\n",
    "functionAB() # call the function I defined"
   ]
  },
  {
   "cell_type": "markdown",
   "metadata": {},
   "source": [
    "### Problem 2"
   ]
  },
  {
   "cell_type": "markdown",
   "metadata": {},
   "source": [
    "Write a function that defines the following matrix as a NumPy array.\n",
    "[![ItSFw4.png](https://s3.jpg.cm/2021/09/04/ItSFw4.png)](https://imagelol.com/image/ItSFw4)\n",
    "Return the matrix $-A^3 + 9A^2 - 15A$"
   ]
  },
  {
   "cell_type": "code",
   "execution_count": 4,
   "metadata": {},
   "outputs": [
    {
     "data": {
      "text/plain": [
       "array([[0, 0, 0],\n",
       "       [0, 0, 0],\n",
       "       [0, 0, 0]])"
      ]
     },
     "execution_count": 4,
     "metadata": {},
     "output_type": "execute_result"
    }
   ],
   "source": [
    "def fun_A():\n",
    "    '''\n",
    "    Step1: define matrix A\n",
    "    '''\n",
    "    A = np.array([[3, 1, 4],\n",
    "              [1, 5, 9],\n",
    "              [-5, 3, 1]])\n",
    "    '''\n",
    "    Step2: put matrix A into the operation, and get the result res\n",
    "    '''\n",
    "    A_2 = np.dot(A,A)\n",
    "    A_3 = np.dot(A_2, A)\n",
    "    \n",
    "    res = -A_3 + 9*A_2 - 15*A\n",
    "    \n",
    "    return res\n",
    "\n",
    "fun_A()  # call the function I defined"
   ]
  },
  {
   "cell_type": "markdown",
   "metadata": {},
   "source": [
    "### Problem 5"
   ]
  },
  {
   "cell_type": "markdown",
   "metadata": {},
   "source": [
    "Write a function that defines the following matrices as NumPy arrays.\n",
    "[![ItSkxX.md.png](https://s3.jpg.cm/2021/09/04/ItSkxX.md.png)](https://imagelol.com/image/ItSkxX)\n",
    "Use NumPy’s stacking functions to create and return the block matrix:\n",
    "[![ItSplD.png](https://s3.jpg.cm/2021/09/04/ItSplD.png)](https://imagelol.com/image/ItSplD)\n",
    "where I is the 3 × 3 identity matrix and each 0 is a matrix of all zeros of appropriate size.\n",
    "A block matrix of this form is used in the Interior Point method for linear optimization."
   ]
  },
  {
   "cell_type": "code",
   "execution_count": 62,
   "metadata": {},
   "outputs": [
    {
     "data": {
      "text/plain": [
       "array([[ 0.,  0.,  0.,  0.,  1.,  1.,  0.,  0.],\n",
       "       [ 0.,  0.,  0.,  2.,  3.,  0.,  1.,  0.],\n",
       "       [ 0.,  0.,  0.,  4.,  5.,  0.,  0.,  1.],\n",
       "       [ 0.,  2.,  4.,  0.,  0.,  0.,  0.,  0.],\n",
       "       [ 1.,  3.,  5.,  0.,  0.,  0.,  0.,  0.],\n",
       "       [ 3.,  0.,  0.,  0.,  0., -2., -0., -0.],\n",
       "       [ 3.,  3.,  0.,  0.,  0., -0., -2., -0.],\n",
       "       [ 3.,  3.,  3.,  0.,  0., -0., -0., -2.]])"
      ]
     },
     "execution_count": 62,
     "metadata": {},
     "output_type": "execute_result"
    }
   ],
   "source": [
    "def funcBlock():\n",
    "    '''\n",
    "    Step1: define the matrix A, B, C and I\n",
    "    '''\n",
    "    A = np.array([[0, 2, 4],\n",
    "                  [1, 3, 5]])\n",
    "    B = np.array([[3, 0, 0],\n",
    "                  [3, 3, 0],\n",
    "                  [3, 3, 3]])\n",
    "    C = -2*np.eye(3,3)\n",
    "    I = np.eye(3,3)\n",
    "    \n",
    "    '''\n",
    "    Step2: put the zero matrix of suitable shape into each row\n",
    "    '''\n",
    "    row_1 = np.hstack((np.zeros((3,3)), A.T, I))\n",
    "    row_2 = np.hstack((A, np.zeros((2,2)), np.zeros((2,3))))\n",
    "    row_3 = np.hstack((B, np.zeros((3,2)), C))\n",
    "\n",
    "    '''\n",
    "    Srep3: get the final block matrix\n",
    "    '''\n",
    "    res5 = np.vstack((row_1, row_2, row_3))\n",
    "\n",
    "    res5"
   ]
  },
  {
   "cell_type": "markdown",
   "metadata": {},
   "source": [
    "## ACME_ObjectOriented"
   ]
  },
  {
   "cell_type": "markdown",
   "metadata": {},
   "source": [
    "### Problem1"
   ]
  },
  {
   "cell_type": "markdown",
   "metadata": {},
   "source": [
    "Expand the Backpack class to match the following specifications.\n",
    "    1. Modify the constructor so that it accepts three total arguments: name, color, and max_size (in that order). Make max_size a keyword argument that defaults to 5. Store each input as an attribute.\n",
    "    2. Modify the put() method to check that the backpack does not go over capacity. If there are already max_size items or more, print “No Room!” and do not add the item to the contents list.\n",
    "    3. Write a new method called dump() that resets the contents of the backpack to an empty list. This method should not receive any arguments (except self).\n",
    "    4. Documentation is especially important in classes so that the user knows what an ob- ject’s attributes represent and how to use methods appropriately. Update (or write) the docstrings for the __init__(), put(), and dump() methods, as well as the actual class docstring (under class but before __init__()) to reflect the changes from parts 1-3 of this problem.\n",
    "    \n",
    "To ensure that your class works properly, write a test function outside outside of the\n",
    "Backpack class that instantiates and analyzes a Backpack object."
   ]
  },
  {
   "cell_type": "code",
   "execution_count": 54,
   "metadata": {},
   "outputs": [],
   "source": [
    "class Backpack:\n",
    "    \"\"\"A Backpack object class. Has a name and a list of contents.\n",
    "    Attributes:\n",
    "        name (str): the name of the backpack's owner.\n",
    "        color (str): the color of the backpack\n",
    "        max_size (int): the max size of the backpack\n",
    "        contents (list): the contents of the backpack.\n",
    "    Methods:\n",
    "        put (str): add 'item' to the backpack's list of contents until achieve max size\n",
    "        take (str): remove 'item' from the backpack's list of contents\n",
    "        dump (): resets the contents of the backpack to an empty list\n",
    "    \"\"\"\n",
    "    def __init__(self, name, color, max_size = 5):           # This function is the constructor.\n",
    "        \"\"\"Set the name and initialize an empty list of contents.\n",
    "        Parameters:\n",
    "            name (str): the name of the backpack's owner.\n",
    "            color (str): the color of the backpack\n",
    "            max_size (int): the max size of the backpack, and its default number is 5\n",
    "        \"\"\"\n",
    "        \n",
    "        # Initialize some attributes.\n",
    "        self.name = name\n",
    "        self.color = color\n",
    "        self.max_size = max_size\n",
    "        self.contents = []\n",
    "        # ...\n",
    "        \n",
    "    def put(self, item):\n",
    "        \"\"\"Add 'item' to the backpack's list of contents.\"\"\"\n",
    "        if len(self.contents) < self.max_size:\n",
    "            self.contents.append(item)  # Use 'self.contents', not just 'contents'.\n",
    "        else: #  If there are already max_size items or more\n",
    "            print('No Room!')\n",
    "            \n",
    "    def take(self, item):\n",
    "        \"\"\"Remove 'item' from the backpack's list of contents.\"\"\"\n",
    "        self.contents.remove(item)\n",
    "    \n",
    "    def dump(self):\n",
    "        '''resets the contents of the backpack to an empty list'''\n",
    "        self.contents = []"
   ]
  },
  {
   "cell_type": "code",
   "execution_count": 55,
   "metadata": {},
   "outputs": [],
   "source": [
    "def test_backpack():\n",
    "    testpack = Backpack(\"Barry\", \"black\")       # Instantiate the object.\n",
    "    if testpack.name != \"Barry\":                # Test an attribute.\n",
    "        print(\"Backpack.name assigned incorrectly\")\n",
    "    for item in [\"pencil\", \"pen\", \"paper\", \"computer\"]:\n",
    "        testpack.put(item)                      # Test a method.\n",
    "    print(\"Contents:\", testpack.contents)\n",
    "    testpack.put('book')\n",
    "    print('Contents Update', testpack.contents)\n",
    "    testpack.put('bottle')\n",
    "    testpack.take('pen')\n",
    "    print('Contents Update', testpack.contents)\n",
    "    testpack.dump()\n",
    "    print('Contents Update', testpack.contents)"
   ]
  },
  {
   "cell_type": "code",
   "execution_count": 56,
   "metadata": {},
   "outputs": [
    {
     "name": "stdout",
     "output_type": "stream",
     "text": [
      "Contents: ['pencil', 'pen', 'paper', 'computer']\n",
      "Contents Update ['pencil', 'pen', 'paper', 'computer', 'book']\n",
      "No Room!\n",
      "Contents Update ['pencil', 'paper', 'computer', 'book']\n",
      "Contents Update []\n"
     ]
    }
   ],
   "source": [
    "test_backpack()"
   ]
  },
  {
   "cell_type": "markdown",
   "metadata": {},
   "source": [
    "### Problem2"
   ]
  },
  {
   "cell_type": "markdown",
   "metadata": {},
   "source": [
    "Write a Jetpack class that inherits from the Backpack class.\n",
    "    1. Override the constructor so that in addition to a name, color, and maximum size, it also accepts an amount of fuel. Change the default value of max_size to 2, and set the default value of fuel to 10. Store the fuel as an attribute.\n",
    "    2. Add a fly() method that accepts an amount of fuel to be burned and decrements the fuel attribute by that amount. If the user tries to burn more fuel than remains, print “Not enough fuel!” and do not decrement the fuel.\n",
    "    3. Override the dump() method so that both the contents and the fuel tank are emptied.\n",
    "    4. Write clear, detailed docstrings for the class and each of its methods."
   ]
  },
  {
   "cell_type": "code",
   "execution_count": 66,
   "metadata": {},
   "outputs": [],
   "source": [
    "class Jetpack(Backpack):\n",
    "    \"\"\"\n",
    "    A jetpack object class. Inherits from the Backpack class.\n",
    "    A jetpack is smaller than a backpack and can accepts an amount of fuel.\n",
    "    Attributes:\n",
    "        name (str): the name of the jetpack's owner.\n",
    "        color (str): the color of the jetpack.\n",
    "        max_size (int): the maximum number of items that can fit inside.\n",
    "        contents (list): the contents of the jetpack.\n",
    "        fuel (float): the fuel amount of jetpack        \n",
    "    Methods:\n",
    "        fly (float): decrement the amount until the fuel tank is empty\n",
    "        dump (): resets the contents of the jetpack to an empty list and set fuel to 0\n",
    "    \"\"\"\n",
    "    def __init__(self, name, color, max_size=2, fuel = 10):\n",
    "        \"\"\"\n",
    "        Use the Backpack constructor to initialize the name, color,\n",
    "        and max_size attributes. A jetpack only holds 3 item by default.\n",
    "        Parameters:\n",
    "            name (str): the name of the jetpack's owner.\n",
    "            color (str): the color of the jetpack.\n",
    "            max_size (int): the maximum number of items that can fit inside.\n",
    "        \"\"\"\n",
    "        Backpack.__init__(self, name, color, max_size)\n",
    "        self.fuel = fuel\n",
    "        \n",
    "    def fly(self, burned_fuel):\n",
    "        '''\n",
    "        accepts an amount of fuel to be burned \n",
    "        '''\n",
    "        if burned_fuel > self.fuel: # If the user tries to burn more fuel than remains\n",
    "            print('Not enough fuel!')\n",
    "        else:  # decrements the fuel attribute by the amount of burned fuel\n",
    "            self.fuel -= burned_fuel\n",
    "        \n",
    "    def dump(self):\n",
    "        '''\n",
    "        empty both the contents and the fuel tank\n",
    "        '''\n",
    "        self.contents = []\n",
    "        self.fuel = 0\n",
    "        "
   ]
  },
  {
   "cell_type": "code",
   "execution_count": 78,
   "metadata": {},
   "outputs": [],
   "source": [
    "def test_backpack():\n",
    "    testpack = Jetpack(\"Barry\", \"black\")       # Instantiate the object.\n",
    "    if testpack.name != \"Barry\":                # Test an attribute.\n",
    "        print(\"Backpack.name assigned incorrectly\")\n",
    "    for item in [\"pencil\", \"pen\"]:\n",
    "        testpack.put(item)                      # Test a method.\n",
    "    print(\"Contents:\", testpack.contents)\n",
    "    \n",
    "    print(' \\nPut a book into the jetpack')\n",
    "    testpack.put('book')\n",
    "    \n",
    "    print(' \\nTake out a pen from the jetpack')\n",
    "    testpack.take('pen')\n",
    "    print('Contents Update:', testpack.contents)\n",
    "\n",
    "    print(' \\nBurn 7 amount of fuel to fly')\n",
    "    testpack.fly(7)\n",
    "    print('Fuel Tank Update:',testpack.fuel)\n",
    "    print('Burn 4 amount of fuel to fly')\n",
    "    testpack.fly(4)\n",
    "    \n",
    "    print(' \\nReset the jetpack')\n",
    "    testpack.dump()\n",
    "    print('Contents Update:', testpack.contents)\n",
    "    print('Fuel Tank Update:',testpack.fuel)\n"
   ]
  },
  {
   "cell_type": "code",
   "execution_count": 79,
   "metadata": {},
   "outputs": [
    {
     "name": "stdout",
     "output_type": "stream",
     "text": [
      "Contents: ['pencil', 'pen']\n",
      " \n",
      "Put a book into the jetpack\n",
      "No Room!\n",
      " \n",
      "Take out a pen from the jetpack\n",
      "Contents Update: ['pencil']\n",
      " \n",
      "Burn 7 amount of fuel to fly\n",
      "Fuel Tank Update: 3\n",
      "Burn 4 amount of fuel to fly\n",
      "Not enough fuel!\n",
      " \n",
      "Reset the jetpack\n",
      "Contents Update: []\n",
      "Fuel Tank Update: 0\n"
     ]
    }
   ],
   "source": [
    "test_backpack()"
   ]
  },
  {
   "cell_type": "code",
   "execution_count": null,
   "metadata": {},
   "outputs": [],
   "source": []
  }
 ],
 "metadata": {
  "kernelspec": {
   "display_name": "Python 3",
   "language": "python",
   "name": "python3"
  },
  "language_info": {
   "codemirror_mode": {
    "name": "ipython",
    "version": 3
   },
   "file_extension": ".py",
   "mimetype": "text/x-python",
   "name": "python",
   "nbconvert_exporter": "python",
   "pygments_lexer": "ipython3",
   "version": "3.7.7"
  }
 },
 "nbformat": 4,
 "nbformat_minor": 4
}
