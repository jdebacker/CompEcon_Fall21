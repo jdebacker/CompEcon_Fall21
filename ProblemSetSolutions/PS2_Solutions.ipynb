{
 "cells": [
  {
   "cell_type": "markdown",
   "metadata": {
    "id": "CJHS0fqnF29b"
   },
   "source": [
    "# Problem Set \\#2\n",
    "## ECON 833, Computational Methods for Economists\n",
    "\n",
    "\n",
    "1. ACME Standard Library Chapter, Problem \\#1: Write a function that accepts a list L and returns the  minimum, maximum, and average of the entries of L (in that order). Can you implement this function in a single line?"
   ]
  },
  {
   "cell_type": "code",
   "execution_count": null,
   "metadata": {
    "colab": {
     "base_uri": "https://localhost:8080/"
    },
    "id": "Y3--GtNfFpRI",
    "outputId": "c44aeca4-4837-47c1-a376-f217ee5db5aa"
   },
   "outputs": [
    {
     "name": "stdout",
     "output_type": "stream",
     "text": [
      "The min, max, and mean of L =  [1, 2, 3]  are:  1 3 2.0\n"
     ]
    }
   ],
   "source": [
    "# define function\n",
    "def list_math(L):\n",
    "  return min(L), max(L), sum(L) / len(L)\n",
    "\n",
    "# call function\n",
    "L = [1, 2, 3]\n",
    "min_L, max_L, avg_L = list_math(L)\n",
    "print('The min, max, and mean of L = ', L, ' are: ', min_L, max_L, avg_L)"
   ]
  },
  {
   "cell_type": "markdown",
   "metadata": {
    "id": "2UnskDs0HdSZ"
   },
   "source": [
    "2. ACME Standard Library Chapter, Problem \\#2: Determine which of Python's object types are mutable and which are immutable by repeating the following experiment for an `int`, `str`, `list`, `tuple`, and `set`:\n",
    "  1. Create and object of given type and assign a name to it.\n",
    "  2. Assign a new name to the first name.\n",
    "  3. Alter the objects via only one of the names (for tuples you may use `my_tuple += (1,)`)\n",
    "  3. Check to see if the two names are equal. If they are, then since changing one name changed the other, the names refer to the same object and the object type is mutable. Otherwise, the names refer to different objects—meaning a copy was made in step 2—and therefore the object type is immutable.\n",
    "\n",
    "For example, the following experiment shows that `dict` is a mutable type.\n",
    "\n",
    "```python\n",
    ">>> dict_1 = {1: 'x', 2: 'b'} # Create a dictionary.\n",
    ">>> dict_2 = dict_1 # Assign it a new name.\n",
    ">>> dict_2[1] = 'a' # Change the 'new' dictionary.\n",
    ">>> dict_1 == dict_2 # Compare the two names.\n",
    "True # Both names changed!\n",
    "```\n",
    "\n",
    "Print a statement of your conclusions that clearly indicates which object types are mutable and which are immutable.\n"
   ]
  },
  {
   "cell_type": "code",
   "execution_count": null,
   "metadata": {
    "colab": {
     "base_uri": "https://localhost:8080/"
    },
    "id": "F53ftHYrF6LK",
    "outputId": "23ad1a0f-b6ad-4b63-f045-5263e8292b75"
   },
   "outputs": [
    {
     "name": "stdout",
     "output_type": "stream",
     "text": [
      "True or False: int's are mutable.  A:  False\n",
      "True or False: str's are mutable.  A:  False\n",
      "True or False: lists are mutable.  A:  True\n",
      "True or False: tuples are mutable.  A:  False\n",
      "True or False: sets are mutable.  A:  False\n"
     ]
    }
   ],
   "source": [
    "# create object of a given type and assign a name to it\n",
    "my_first_int = 3\n",
    "my_first_str = 'name'\n",
    "my_first_list = [1, 'j', 'b']\n",
    "my_first_tuple = (1, 'j', 'b')\n",
    "my_first_set = {1, 'j', 'b'}\n",
    "\n",
    "# assign a new name to the first name\n",
    "my_second_int = my_first_int\n",
    "my_second_str = my_first_str\n",
    "my_second_list = my_first_list\n",
    "my_second_tuple = my_first_tuple\n",
    "my_second_set = my_first_set\n",
    "\n",
    "# alter the objects via only one of the names\n",
    "my_first_int = 4\n",
    "my_second_str += 't'\n",
    "my_first_list[-1] = 'c'\n",
    "my_first_tuple += (1,)\n",
    "my_first_set = {'a', 'c'}\n",
    "\n",
    "# check to see if the two names are equal\n",
    "print(\"True or False: int's are mutable.  A: \", my_first_int == my_second_int)\n",
    "print(\"True or False: str's are mutable.  A: \", my_first_str == my_second_str)\n",
    "print(\"True or False: lists are mutable.  A: \", my_first_list == my_second_list)\n",
    "print(\"True or False: tuples are mutable.  A: \", my_first_tuple == my_second_tuple)\n",
    "print(\"True or False: sets are mutable.  A: \", my_first_set == my_second_set)\n"
   ]
  },
  {
   "cell_type": "markdown",
   "metadata": {
    "id": "tLU0H0sMIWOy"
   },
   "source": [
    "3. ACME Standard Library Chapter, Problem #3: Create a module called `calculator.py`. Write a function that returns the sum of two arguments and a function that returns the product of two arguments. Also use import to add the `sqrt()` function from the math module to the namespace. When this file is either run or imported, nothing should be executed.\n",
    "\n",
    "In your solutions file, import your new custom module. Write a function that accepts two numbers representing the lengths of the sides of a right triangle. Using only the functions from `calculator.py`, calculate and return the length of the hypotenuse of the triangle."
   ]
  },
  {
   "cell_type": "code",
   "execution_count": null,
   "metadata": {
    "colab": {
     "base_uri": "https://localhost:8080/"
    },
    "id": "KESi5IzWF77e",
    "outputId": "68a89c6c-8731-42a5-864f-55115c4aaf43"
   },
   "outputs": [
    {
     "name": "stdout",
     "output_type": "stream",
     "text": [
      "The hypotenuse of a right triangle with sides of lenth a =  3  and b =  4  is  5.0\n"
     ]
    }
   ],
   "source": [
    "# will define the calculator functions here to keep all in one file\n",
    "# but you would put just the following function definitiosn in calculator.py\n",
    "# then import here with `from calculator import sum2, prod2`\n",
    "\n",
    "# define functions which would go in calculator.py\n",
    "from math import sqrt\n",
    "\n",
    "def sum2(a, b):\n",
    "  '''\n",
    "  A function to compute the sum of a and b\n",
    "  '''\n",
    "  return a + b\n",
    "\n",
    "def prod2(a, b):\n",
    "  '''\n",
    "  A function to compute the product of a and b\n",
    "  '''\n",
    "  return a * b\n",
    "\n",
    "# define hypotenuse function\n",
    "def hypo(a, b):\n",
    "  '''\n",
    "  A function to compute the hypotenuse of a triagle with\n",
    "  sides of length a and b\n",
    "  '''\n",
    "  h = sqrt(sum2(prod2(a, a), prod2(b,b)))\n",
    "  return h\n",
    "\n",
    "# use hypotenuse function\n",
    "a = 3\n",
    "b = 4\n",
    "c = hypo(a, b)\n",
    "print('The hypotenuse of a right triangle with sides of lenth a = ', a,\n",
    "      ' and b = ', b, ' is ', c)\n",
    "\n"
   ]
  },
  {
   "cell_type": "markdown",
   "metadata": {
    "id": "M1k_QjPKInZf"
   },
   "source": [
    "4. ACME Intro to Numpy Chapter, Problem \\#1: There are two main ways to perform matrix multiplication in NumPy: with NumPy’s `dot()` function (`np.dot(A, B)`), or with the `@` operator (`A @ B`). Write a function that defines the following matrices as NumPy arrays.\n",
    "\n",
    "$A =$ \n",
    "\\begin{bmatrix}\n",
    "3 & -1 & 4 \\\\\n",
    "1 & 5 & - 9 \n",
    "\\end{bmatrix}\n",
    "\n",
    "$B =$ \n",
    "\\begin{bmatrix}\n",
    "2 & 6 & -5 & 3 \\\\\n",
    "5 & -8 & 9 & 7 \\\\\n",
    "9 & -3 & -2 & -3 \n",
    "\\end{bmatrix}\n",
    "\n",
    "Return the matrix product $AB$.\n",
    "\n",
    "For examples of array initialization and matrix multiplication, use object introspection in IPython to look up the documentation for `np.ndarray`, `np.array()` and `np.dot()`."
   ]
  },
  {
   "cell_type": "code",
   "execution_count": null,
   "metadata": {
    "colab": {
     "base_uri": "https://localhost:8080/"
    },
    "id": "h2NeekhtJDKP",
    "outputId": "64b279f9-8030-430f-f981-d7ca10b752ea"
   },
   "outputs": [
    {
     "name": "stdout",
     "output_type": "stream",
     "text": [
      "The resulting matrix is  [[ 37  14 -32 -10]\n",
      " [-54  -7  58  65]]\n"
     ]
    }
   ],
   "source": [
    "import numpy as np\n",
    "def prodAB():\n",
    "  '''\n",
    "  Compute the matrix product of two matrices A and B\n",
    "  '''\n",
    "  # initialize A and B\n",
    "  A = np.array([[3, -1, 4], [1, 5, -9]])\n",
    "  B = np.array([[2, 6, -5, 3], [5, -8, 9, 7], [9, -3, -2, -3]])\n",
    "  \n",
    "  return np.dot(A, B)\n",
    "\n",
    "print('The resulting matrix is ', prodAB())"
   ]
  },
  {
   "cell_type": "markdown",
   "metadata": {
    "id": "9fNuNd8JIwb5"
   },
   "source": [
    "5. ACME Intro to Numpy Chapter, Problem \\#2:  Write a function that defines the following matrix as a NumPy array.\n",
    "\n",
    "\n",
    "$A =$ \n",
    "\\begin{bmatrix}\n",
    "3 & -1 & 4 \\\\\n",
    "1 & 5 & - 9 \\\\\n",
    "-5 & 3 & 1\n",
    "\\end{bmatrix}\n",
    "\n",
    "Return the matrix $−A^3 + 9A^2 − 15A$.\n",
    "\n",
    "In this context, $A^2 = AA$ (the matrix product, not the component-wise square). The somewhat surprising result is a demonstration of the Cayley-Hamilton theorem.\n"
   ]
  },
  {
   "cell_type": "code",
   "execution_count": null,
   "metadata": {
    "colab": {
     "base_uri": "https://localhost:8080/"
    },
    "id": "Jkt2hz--JD3_",
    "outputId": "8048ca6c-f858-4ce3-d713-a6bf0265c663"
   },
   "outputs": [
    {
     "name": "stdout",
     "output_type": "stream",
     "text": [
      "The resulting matrix is  [[0 0 0]\n",
      " [0 0 0]\n",
      " [0 0 0]]\n"
     ]
    }
   ],
   "source": [
    "def CH():\n",
    "  '''\n",
    "  Compute −𝐴3+9𝐴2−15𝐴\n",
    "  '''\n",
    "  # initialize A and B\n",
    "  A = np.array([[3, 1, 4], [1, 5, 9], [-5, 3, 1]])\n",
    "  \n",
    "  return -1 * (A @ (A @ A)) + 9 * (A @ A) - 15 * A\n",
    "\n",
    "print('The resulting matrix is ', CH())"
   ]
  },
  {
   "cell_type": "markdown",
   "metadata": {
    "id": "JlBpswSqI0jA"
   },
   "source": [
    "6. ACME Intro to Numpy Chapter, Problem \\#5:  Write a function that defines the following matrices as NumPy arrays.\n",
    "\n",
    "$A = $\n",
    "\\begin{bmatrix}\n",
    "0 & 2 & 4 \\\\\n",
    "1 & 3 & 5\n",
    "\\end{bmatrix}\n",
    "\n",
    "$B = $\n",
    "\\begin{bmatrix}\n",
    "3 & 0 & 0 \\\\\n",
    "3 & 3 & 0 \\\\\n",
    "3 & 3 & 3 \\\\\n",
    "\\end{bmatrix}\n",
    "\n",
    "$C = $\n",
    "\\begin{bmatrix}\n",
    "-2 & 0 & 0 \\\\\n",
    "0 & -2 & 0 \\\\\n",
    "0 & 0 & -2 \n",
    "\\end{bmatrix}\n",
    "\n",
    "Use NumPy’s stacking functions to create and return the block matrix:\n",
    "\n",
    "\\begin{bmatrix}\n",
    "\\mathbf{0} & \\mathbf{A^T} & I \\\\\n",
    "A & \\mathbf{0} & \\mathbf{0} \\\\\n",
    "B & \\mathbf{0} & C \n",
    "\\end{bmatrix}\n",
    "\n",
    "where $I$ is the 3 × 3 identity matrix and each 0 is a matrix of all zeros of appropriate size.\n",
    "\n",
    "A block matrix of this form is used in the Interior Point method for linear optimization."
   ]
  },
  {
   "cell_type": "code",
   "execution_count": null,
   "metadata": {
    "colab": {
     "base_uri": "https://localhost:8080/"
    },
    "id": "fa142MHpJEXA",
    "outputId": "ac84aa04-2c66-46d8-a5ff-66ddbbeb70d2"
   },
   "outputs": [
    {
     "data": {
      "text/plain": [
       "array([[ 0.,  0.,  0.,  0.,  1.,  1.,  0.,  0.],\n",
       "       [ 0.,  0.,  0.,  2.,  3.,  0.,  1.,  0.],\n",
       "       [ 0.,  0.,  0.,  4.,  5.,  0.,  0.,  1.],\n",
       "       [ 0.,  2.,  4.,  0.,  0.,  0.,  0.,  0.],\n",
       "       [ 1.,  3.,  5.,  0.,  0.,  0.,  0.,  0.],\n",
       "       [ 3.,  0.,  0.,  0.,  0., -2., -0., -0.],\n",
       "       [ 3.,  3.,  0.,  0.,  0., -0., -2., -0.],\n",
       "       [ 3.,  3.,  3.,  0.,  0., -0., -0., -2.]])"
      ]
     },
     "execution_count": 38,
     "metadata": {},
     "output_type": "execute_result"
    }
   ],
   "source": [
    "A = np.array([[0, 2, 4], [1, 3, 5]])\n",
    "B = np.tril(np.ones((3, 3)) * 3)\n",
    "C = np.eye(3) * -2\n",
    "bm_r1 = np.hstack((np.zeros((3, 3)), A.T, np.eye(3)))\n",
    "bm_r2 = np.hstack((A, np.zeros((2, 2)), np.zeros((2, 3))))\n",
    "bm_r3 = np.hstack((B, np.zeros((3, 2)), C))\n",
    "block_matrix = np.vstack((bm_r1, bm_r2, bm_r3))\n",
    "block_matrix"
   ]
  },
  {
   "cell_type": "markdown",
   "metadata": {
    "id": "bBIfvvIMI3WZ"
   },
   "source": [
    "7. ACME Object Oriented Programming Chapter, Problem \\#1:  Expand the `Backpack class` to match the following specifications.\n",
    "  1. Modify the constructor so that it accepts three total arguments: `name`, `color`, and `max_size` (in that order). Make `max_size` a keyword argument that defaults to 5. Store each input as an attribute.\n",
    "  2. Modify the `put()` method to check that the backpack does not go over capacity. If there are already `max_size` items or more, print “No Room!” and do not add the item to the contents list.\n",
    "  3. Write a new method called `dump()` that resets the contents of the backpack to an empty list. This method should not receive any arguments (except self).\n",
    "  4. Documentation is especially important in classes so that the user knows what an object’s attributes represent and how to use methods appropriately. Update (or write) the docstrings for the `__init__()`, `put()`, and `dump()` methods, as well as the actual class docstring (under class but before `__init__()`) to reflect the changes from parts 1-3 of this problem.\n",
    "To ensure that your class works properly, write a test function outside outside of the `Backpack` class that instantiates and analyzes a `Backpack` object.\n",
    "\n",
    "```python\n",
    "def test_backpack():\n",
    "    testpack = Backpack(\"Barry\", \"black\")       # Instantiate the object.\n",
    "    if testpack.name != \"Barry\":                # Test an attribute.\n",
    "        print(\"Backpack.name assigned incorrectly\")\n",
    "    for item in [\"pencil\", \"pen\", \"paper\", \"computer\"]:\n",
    "        testpack.put(item)                      # Test a method.\n",
    "    print(\"Contents:\", testpack.contents)\n",
    "    # ...\n",
    "```"
   ]
  },
  {
   "cell_type": "code",
   "execution_count": null,
   "metadata": {
    "colab": {
     "base_uri": "https://localhost:8080/"
    },
    "id": "mRFDyWbhJFEd",
    "outputId": "89f20909-dbd6-4e23-daaf-2fa5d1fe2736"
   },
   "outputs": [
    {
     "name": "stdout",
     "output_type": "stream",
     "text": [
      "Contents: ['pencil', 'pen', 'paper', 'computer']\n",
      "No Room!\n",
      "Contents: ['pencil', 'pen', 'paper', 'computer', 'iPad']\n",
      "Contents: ['pencil', 'pen', 'paper', 'computer']\n",
      "Contents emptied!\n",
      "Contents: []\n"
     ]
    }
   ],
   "source": [
    "class Backpack:\n",
    "    \"\"\"\n",
    "    A Backpack object class. Has a name, color, and a list of contents.\n",
    "    \n",
    "    Attributes:\n",
    "        name (str): the name of the backpack's owner.\n",
    "        color (str): the color of the backpack\n",
    "        max_size (int): the maximum number of items the backpack can hold\n",
    "        contents (list): the contents of the backpack.\n",
    "    \n",
    "    Methods:\n",
    "        put: adds an item to the contents of the backpack\n",
    "        take: takes and item out of the backpack contents\n",
    "        dump: empties all the contents of the backpack\n",
    "\n",
    "    \"\"\"\n",
    "    def __init__(self, name, color, max_size=5):           # This function is the constructor.\n",
    "        \"\"\"\n",
    "        Set the name and initialize an empty list of contents.\n",
    "        \n",
    "        Parameters:\n",
    "            name (str): the name of the backpack's owner.\n",
    "            color (str): the color of the backpack\n",
    "            max_size (int): the maximum number of items the backapack can hold\n",
    "        \n",
    "        Returns:\n",
    "            None: Modifies self\n",
    "\n",
    "        \"\"\"\n",
    "        self.name = name                # Initialize some attributes.\n",
    "        self.color = color\n",
    "        self.max_size = max_size\n",
    "        self.contents = []\n",
    "    def put(self, item):  # define a method\n",
    "        \"\"\"\n",
    "        Add 'item' to the backpack's list of contents.\n",
    "        \n",
    "        Parameters:\n",
    "            item (any type): item to add to the contents list\n",
    "        \n",
    "        Returns:\n",
    "            None: Modifies self\n",
    "\n",
    "        \"\"\"\n",
    "        if len(self.contents) < self.max_size:\n",
    "          self.contents.append(item)  # Use 'self.contents', not just 'contents'.\n",
    "        else:\n",
    "          print(\"No Room!\")\n",
    "    def take(self, item):\n",
    "        \"\"\"\n",
    "        Remove 'item' from the backpack's list of contents.\n",
    "        \n",
    "        Parameters:\n",
    "            item (any type): item to add to the contents list\n",
    "        \n",
    "        Returns:\n",
    "            None: Modifies self\n",
    "        \"\"\"\n",
    "        self.contents.remove(item)\n",
    "    def dump(self):\n",
    "      \"\"\"\n",
    "      Dumps all contents from the backpack.\n",
    "\n",
    "      Parameters:\n",
    "            None\n",
    "        \n",
    "        Returns:\n",
    "            None: Modifies self\n",
    "  \n",
    "      \"\"\"\n",
    "      self.contents.clear()\n",
    "      print('Contents emptied!')\n",
    "\n",
    "\n",
    "def test_backpack():\n",
    "    testpack = Backpack(\"Barry\", \"black\")       # Instantiate the object.\n",
    "    if testpack.name != \"Barry\":                # Test an attribute.\n",
    "        print(\"Backpack.name assigned incorrectly\")\n",
    "    for item in [\"pencil\", \"pen\", \"paper\", \"computer\"]:\n",
    "        testpack.put(item)                      # Test a method.\n",
    "    print(\"Contents:\", testpack.contents)\n",
    "    # Test max_size\n",
    "    for item in [\"iPad\", \"AirPods\"]:\n",
    "      testpack.put(item)\n",
    "    print(\"Contents:\", testpack.contents)\n",
    "    # Test take method\n",
    "    testpack.take(\"iPad\")\n",
    "    print(\"Contents:\", testpack.contents)\n",
    "    # Test dump method\n",
    "    testpack.dump()\n",
    "    print(\"Contents:\", testpack.contents)\n",
    "\n",
    "# Call the test to test the Backpack class\n",
    "test_backpack()"
   ]
  },
  {
   "cell_type": "markdown",
   "metadata": {
    "id": "jIJ0Ye2oI_OU"
   },
   "source": [
    "8. ACME Object Oriented Programming Chapter, Problem \\#2: Write a `Jetpack` class that inherits from the `Backpack` class.\n",
    "  1. Override the constructor so that in addition to a name, color, and maximum size, it also accepts an amount of fuel. Change the default value of `max_size` to 2, and set the default value of fuel to 10. Store the fuel as an attribute.\n",
    "  2. Add a `fly()` method that accepts an amount of fuel to be burned and decrements the fuel attribute by that amount. If the user tries to burn more fuel than remains, print “Not enough fuel!” and do not decrement the fuel.\n",
    "  3. Override the `dump()` method so that both the contents and the fuel tank are emptied.\n",
    "  4. Write clear, detailed docstrings for the class and each of its methods."
   ]
  },
  {
   "cell_type": "code",
   "execution_count": null,
   "metadata": {
    "colab": {
     "base_uri": "https://localhost:8080/"
    },
    "id": "1T_fGBckIvN4",
    "outputId": "790c36df-6814-43c4-edb9-a055c89383c3"
   },
   "outputs": [
    {
     "name": "stdout",
     "output_type": "stream",
     "text": [
      "No Room!\n",
      "No Room!\n",
      "Contents: ['pencil', 'pen']\n",
      "Contents: ['pencil', 'pen']\n",
      "Contents: ['pencil']\n",
      "Flying!  Using up  5  gallons of fuel.\n",
      "Out of fuel!\n",
      "Contents emptied! Fuel dumped!\n",
      "Contents: []\n"
     ]
    }
   ],
   "source": [
    "class Jetpack(Backpack):\n",
    "    \"\"\"\n",
    "    A Jetpack object class. Has a name, color, and a list of contents.\n",
    "    \n",
    "    Attributes:\n",
    "        name (str): the name of the backpack's owner.\n",
    "        color (str): the color of the backpack\n",
    "        max_size (int): the maximum number of items the backpack can hold\n",
    "        fule (scalar): the amount of fuel in the jetpack\n",
    "        contents (list): the contents of the backpack.\n",
    "    \n",
    "    Methods:\n",
    "        put: adds an item to the contents of the backpack\n",
    "        take: takes and item out of the backpack contents\n",
    "        dump: empties all the contents of the backpack\n",
    "\n",
    "    \"\"\"\n",
    "    def __init__(self, name, color, max_size=2, fuel=10):           # This function is the constructor.\n",
    "        \"\"\"\n",
    "        Set the name and initialize an empty list of contents.\n",
    "        \n",
    "        Parameters:\n",
    "            name (str): the name of the backpack's owner.\n",
    "            color (str): the color of the backpack\n",
    "            max_size (int): the maximum number of items the backapack can hold\n",
    "        \n",
    "        Returns:\n",
    "            None: Modifies self\n",
    "\n",
    "        \"\"\"\n",
    "        self.name = name                # Initialize some attributes.\n",
    "        self.color = color\n",
    "        self.max_size = max_size\n",
    "        self.fuel = fuel\n",
    "        self.contents = []\n",
    "    def fly(self, gallons):  # define a method\n",
    "        \"\"\"\n",
    "        Fly with the jetpack.\n",
    "        \n",
    "        Parameters:\n",
    "            gallons (scalar): amount of fuel to use for flight\n",
    "        \n",
    "        Returns:\n",
    "            None: Modifies self\n",
    "\n",
    "        \"\"\"\n",
    "        if gallons > self.fuel:\n",
    "          print(\"Out of fuel!\")\n",
    "        else:\n",
    "          self.fuel -= gallons\n",
    "          print(\"Flying!  Using up \", gallons, \" gallons of fuel.\")\n",
    "    def dump(self):\n",
    "        \"\"\"\n",
    "        Dumps all contents and fuel from the jetpack.\n",
    "\n",
    "        Parameters:\n",
    "              None\n",
    "          \n",
    "          Returns:\n",
    "              None: Modifies self\n",
    "    \n",
    "        \"\"\"\n",
    "        self.contents.clear()\n",
    "        self.fuel = 0\n",
    "        print('Contents emptied! Fuel dumped!')\n",
    "\n",
    "\n",
    "def test_jetpack():\n",
    "    testpack = Jetpack(\"Barry\", \"black\")       # Instantiate the object.\n",
    "    if testpack.name != \"Barry\":                # Test an attribute.\n",
    "        print(\"Jackpack.name assigned incorrectly\")\n",
    "    for item in [\"pencil\", \"pen\", \"paper\", \"computer\"]:\n",
    "        testpack.put(item)                      # Test a method.\n",
    "    print(\"Contents:\", testpack.contents)\n",
    "    print(\"Contents:\", testpack.contents)\n",
    "    # Test take method\n",
    "    testpack.take(\"pen\")\n",
    "    print(\"Contents:\", testpack.contents)\n",
    "    # Test fly method\n",
    "    testpack.fly(5)\n",
    "    testpack.fly(6)\n",
    "    # Test dump method\n",
    "    testpack.dump()\n",
    "    print(\"Contents:\", testpack.contents)\n",
    "\n",
    "# Call the test to test the Jetpack class\n",
    "test_jetpack()"
   ]
  },
  {
   "cell_type": "code",
   "execution_count": null,
   "metadata": {
    "id": "M6L1rDG2_xAc"
   },
   "outputs": [],
   "source": []
  }
 ],
 "metadata": {
  "colab": {
   "collapsed_sections": [],
   "name": "ECON833_PS2_Solutions.ipynb",
   "provenance": []
  },
  "kernelspec": {
   "display_name": "Python 3 (ipykernel)",
   "language": "python",
   "name": "python3"
  },
  "language_info": {
   "codemirror_mode": {
    "name": "ipython",
    "version": 3
   },
   "file_extension": ".py",
   "mimetype": "text/x-python",
   "name": "python",
   "nbconvert_exporter": "python",
   "pygments_lexer": "ipython3",
   "version": "3.7.11"
  }
 },
 "nbformat": 4,
 "nbformat_minor": 1
}
