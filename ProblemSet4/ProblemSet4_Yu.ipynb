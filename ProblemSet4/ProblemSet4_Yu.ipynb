{
 "cells": [
  {
   "cell_type": "markdown",
   "metadata": {},
   "source": [
    "# Problem Set 4"
   ]
  },
  {
   "cell_type": "code",
   "execution_count": 297,
   "metadata": {},
   "outputs": [],
   "source": [
    "import pandas as pd\n",
    "import numpy as np\n",
    "import scipy.optimize as opt\n",
    "from scipy.special import factorial\n",
    "import matplotlib.pyplot as plt\n",
    "%matplotlib inline"
   ]
  },
  {
   "cell_type": "code",
   "execution_count": 4,
   "metadata": {},
   "outputs": [
    {
     "data": {
      "text/html": [
       "<div>\n",
       "<style scoped>\n",
       "    .dataframe tbody tr th:only-of-type {\n",
       "        vertical-align: middle;\n",
       "    }\n",
       "\n",
       "    .dataframe tbody tr th {\n",
       "        vertical-align: top;\n",
       "    }\n",
       "\n",
       "    .dataframe thead th {\n",
       "        text-align: right;\n",
       "    }\n",
       "</style>\n",
       "<table border=\"1\" class=\"dataframe\">\n",
       "  <thead>\n",
       "    <tr style=\"text-align: right;\">\n",
       "      <th></th>\n",
       "      <th>id68</th>\n",
       "      <th>year</th>\n",
       "      <th>intid</th>\n",
       "      <th>relhh</th>\n",
       "      <th>hannhrs</th>\n",
       "      <th>wannhrs</th>\n",
       "      <th>hlabinc</th>\n",
       "      <th>wlabinc</th>\n",
       "      <th>nochild</th>\n",
       "      <th>wrace</th>\n",
       "      <th>...</th>\n",
       "      <th>redpregovinc</th>\n",
       "      <th>hsex</th>\n",
       "      <th>wsex</th>\n",
       "      <th>age</th>\n",
       "      <th>wage</th>\n",
       "      <th>hpersno</th>\n",
       "      <th>wpersno</th>\n",
       "      <th>hyrsed</th>\n",
       "      <th>wyrsed</th>\n",
       "      <th>pce</th>\n",
       "    </tr>\n",
       "  </thead>\n",
       "  <tbody>\n",
       "    <tr>\n",
       "      <th>0</th>\n",
       "      <td>1</td>\n",
       "      <td>1967</td>\n",
       "      <td>1</td>\n",
       "      <td>Head</td>\n",
       "      <td>1200.0</td>\n",
       "      <td>2000.0</td>\n",
       "      <td>NaN</td>\n",
       "      <td>NaN</td>\n",
       "      <td>0</td>\n",
       "      <td>NaN</td>\n",
       "      <td>...</td>\n",
       "      <td>5614.0</td>\n",
       "      <td>1.0</td>\n",
       "      <td>2.0</td>\n",
       "      <td>52.0</td>\n",
       "      <td>46.0</td>\n",
       "      <td>1.0</td>\n",
       "      <td>2.0</td>\n",
       "      <td>8.0</td>\n",
       "      <td>8.0</td>\n",
       "      <td>0.0</td>\n",
       "    </tr>\n",
       "    <tr>\n",
       "      <th>1</th>\n",
       "      <td>2</td>\n",
       "      <td>1967</td>\n",
       "      <td>2</td>\n",
       "      <td>Head</td>\n",
       "      <td>0.0</td>\n",
       "      <td>0.0</td>\n",
       "      <td>NaN</td>\n",
       "      <td>NaN</td>\n",
       "      <td>0</td>\n",
       "      <td>NaN</td>\n",
       "      <td>...</td>\n",
       "      <td>0.0</td>\n",
       "      <td>1.0</td>\n",
       "      <td>2.0</td>\n",
       "      <td>56.0</td>\n",
       "      <td>57.0</td>\n",
       "      <td>1.0</td>\n",
       "      <td>2.0</td>\n",
       "      <td>3.0</td>\n",
       "      <td>3.0</td>\n",
       "      <td>0.0</td>\n",
       "    </tr>\n",
       "    <tr>\n",
       "      <th>2</th>\n",
       "      <td>3</td>\n",
       "      <td>1967</td>\n",
       "      <td>3</td>\n",
       "      <td>Head</td>\n",
       "      <td>0.0</td>\n",
       "      <td>0.0</td>\n",
       "      <td>NaN</td>\n",
       "      <td>NaN</td>\n",
       "      <td>0</td>\n",
       "      <td>NaN</td>\n",
       "      <td>...</td>\n",
       "      <td>0.0</td>\n",
       "      <td>1.0</td>\n",
       "      <td>2.0</td>\n",
       "      <td>77.0</td>\n",
       "      <td>64.0</td>\n",
       "      <td>1.0</td>\n",
       "      <td>2.0</td>\n",
       "      <td>NaN</td>\n",
       "      <td>3.0</td>\n",
       "      <td>0.0</td>\n",
       "    </tr>\n",
       "    <tr>\n",
       "      <th>3</th>\n",
       "      <td>4</td>\n",
       "      <td>1967</td>\n",
       "      <td>4</td>\n",
       "      <td>Head</td>\n",
       "      <td>1560.0</td>\n",
       "      <td>0.0</td>\n",
       "      <td>NaN</td>\n",
       "      <td>NaN</td>\n",
       "      <td>6</td>\n",
       "      <td>1.0</td>\n",
       "      <td>...</td>\n",
       "      <td>3280.0</td>\n",
       "      <td>1.0</td>\n",
       "      <td>2.0</td>\n",
       "      <td>45.0</td>\n",
       "      <td>44.0</td>\n",
       "      <td>1.0</td>\n",
       "      <td>2.0</td>\n",
       "      <td>8.0</td>\n",
       "      <td>5.0</td>\n",
       "      <td>0.0</td>\n",
       "    </tr>\n",
       "    <tr>\n",
       "      <th>4</th>\n",
       "      <td>5</td>\n",
       "      <td>1967</td>\n",
       "      <td>5</td>\n",
       "      <td>Head</td>\n",
       "      <td>2500.0</td>\n",
       "      <td>2000.0</td>\n",
       "      <td>NaN</td>\n",
       "      <td>NaN</td>\n",
       "      <td>3</td>\n",
       "      <td>1.0</td>\n",
       "      <td>...</td>\n",
       "      <td>7900.0</td>\n",
       "      <td>1.0</td>\n",
       "      <td>2.0</td>\n",
       "      <td>24.0</td>\n",
       "      <td>22.0</td>\n",
       "      <td>1.0</td>\n",
       "      <td>2.0</td>\n",
       "      <td>10.0</td>\n",
       "      <td>9.0</td>\n",
       "      <td>0.0</td>\n",
       "    </tr>\n",
       "  </tbody>\n",
       "</table>\n",
       "<p>5 rows × 52 columns</p>\n",
       "</div>"
      ],
      "text/plain": [
       "   id68  year  intid relhh  hannhrs  wannhrs  hlabinc  wlabinc  nochild  \\\n",
       "0     1  1967      1  Head   1200.0   2000.0      NaN      NaN        0   \n",
       "1     2  1967      2  Head      0.0      0.0      NaN      NaN        0   \n",
       "2     3  1967      3  Head      0.0      0.0      NaN      NaN        0   \n",
       "3     4  1967      4  Head   1560.0      0.0      NaN      NaN        6   \n",
       "4     5  1967      5  Head   2500.0   2000.0      NaN      NaN        3   \n",
       "\n",
       "   wrace  ...  redpregovinc  hsex  wsex   age  wage  hpersno  wpersno  hyrsed  \\\n",
       "0    NaN  ...        5614.0   1.0   2.0  52.0  46.0      1.0      2.0     8.0   \n",
       "1    NaN  ...           0.0   1.0   2.0  56.0  57.0      1.0      2.0     3.0   \n",
       "2    NaN  ...           0.0   1.0   2.0  77.0  64.0      1.0      2.0     NaN   \n",
       "3    1.0  ...        3280.0   1.0   2.0  45.0  44.0      1.0      2.0     8.0   \n",
       "4    1.0  ...        7900.0   1.0   2.0  24.0  22.0      1.0      2.0    10.0   \n",
       "\n",
       "   wyrsed  pce  \n",
       "0     8.0  0.0  \n",
       "1     3.0  0.0  \n",
       "2     3.0  0.0  \n",
       "3     5.0  0.0  \n",
       "4     9.0  0.0  \n",
       "\n",
       "[5 rows x 52 columns]"
      ]
     },
     "execution_count": 4,
     "metadata": {},
     "output_type": "execute_result"
    }
   ],
   "source": [
    "# Read in the data\n",
    "df = pd.read_stata('PS4_data.dta')\n",
    "df.head()"
   ]
  },
  {
   "cell_type": "markdown",
   "metadata": {},
   "source": [
    "Select only \n",
    "1. male heads of household \n",
    "2. who are between 25 and 60 years of age \n",
    "3. and earn wages > \\$7/hr."
   ]
  },
  {
   "cell_type": "code",
   "execution_count": 63,
   "metadata": {},
   "outputs": [],
   "source": [
    "df_model = df[(df['hsex']==1) & (df['age']>=25) & (df['age']<=60)\n",
    "              & (df['hlabinc']/df['hannhrs']>7) & (df['hannhrs'] != 0)]\n",
    "# to avoid problems, I exclude the head working for 0 hour"
   ]
  },
  {
   "cell_type": "code",
   "execution_count": 64,
   "metadata": {},
   "outputs": [
    {
     "data": {
      "text/plain": [
       "count    57477.0\n",
       "mean         1.0\n",
       "std          0.0\n",
       "min          1.0\n",
       "25%          1.0\n",
       "50%          1.0\n",
       "75%          1.0\n",
       "max          1.0\n",
       "Name: hsex, dtype: float64"
      ]
     },
     "execution_count": 64,
     "metadata": {},
     "output_type": "execute_result"
    }
   ],
   "source": [
    "# check the data is selected correctly\n",
    "df_model['hsex'].describe()"
   ]
  },
  {
   "cell_type": "code",
   "execution_count": 65,
   "metadata": {},
   "outputs": [
    {
     "data": {
      "text/plain": [
       "count    57477.000000\n",
       "mean        39.224247\n",
       "std          9.578915\n",
       "min         25.000000\n",
       "25%         31.000000\n",
       "50%         38.000000\n",
       "75%         47.000000\n",
       "max         60.000000\n",
       "Name: age, dtype: float64"
      ]
     },
     "execution_count": 65,
     "metadata": {},
     "output_type": "execute_result"
    }
   ],
   "source": [
    "df_model['age'].describe()"
   ]
  },
  {
   "cell_type": "code",
   "execution_count": 66,
   "metadata": {},
   "outputs": [
    {
     "data": {
      "text/html": [
       "<div>\n",
       "<style scoped>\n",
       "    .dataframe tbody tr th:only-of-type {\n",
       "        vertical-align: middle;\n",
       "    }\n",
       "\n",
       "    .dataframe tbody tr th {\n",
       "        vertical-align: top;\n",
       "    }\n",
       "\n",
       "    .dataframe thead th {\n",
       "        text-align: right;\n",
       "    }\n",
       "</style>\n",
       "<table border=\"1\" class=\"dataframe\">\n",
       "  <thead>\n",
       "    <tr style=\"text-align: right;\">\n",
       "      <th></th>\n",
       "      <th>id68</th>\n",
       "      <th>year</th>\n",
       "      <th>intid</th>\n",
       "      <th>relhh</th>\n",
       "      <th>hannhrs</th>\n",
       "      <th>wannhrs</th>\n",
       "      <th>hlabinc</th>\n",
       "      <th>wlabinc</th>\n",
       "      <th>nochild</th>\n",
       "      <th>wrace</th>\n",
       "      <th>...</th>\n",
       "      <th>redpregovinc</th>\n",
       "      <th>hsex</th>\n",
       "      <th>wsex</th>\n",
       "      <th>age</th>\n",
       "      <th>wage</th>\n",
       "      <th>hpersno</th>\n",
       "      <th>wpersno</th>\n",
       "      <th>hyrsed</th>\n",
       "      <th>wyrsed</th>\n",
       "      <th>pce</th>\n",
       "    </tr>\n",
       "  </thead>\n",
       "  <tbody>\n",
       "  </tbody>\n",
       "</table>\n",
       "<p>0 rows × 52 columns</p>\n",
       "</div>"
      ],
      "text/plain": [
       "Empty DataFrame\n",
       "Columns: [id68, year, intid, relhh, hannhrs, wannhrs, hlabinc, wlabinc, nochild, wrace, hrace, hafdc, hssi, hothwelf, hvetpen, hunempinc, hworkcomp, wafdc, wssi, wothwelf, wunempinc, wworkcomp, noadult, oafdc, ossi, oothwelf, hsocsec, wsocsec, osocsec, ounempinc, oworkcomp, wvetpen, ovetpen, foodstamps, foodexp, foodcon, state, redlabinc, redlabincall, redlabplus, redfinass, redtotass, redpregovinc, hsex, wsex, age, wage, hpersno, wpersno, hyrsed, wyrsed, pce]\n",
       "Index: []\n",
       "\n",
       "[0 rows x 52 columns]"
      ]
     },
     "execution_count": 66,
     "metadata": {},
     "output_type": "execute_result"
    }
   ],
   "source": [
    "df_model[df_model['hannhrs']==0].head()"
   ]
  },
  {
   "cell_type": "code",
   "execution_count": 67,
   "metadata": {},
   "outputs": [
    {
     "name": "stderr",
     "output_type": "stream",
     "text": [
      "/opt/miniconda3/lib/python3.7/site-packages/ipykernel_launcher.py:2: SettingWithCopyWarning: \n",
      "A value is trying to be set on a copy of a slice from a DataFrame.\n",
      "Try using .loc[row_indexer,col_indexer] = value instead\n",
      "\n",
      "See the caveats in the documentation: https://pandas.pydata.org/pandas-docs/stable/user_guide/indexing.html#returning-a-view-versus-a-copy\n",
      "  \n"
     ]
    },
    {
     "data": {
      "text/plain": [
       "count    57477.000000\n",
       "mean        24.306021\n",
       "std         25.154232\n",
       "min          7.000252\n",
       "25%         13.947624\n",
       "50%         19.905161\n",
       "75%         27.787226\n",
       "max       1717.330322\n",
       "Name: hlhrinc, dtype: float64"
      ]
     },
     "execution_count": 67,
     "metadata": {},
     "output_type": "execute_result"
    }
   ],
   "source": [
    "# add a new coloumn 'hlhrinc' for hourly labour income of the head\n",
    "df_model['hlhrinc'] = df['hlabinc']/df['hannhrs']\n",
    "df_model['hlhrinc'].describe()"
   ]
  },
  {
   "cell_type": "code",
   "execution_count": 68,
   "metadata": {},
   "outputs": [],
   "source": [
    "# build a new dataframe to check hourly income\n",
    "df_checkinc = pd.DataFrame(df_model, columns=['hannhrs','hlhrinc','hlabinc'])"
   ]
  },
  {
   "cell_type": "code",
   "execution_count": 69,
   "metadata": {},
   "outputs": [
    {
     "data": {
      "text/html": [
       "<div>\n",
       "<style scoped>\n",
       "    .dataframe tbody tr th:only-of-type {\n",
       "        vertical-align: middle;\n",
       "    }\n",
       "\n",
       "    .dataframe tbody tr th {\n",
       "        vertical-align: top;\n",
       "    }\n",
       "\n",
       "    .dataframe thead th {\n",
       "        text-align: right;\n",
       "    }\n",
       "</style>\n",
       "<table border=\"1\" class=\"dataframe\">\n",
       "  <thead>\n",
       "    <tr style=\"text-align: right;\">\n",
       "      <th></th>\n",
       "      <th>hannhrs</th>\n",
       "      <th>hlhrinc</th>\n",
       "      <th>hlabinc</th>\n",
       "    </tr>\n",
       "  </thead>\n",
       "  <tbody>\n",
       "  </tbody>\n",
       "</table>\n",
       "</div>"
      ],
      "text/plain": [
       "Empty DataFrame\n",
       "Columns: [hannhrs, hlhrinc, hlabinc]\n",
       "Index: []"
      ]
     },
     "execution_count": 69,
     "metadata": {},
     "output_type": "execute_result"
    }
   ],
   "source": [
    "df_checkinc[df_checkinc['hlhrinc']<7]"
   ]
  },
  {
   "cell_type": "markdown",
   "metadata": {},
   "source": [
    "It seems that I have filtered out all the heads with income less than 7 dollars per hour"
   ]
  },
  {
   "cell_type": "code",
   "execution_count": 70,
   "metadata": {},
   "outputs": [
    {
     "data": {
      "text/html": [
       "<div>\n",
       "<style scoped>\n",
       "    .dataframe tbody tr th:only-of-type {\n",
       "        vertical-align: middle;\n",
       "    }\n",
       "\n",
       "    .dataframe tbody tr th {\n",
       "        vertical-align: top;\n",
       "    }\n",
       "\n",
       "    .dataframe thead th {\n",
       "        text-align: right;\n",
       "    }\n",
       "</style>\n",
       "<table border=\"1\" class=\"dataframe\">\n",
       "  <thead>\n",
       "    <tr style=\"text-align: right;\">\n",
       "      <th></th>\n",
       "      <th>hannhrs</th>\n",
       "      <th>hlhrinc</th>\n",
       "      <th>hlabinc</th>\n",
       "    </tr>\n",
       "  </thead>\n",
       "  <tbody>\n",
       "    <tr>\n",
       "      <th>34947</th>\n",
       "      <td>32.0</td>\n",
       "      <td>1717.330322</td>\n",
       "      <td>54954.570312</td>\n",
       "    </tr>\n",
       "  </tbody>\n",
       "</table>\n",
       "</div>"
      ],
      "text/plain": [
       "       hannhrs      hlhrinc       hlabinc\n",
       "34947     32.0  1717.330322  54954.570312"
      ]
     },
     "execution_count": 70,
     "metadata": {},
     "output_type": "execute_result"
    }
   ],
   "source": [
    "df_checkinc[df_checkinc['hlhrinc']==df_checkinc['hlhrinc'].max()]"
   ]
  },
  {
   "cell_type": "markdown",
   "metadata": {},
   "source": [
    "The model is:\n",
    "$$ln(w_{i,t}) = \\alpha + \\beta_1 Educ_{i,t} + \\beta_2 Age_{i,t} + \\beta_3 Age_{i,t}^2 + \\beta_4 Black_{i,t} + \\beta_5 Hispanic_{i,t} + \\beta_6 OtherRace_{i,t} + \\varepsilon_{i,t}$$\n",
    "\n",
    "The variables names are as follows:\n",
    "* `w` = wage of individual i in survey year t\n",
    "* `Educ` = education in years\n",
    "* `Age` = age in years\n",
    "* `Black, Hispanic, OtherRace` = dummy variables for race = Black, Hispanic, Not ∈ {White, Black, Hispanic}"
   ]
  },
  {
   "cell_type": "code",
   "execution_count": 71,
   "metadata": {},
   "outputs": [
    {
     "name": "stderr",
     "output_type": "stream",
     "text": [
      "/opt/miniconda3/lib/python3.7/site-packages/ipykernel_launcher.py:1: SettingWithCopyWarning: \n",
      "A value is trying to be set on a copy of a slice from a DataFrame.\n",
      "Try using .loc[row_indexer,col_indexer] = value instead\n",
      "\n",
      "See the caveats in the documentation: https://pandas.pydata.org/pandas-docs/stable/user_guide/indexing.html#returning-a-view-versus-a-copy\n",
      "  \"\"\"Entry point for launching an IPython kernel.\n"
     ]
    }
   ],
   "source": [
    "df_model['lnw'] = np.log(df_model['hlabinc'])"
   ]
  },
  {
   "cell_type": "code",
   "execution_count": 92,
   "metadata": {},
   "outputs": [
    {
     "name": "stderr",
     "output_type": "stream",
     "text": [
      "/opt/miniconda3/lib/python3.7/site-packages/ipykernel_launcher.py:17: SettingWithCopyWarning: \n",
      "A value is trying to be set on a copy of a slice from a DataFrame.\n",
      "Try using .loc[row_indexer,col_indexer] = value instead\n",
      "\n",
      "See the caveats in the documentation: https://pandas.pydata.org/pandas-docs/stable/user_guide/indexing.html#returning-a-view-versus-a-copy\n",
      "/opt/miniconda3/lib/python3.7/site-packages/ipykernel_launcher.py:18: SettingWithCopyWarning: \n",
      "A value is trying to be set on a copy of a slice from a DataFrame.\n",
      "Try using .loc[row_indexer,col_indexer] = value instead\n",
      "\n",
      "See the caveats in the documentation: https://pandas.pydata.org/pandas-docs/stable/user_guide/indexing.html#returning-a-view-versus-a-copy\n"
     ]
    }
   ],
   "source": [
    "'''\n",
    "create a new column 'race', \n",
    "in which race of the head is black will be assigned as 'Black',\n",
    "race of the head is hispanic will be assigned as 'Hispanic',\n",
    "people rather than white, black or hispanic will be assigned as 'Other race'\n",
    "'''\n",
    "def race(x):\n",
    "    if x == 2:\n",
    "        return 'Black'\n",
    "    elif x == 5:\n",
    "        return 'Hispanic'\n",
    "    elif x == 1:\n",
    "        return 'White'\n",
    "    else:\n",
    "        return 'Other race'\n",
    "    \n",
    "df_model['race']= df_model['hrace']\n",
    "df_model['race'] = df_model['hrace'].apply(lambda x: race(x))"
   ]
  },
  {
   "cell_type": "code",
   "execution_count": 96,
   "metadata": {},
   "outputs": [
    {
     "data": {
      "text/plain": [
       "11196    Black\n",
       "11417    Black\n",
       "11436    Black\n",
       "11548    Black\n",
       "11640    Black\n",
       "Name: race, dtype: object"
      ]
     },
     "execution_count": 96,
     "metadata": {},
     "output_type": "execute_result"
    }
   ],
   "source": [
    "# check the value is assigned correctly\n",
    "df_model[df_model['hrace']==2]['race'].head()"
   ]
  },
  {
   "cell_type": "code",
   "execution_count": 98,
   "metadata": {},
   "outputs": [
    {
     "data": {
      "text/plain": [
       "11161    White\n",
       "11164    White\n",
       "11166    White\n",
       "11173    White\n",
       "11175    White\n",
       "Name: race, dtype: object"
      ]
     },
     "execution_count": 98,
     "metadata": {},
     "output_type": "execute_result"
    }
   ],
   "source": [
    "df_model[df_model['hrace']==1]['race'].head()"
   ]
  },
  {
   "cell_type": "code",
   "execution_count": 111,
   "metadata": {},
   "outputs": [
    {
     "data": {
      "text/plain": [
       "11268    Other race\n",
       "11277    Other race\n",
       "11350    Other race\n",
       "11937    Other race\n",
       "12006    Other race\n",
       "Name: race, dtype: object"
      ]
     },
     "execution_count": 111,
     "metadata": {},
     "output_type": "execute_result"
    }
   ],
   "source": [
    "df_model[df_model['hrace']==3]['race'].head()"
   ]
  },
  {
   "cell_type": "code",
   "execution_count": 112,
   "metadata": {},
   "outputs": [
    {
     "data": {
      "text/plain": [
       "Series([], Name: race, dtype: object)"
      ]
     },
     "execution_count": 112,
     "metadata": {},
     "output_type": "execute_result"
    }
   ],
   "source": [
    "df_model[df_model['hrace']==5]['race'].head()"
   ]
  },
  {
   "cell_type": "code",
   "execution_count": 113,
   "metadata": {},
   "outputs": [
    {
     "data": {
      "text/html": [
       "<div>\n",
       "<style scoped>\n",
       "    .dataframe tbody tr th:only-of-type {\n",
       "        vertical-align: middle;\n",
       "    }\n",
       "\n",
       "    .dataframe tbody tr th {\n",
       "        vertical-align: top;\n",
       "    }\n",
       "\n",
       "    .dataframe thead th {\n",
       "        text-align: right;\n",
       "    }\n",
       "</style>\n",
       "<table border=\"1\" class=\"dataframe\">\n",
       "  <thead>\n",
       "    <tr style=\"text-align: right;\">\n",
       "      <th></th>\n",
       "      <th>id68</th>\n",
       "      <th>year</th>\n",
       "      <th>intid</th>\n",
       "      <th>relhh</th>\n",
       "      <th>hannhrs</th>\n",
       "      <th>wannhrs</th>\n",
       "      <th>hlabinc</th>\n",
       "      <th>wlabinc</th>\n",
       "      <th>nochild</th>\n",
       "      <th>wrace</th>\n",
       "      <th>...</th>\n",
       "      <th>redpregovinc</th>\n",
       "      <th>hsex</th>\n",
       "      <th>wsex</th>\n",
       "      <th>age</th>\n",
       "      <th>wage</th>\n",
       "      <th>hpersno</th>\n",
       "      <th>wpersno</th>\n",
       "      <th>hyrsed</th>\n",
       "      <th>wyrsed</th>\n",
       "      <th>pce</th>\n",
       "    </tr>\n",
       "  </thead>\n",
       "  <tbody>\n",
       "  </tbody>\n",
       "</table>\n",
       "<p>0 rows × 52 columns</p>\n",
       "</div>"
      ],
      "text/plain": [
       "Empty DataFrame\n",
       "Columns: [id68, year, intid, relhh, hannhrs, wannhrs, hlabinc, wlabinc, nochild, wrace, hrace, hafdc, hssi, hothwelf, hvetpen, hunempinc, hworkcomp, wafdc, wssi, wothwelf, wunempinc, wworkcomp, noadult, oafdc, ossi, oothwelf, hsocsec, wsocsec, osocsec, ounempinc, oworkcomp, wvetpen, ovetpen, foodstamps, foodexp, foodcon, state, redlabinc, redlabincall, redlabplus, redfinass, redtotass, redpregovinc, hsex, wsex, age, wage, hpersno, wpersno, hyrsed, wyrsed, pce]\n",
       "Index: []\n",
       "\n",
       "[0 rows x 52 columns]"
      ]
     },
     "execution_count": 113,
     "metadata": {},
     "output_type": "execute_result"
    }
   ],
   "source": [
    "# check what's the situation in the raw data\n",
    "df[df['hrace']==5]"
   ]
  },
  {
   "cell_type": "markdown",
   "metadata": {},
   "source": [
    "There is no Hispanic people in the raw data, so there is no error here."
   ]
  },
  {
   "cell_type": "code",
   "execution_count": 114,
   "metadata": {},
   "outputs": [],
   "source": [
    "df_dummies = pd.get_dummies(df_model['race'])"
   ]
  },
  {
   "cell_type": "code",
   "execution_count": 115,
   "metadata": {},
   "outputs": [
    {
     "data": {
      "text/html": [
       "<div>\n",
       "<style scoped>\n",
       "    .dataframe tbody tr th:only-of-type {\n",
       "        vertical-align: middle;\n",
       "    }\n",
       "\n",
       "    .dataframe tbody tr th {\n",
       "        vertical-align: top;\n",
       "    }\n",
       "\n",
       "    .dataframe thead th {\n",
       "        text-align: right;\n",
       "    }\n",
       "</style>\n",
       "<table border=\"1\" class=\"dataframe\">\n",
       "  <thead>\n",
       "    <tr style=\"text-align: right;\">\n",
       "      <th></th>\n",
       "      <th>Black</th>\n",
       "      <th>Other race</th>\n",
       "      <th>White</th>\n",
       "    </tr>\n",
       "  </thead>\n",
       "  <tbody>\n",
       "    <tr>\n",
       "      <th>11161</th>\n",
       "      <td>0</td>\n",
       "      <td>0</td>\n",
       "      <td>1</td>\n",
       "    </tr>\n",
       "    <tr>\n",
       "      <th>11164</th>\n",
       "      <td>0</td>\n",
       "      <td>0</td>\n",
       "      <td>1</td>\n",
       "    </tr>\n",
       "    <tr>\n",
       "      <th>11166</th>\n",
       "      <td>0</td>\n",
       "      <td>0</td>\n",
       "      <td>1</td>\n",
       "    </tr>\n",
       "    <tr>\n",
       "      <th>11173</th>\n",
       "      <td>0</td>\n",
       "      <td>0</td>\n",
       "      <td>1</td>\n",
       "    </tr>\n",
       "    <tr>\n",
       "      <th>11175</th>\n",
       "      <td>0</td>\n",
       "      <td>0</td>\n",
       "      <td>1</td>\n",
       "    </tr>\n",
       "  </tbody>\n",
       "</table>\n",
       "</div>"
      ],
      "text/plain": [
       "       Black  Other race  White\n",
       "11161      0           0      1\n",
       "11164      0           0      1\n",
       "11166      0           0      1\n",
       "11173      0           0      1\n",
       "11175      0           0      1"
      ]
     },
     "execution_count": 115,
     "metadata": {},
     "output_type": "execute_result"
    }
   ],
   "source": [
    "df_dummies.head()"
   ]
  },
  {
   "cell_type": "code",
   "execution_count": 116,
   "metadata": {},
   "outputs": [
    {
     "data": {
      "text/plain": [
       "11161    White\n",
       "11164    White\n",
       "11166    White\n",
       "11173    White\n",
       "11175    White\n",
       "Name: race, dtype: object"
      ]
     },
     "execution_count": 116,
     "metadata": {},
     "output_type": "execute_result"
    }
   ],
   "source": [
    "df_model['race'].head()"
   ]
  },
  {
   "cell_type": "code",
   "execution_count": 118,
   "metadata": {},
   "outputs": [
    {
     "name": "stderr",
     "output_type": "stream",
     "text": [
      "/opt/miniconda3/lib/python3.7/site-packages/ipykernel_launcher.py:1: SettingWithCopyWarning: \n",
      "A value is trying to be set on a copy of a slice from a DataFrame.\n",
      "Try using .loc[row_indexer,col_indexer] = value instead\n",
      "\n",
      "See the caveats in the documentation: https://pandas.pydata.org/pandas-docs/stable/user_guide/indexing.html#returning-a-view-versus-a-copy\n",
      "  \"\"\"Entry point for launching an IPython kernel.\n"
     ]
    }
   ],
   "source": [
    "df_model['age2'] = np.square(df_model['age'])"
   ]
  },
  {
   "cell_type": "code",
   "execution_count": 120,
   "metadata": {},
   "outputs": [
    {
     "data": {
      "text/html": [
       "<div>\n",
       "<style scoped>\n",
       "    .dataframe tbody tr th:only-of-type {\n",
       "        vertical-align: middle;\n",
       "    }\n",
       "\n",
       "    .dataframe tbody tr th {\n",
       "        vertical-align: top;\n",
       "    }\n",
       "\n",
       "    .dataframe thead th {\n",
       "        text-align: right;\n",
       "    }\n",
       "</style>\n",
       "<table border=\"1\" class=\"dataframe\">\n",
       "  <thead>\n",
       "    <tr style=\"text-align: right;\">\n",
       "      <th></th>\n",
       "      <th>age</th>\n",
       "      <th>age2</th>\n",
       "    </tr>\n",
       "  </thead>\n",
       "  <tbody>\n",
       "    <tr>\n",
       "      <th>11161</th>\n",
       "      <td>51.0</td>\n",
       "      <td>2601.0</td>\n",
       "    </tr>\n",
       "    <tr>\n",
       "      <th>11164</th>\n",
       "      <td>55.0</td>\n",
       "      <td>3025.0</td>\n",
       "    </tr>\n",
       "    <tr>\n",
       "      <th>11166</th>\n",
       "      <td>25.0</td>\n",
       "      <td>625.0</td>\n",
       "    </tr>\n",
       "    <tr>\n",
       "      <th>11173</th>\n",
       "      <td>39.0</td>\n",
       "      <td>1521.0</td>\n",
       "    </tr>\n",
       "    <tr>\n",
       "      <th>11175</th>\n",
       "      <td>36.0</td>\n",
       "      <td>1296.0</td>\n",
       "    </tr>\n",
       "  </tbody>\n",
       "</table>\n",
       "</div>"
      ],
      "text/plain": [
       "        age    age2\n",
       "11161  51.0  2601.0\n",
       "11164  55.0  3025.0\n",
       "11166  25.0   625.0\n",
       "11173  39.0  1521.0\n",
       "11175  36.0  1296.0"
      ]
     },
     "execution_count": 120,
     "metadata": {},
     "output_type": "execute_result"
    }
   ],
   "source": [
    "df_model[['age','age2']].head()"
   ]
  },
  {
   "cell_type": "code",
   "execution_count": 125,
   "metadata": {},
   "outputs": [],
   "source": [
    "# make a new dataframe that only keeps the variable needed in the model\n",
    "df_variables1 = pd.DataFrame(df_model, columns=['id68','year','lnw','hyrsed','age','age2','hrace'])\n",
    "df_variables = pd.concat([df_variables1,df_dummies], axis=1)"
   ]
  },
  {
   "cell_type": "code",
   "execution_count": 126,
   "metadata": {},
   "outputs": [
    {
     "data": {
      "text/html": [
       "<div>\n",
       "<style scoped>\n",
       "    .dataframe tbody tr th:only-of-type {\n",
       "        vertical-align: middle;\n",
       "    }\n",
       "\n",
       "    .dataframe tbody tr th {\n",
       "        vertical-align: top;\n",
       "    }\n",
       "\n",
       "    .dataframe thead th {\n",
       "        text-align: right;\n",
       "    }\n",
       "</style>\n",
       "<table border=\"1\" class=\"dataframe\">\n",
       "  <thead>\n",
       "    <tr style=\"text-align: right;\">\n",
       "      <th></th>\n",
       "      <th>id68</th>\n",
       "      <th>year</th>\n",
       "      <th>lnw</th>\n",
       "      <th>hyrsed</th>\n",
       "      <th>age</th>\n",
       "      <th>age2</th>\n",
       "      <th>hrace</th>\n",
       "      <th>Black</th>\n",
       "      <th>Other race</th>\n",
       "      <th>White</th>\n",
       "    </tr>\n",
       "  </thead>\n",
       "  <tbody>\n",
       "    <tr>\n",
       "      <th>11161</th>\n",
       "      <td>402</td>\n",
       "      <td>1971</td>\n",
       "      <td>11.049758</td>\n",
       "      <td>12.0</td>\n",
       "      <td>51.0</td>\n",
       "      <td>2601.0</td>\n",
       "      <td>1.0</td>\n",
       "      <td>0</td>\n",
       "      <td>0</td>\n",
       "      <td>1</td>\n",
       "    </tr>\n",
       "    <tr>\n",
       "      <th>11164</th>\n",
       "      <td>461</td>\n",
       "      <td>1971</td>\n",
       "      <td>10.028399</td>\n",
       "      <td>5.0</td>\n",
       "      <td>55.0</td>\n",
       "      <td>3025.0</td>\n",
       "      <td>1.0</td>\n",
       "      <td>0</td>\n",
       "      <td>0</td>\n",
       "      <td>1</td>\n",
       "    </tr>\n",
       "    <tr>\n",
       "      <th>11166</th>\n",
       "      <td>1126</td>\n",
       "      <td>1971</td>\n",
       "      <td>10.286634</td>\n",
       "      <td>16.0</td>\n",
       "      <td>25.0</td>\n",
       "      <td>625.0</td>\n",
       "      <td>1.0</td>\n",
       "      <td>0</td>\n",
       "      <td>0</td>\n",
       "      <td>1</td>\n",
       "    </tr>\n",
       "    <tr>\n",
       "      <th>11173</th>\n",
       "      <td>284</td>\n",
       "      <td>1971</td>\n",
       "      <td>11.250072</td>\n",
       "      <td>16.0</td>\n",
       "      <td>39.0</td>\n",
       "      <td>1521.0</td>\n",
       "      <td>1.0</td>\n",
       "      <td>0</td>\n",
       "      <td>0</td>\n",
       "      <td>1</td>\n",
       "    </tr>\n",
       "    <tr>\n",
       "      <th>11175</th>\n",
       "      <td>50</td>\n",
       "      <td>1971</td>\n",
       "      <td>10.372496</td>\n",
       "      <td>12.0</td>\n",
       "      <td>36.0</td>\n",
       "      <td>1296.0</td>\n",
       "      <td>1.0</td>\n",
       "      <td>0</td>\n",
       "      <td>0</td>\n",
       "      <td>1</td>\n",
       "    </tr>\n",
       "  </tbody>\n",
       "</table>\n",
       "</div>"
      ],
      "text/plain": [
       "       id68  year        lnw  hyrsed   age    age2  hrace  Black  Other race  \\\n",
       "11161   402  1971  11.049758    12.0  51.0  2601.0    1.0      0           0   \n",
       "11164   461  1971  10.028399     5.0  55.0  3025.0    1.0      0           0   \n",
       "11166  1126  1971  10.286634    16.0  25.0   625.0    1.0      0           0   \n",
       "11173   284  1971  11.250072    16.0  39.0  1521.0    1.0      0           0   \n",
       "11175    50  1971  10.372496    12.0  36.0  1296.0    1.0      0           0   \n",
       "\n",
       "       White  \n",
       "11161      1  \n",
       "11164      1  \n",
       "11166      1  \n",
       "11173      1  \n",
       "11175      1  "
      ]
     },
     "execution_count": 126,
     "metadata": {},
     "output_type": "execute_result"
    }
   ],
   "source": [
    "df_variables.head()"
   ]
  },
  {
   "cell_type": "code",
   "execution_count": 127,
   "metadata": {},
   "outputs": [],
   "source": [
    "'''\n",
    "Since there is no hispanic in original database, \n",
    "but Hispanic is a dummy variable,\n",
    "I will add a column named 'Hispanic' and assign all the value to 0\n",
    "''' \n",
    "df_variables['Hispanic'] = 0"
   ]
  },
  {
   "cell_type": "code",
   "execution_count": 128,
   "metadata": {},
   "outputs": [
    {
     "data": {
      "text/html": [
       "<div>\n",
       "<style scoped>\n",
       "    .dataframe tbody tr th:only-of-type {\n",
       "        vertical-align: middle;\n",
       "    }\n",
       "\n",
       "    .dataframe tbody tr th {\n",
       "        vertical-align: top;\n",
       "    }\n",
       "\n",
       "    .dataframe thead th {\n",
       "        text-align: right;\n",
       "    }\n",
       "</style>\n",
       "<table border=\"1\" class=\"dataframe\">\n",
       "  <thead>\n",
       "    <tr style=\"text-align: right;\">\n",
       "      <th></th>\n",
       "      <th>id68</th>\n",
       "      <th>year</th>\n",
       "      <th>lnw</th>\n",
       "      <th>hyrsed</th>\n",
       "      <th>age</th>\n",
       "      <th>age2</th>\n",
       "      <th>hrace</th>\n",
       "      <th>Black</th>\n",
       "      <th>Other race</th>\n",
       "      <th>White</th>\n",
       "      <th>Hispanic</th>\n",
       "    </tr>\n",
       "  </thead>\n",
       "  <tbody>\n",
       "    <tr>\n",
       "      <th>11161</th>\n",
       "      <td>402</td>\n",
       "      <td>1971</td>\n",
       "      <td>11.049758</td>\n",
       "      <td>12.0</td>\n",
       "      <td>51.0</td>\n",
       "      <td>2601.0</td>\n",
       "      <td>1.0</td>\n",
       "      <td>0</td>\n",
       "      <td>0</td>\n",
       "      <td>1</td>\n",
       "      <td>0</td>\n",
       "    </tr>\n",
       "    <tr>\n",
       "      <th>11164</th>\n",
       "      <td>461</td>\n",
       "      <td>1971</td>\n",
       "      <td>10.028399</td>\n",
       "      <td>5.0</td>\n",
       "      <td>55.0</td>\n",
       "      <td>3025.0</td>\n",
       "      <td>1.0</td>\n",
       "      <td>0</td>\n",
       "      <td>0</td>\n",
       "      <td>1</td>\n",
       "      <td>0</td>\n",
       "    </tr>\n",
       "    <tr>\n",
       "      <th>11166</th>\n",
       "      <td>1126</td>\n",
       "      <td>1971</td>\n",
       "      <td>10.286634</td>\n",
       "      <td>16.0</td>\n",
       "      <td>25.0</td>\n",
       "      <td>625.0</td>\n",
       "      <td>1.0</td>\n",
       "      <td>0</td>\n",
       "      <td>0</td>\n",
       "      <td>1</td>\n",
       "      <td>0</td>\n",
       "    </tr>\n",
       "    <tr>\n",
       "      <th>11173</th>\n",
       "      <td>284</td>\n",
       "      <td>1971</td>\n",
       "      <td>11.250072</td>\n",
       "      <td>16.0</td>\n",
       "      <td>39.0</td>\n",
       "      <td>1521.0</td>\n",
       "      <td>1.0</td>\n",
       "      <td>0</td>\n",
       "      <td>0</td>\n",
       "      <td>1</td>\n",
       "      <td>0</td>\n",
       "    </tr>\n",
       "    <tr>\n",
       "      <th>11175</th>\n",
       "      <td>50</td>\n",
       "      <td>1971</td>\n",
       "      <td>10.372496</td>\n",
       "      <td>12.0</td>\n",
       "      <td>36.0</td>\n",
       "      <td>1296.0</td>\n",
       "      <td>1.0</td>\n",
       "      <td>0</td>\n",
       "      <td>0</td>\n",
       "      <td>1</td>\n",
       "      <td>0</td>\n",
       "    </tr>\n",
       "  </tbody>\n",
       "</table>\n",
       "</div>"
      ],
      "text/plain": [
       "       id68  year        lnw  hyrsed   age    age2  hrace  Black  Other race  \\\n",
       "11161   402  1971  11.049758    12.0  51.0  2601.0    1.0      0           0   \n",
       "11164   461  1971  10.028399     5.0  55.0  3025.0    1.0      0           0   \n",
       "11166  1126  1971  10.286634    16.0  25.0   625.0    1.0      0           0   \n",
       "11173   284  1971  11.250072    16.0  39.0  1521.0    1.0      0           0   \n",
       "11175    50  1971  10.372496    12.0  36.0  1296.0    1.0      0           0   \n",
       "\n",
       "       White  Hispanic  \n",
       "11161      1         0  \n",
       "11164      1         0  \n",
       "11166      1         0  \n",
       "11173      1         0  \n",
       "11175      1         0  "
      ]
     },
     "execution_count": 128,
     "metadata": {},
     "output_type": "execute_result"
    }
   ],
   "source": [
    "df_variables.head()"
   ]
  },
  {
   "cell_type": "code",
   "execution_count": 141,
   "metadata": {},
   "outputs": [],
   "source": [
    "def setup(year, dataset):\n",
    "    df_t = dataset[dataset['year']==year]\n",
    "    y = df_t['lnw']\n",
    "    X = pd.DataFrame(df_t, columns=['hyrsed','age','age2','Black','Hispanic','Other race'])\n",
    "    \n",
    "    return y, X\n",
    "    "
   ]
  },
  {
   "cell_type": "markdown",
   "metadata": {},
   "source": [
    "I choose poisson distribution to be the probability distribution that generates the data. Therefore, the function is:\n",
    "$$\n",
    "f(x) = \\frac{u^y}{y!} e^{-u}\n",
    "$$\n",
    "In the regression model, \n",
    "$$\n",
    "u_i = \\beta_0 + \\beta_1 x_i1 + \\beta_2 x_i2 + …… + \\beta_n x_in\n",
    "$$\n",
    "\n",
    "The joint pmf is:\n",
    "$$\n",
    "f(y_1, y_2, ...., y_n| x_1, x_2, .... , x_n; \\beta) = \\prod^n_{i=1} \\frac{u_i^{y_i}}{y_i!} e^{-u_i}\n",
    "$$\n",
    "\n",
    "The likelihood function is the same as the joint pmf, but treats the parametes $\\beta$ as a random variable and takes the observations $(y_i,x_i)$ as given\n",
    "$$\\mathcal{L}(\\beta|y_1, y_2, ……, y_n; x_1, x_2, .... , x_n) = \\prod^n_{i=1} \\frac{u_i^{y_i}}{y_i!} e^{-u_i} \\\\\n",
    "= f(y_1, y_2, ...., y_n| x_1, x_2, .... , x_n; \\beta) $$\n",
    "\n",
    "<br>\n",
    "  \n",
    "$$\n",
    "\\hat \\beta = \\mathop{max}\\limits_{\\beta} \\mathcal{L}(\\beta) \\\\\n",
    "\\hat \\beta = \\mathop{max}\\limits_{\\beta}log\\mathcal{L}(\\beta) \\\\\n",
    "= \\mathop{max}\\limits_{\\beta}(\\sum^n_{i=1} y_i log u_i - \\sum^n_{i=1} u_i - \\sum^n_{i=1} log y!)\n",
    "$$"
   ]
  },
  {
   "cell_type": "code",
   "execution_count": 300,
   "metadata": {},
   "outputs": [],
   "source": [
    "def reg(year, dataset, beta0):\n",
    "    \n",
    "    y, X = setup(year, dataset)\n",
    "    \n",
    "    def costFunction(beta, y, X):\n",
    "        \n",
    "        \n",
    "        n, k = X.shape\n",
    "        y = np.array(y)\n",
    "        y = y.reshape(n,1)\n",
    "        beta = beta.reshape(k,1)\n",
    "        u = X@beta\n",
    "        \n",
    "        # return the function that we want to minimize\n",
    "        return -np.sum(y * np.log(u) - u - np.log(factorial(y)))\n",
    "    \n",
    "    res = opt.minimize(costFunction, beta0, args=(y,X), method ='L-BFGS-B',\n",
    "                     tol=1e-15, options={'maxiter': 5000}) \n",
    "    return res"
   ]
  },
  {
   "cell_type": "code",
   "execution_count": 303,
   "metadata": {},
   "outputs": [
    {
     "name": "stderr",
     "output_type": "stream",
     "text": [
      "/opt/miniconda3/lib/python3.7/site-packages/ipykernel_launcher.py:15: RuntimeWarning: overflow encountered in log\n",
      "  from ipykernel import kernelapp as app\n",
      "/opt/miniconda3/lib/python3.7/site-packages/ipykernel_launcher.py:15: RuntimeWarning: invalid value encountered in log\n",
      "  from ipykernel import kernelapp as app\n"
     ]
    },
    {
     "name": "stdout",
     "output_type": "stream",
     "text": [
      "The estimate for year 1971 is: \n",
      " [ 0.45597721  0.0051746  -0.16198892  0.24718822  0.00896086  0.94945311]\n",
      "If the years of eduction increase by 1, the annual income of the head will increase by 45.59772050736522%\n",
      "\n",
      "The estimate for year 1980 is: \n",
      " [ 0.45466351  0.00416802 -0.1619548   0.2471872   0.00896086  0.94945461]\n",
      "If the years of eduction increase by 1, the annual income of the head will increase by 45.466350553183226%\n",
      "\n",
      "The estimate for year 1990 is: \n",
      " [ 0.45436018  0.00408386 -0.16195017  0.24719266  0.00896086  0.9494593 ]\n",
      "If the years of eduction increase by 1, the annual income of the head will increase by 45.43601835759395%\n",
      "\n",
      "The estimate for year 2000 is: \n",
      " [ 0.45527557  0.00545288 -0.16199017  0.24719753  0.00896086  0.94944712]\n",
      "If the years of eduction increase by 1, the annual income of the head will increase by 45.52755731073274%\n",
      "\n"
     ]
    }
   ],
   "source": [
    "t = [1971, 1980, 1990, 2000]\n",
    "# randomly choose the initial guess\n",
    "beta_initial = np.random.rand(6)\n",
    "\n",
    "beta1 = []\n",
    "\n",
    "for year in t:\n",
    "    res = reg(year, df_variables,beta_initial)\n",
    "    print('The estimate for year {} is: \\n {}'.format(year, res.x))\n",
    "    \n",
    "    coef1 = res.x[0]*100\n",
    "    \n",
    "    # interpret the coefficient beta1\n",
    "    print('If the years of eduction increase by 1, the annual income of the head will increase by {}%\\n'.format(coef1))\n",
    "    \n",
    "    beta1.append(coef1)"
   ]
  },
  {
   "cell_type": "code",
   "execution_count": 304,
   "metadata": {},
   "outputs": [
    {
     "data": {
      "image/png": "[encoded data removed]",
      "text/plain": [
       "<Figure size 432x288 with 1 Axes>"
      ]
     },
     "metadata": {
      "needs_background": "light"
     },
     "output_type": "display_data"
    }
   ],
   "source": [
    "plt.plot(t, beta1)\n",
    "plt.title('The change of coefficient beta1 over time')\n",
    "plt.xlabel('year')\n",
    "plt.ylabel('beta1(%)')\n",
    "plt.show()"
   ]
  },
  {
   "cell_type": "markdown",
   "metadata": {},
   "source": [
    "## Interpretation of the coefficient $\\beta_1$\n",
    "The effect of eduction on annual income was strongest in year 1971, then it decreased gradually until it reached the lowest level in 1990. After this, the effect becomes stronger in 2000. "
   ]
  },
  {
   "cell_type": "code",
   "execution_count": null,
   "metadata": {},
   "outputs": [],
   "source": []
  }
 ],
 "metadata": {
  "kernelspec": {
   "display_name": "Python 3",
   "language": "python",
   "name": "python3"
  },
  "language_info": {
   "codemirror_mode": {
    "name": "ipython",
    "version": 3
   },
   "file_extension": ".py",
   "mimetype": "text/x-python",
   "name": "python",
   "nbconvert_exporter": "python",
   "pygments_lexer": "ipython3",
   "version": "3.7.7"
  }
 },
 "nbformat": 4,
 "nbformat_minor": 4
}
